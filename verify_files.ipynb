{
 "cells": [
  {
   "cell_type": "code",
   "execution_count": 1,
   "id": "cae148c8-8cce-4207-9153-54a870bbae10",
   "metadata": {},
   "outputs": [],
   "source": [
    "import os\n",
    "import numpy as np\n",
    "import rasterio\n",
    "import matplotlib.image\n",
    "\n",
    "from pathlib import Path\n"
   ]
  },
  {
   "cell_type": "code",
   "execution_count": 2,
   "id": "2b3cfb9e-6abd-470f-8fb2-1dbc2eb1712f",
   "metadata": {},
   "outputs": [],
   "source": [
    "files = {}\n",
    "\n",
    "for f in os.listdir(\"data\"):\n",
    "    if \".jp2\" in f:\n",
    "        parts = f.split(\"_\")\n",
    "        if parts[0] not in files:\n",
    "            files[parts[0]] = {}\n",
    "        if parts[1] not in files[parts[0]]:\n",
    "            files[parts[0]][parts[1]] = {}\n",
    "        files[parts[0]][parts[1]][parts[2]] = f\"data/{f}\"\n"
   ]
  },
  {
   "cell_type": "code",
   "execution_count": 3,
   "id": "a4800744-ead8-464f-b6c1-9568517908b8",
   "metadata": {},
   "outputs": [],
   "source": [
    "dates = []\n",
    "for f in files.values():\n",
    "    dates += list(f.keys())\n",
    "dates = sorted(list(set(dates)))\n",
    "    "
   ]
  },
  {
   "cell_type": "code",
   "execution_count": null,
   "id": "ff9229dd-064e-449b-8951-ac96c8b3e454",
   "metadata": {},
   "outputs": [
    {
     "name": "stdout",
     "output_type": "stream",
     "text": [
      "20150704T101006 0 1499\n",
      "'data/T34VEL_20150704T101006_B04_10m.jp2' not recognized as being in a supported file format. REMOVED data/T34VEL_20150704T101006_B04_10m.jp2\n",
      "'data/T34VEM_20150704T101006_B04_10m.jp2' not recognized as being in a supported file format. REMOVED data/T34VEM_20150704T101006_B04_10m.jp2\n",
      "'data/T34VDM_20150704T101006_SCL_20m.jp2' not recognized as being in a supported file format. REMOVED data/T34VDM_20150704T101006_SCL_20m.jp2\n",
      "'data/T34VDM_20150704T101006_B08_10m.jp2' not recognized as being in a supported file format. REMOVED data/T34VDM_20150704T101006_B08_10m.jp2\n",
      "'data/T34VDM_20150704T101006_B04_10m.jp2' not recognized as being in a supported file format. REMOVED data/T34VDM_20150704T101006_B04_10m.jp2\n",
      "20150711T100006 1 1499\n",
      "'data/T34VDH_20150711T100006_B08_10m.jp2' not recognized as being in a supported file format. REMOVED data/T34VDH_20150711T100006_B08_10m.jp2\n"
     ]
    }
   ],
   "source": [
    "ct = 0\n",
    "for d in dates:\n",
    "    print(d, ct, len(dates))\n",
    "    ct += 1\n",
    "    for ki, vi in files.items():\n",
    "        if d in vi:\n",
    "            fj = vi[d]\n",
    "            if \"SCL\" in fj:\n",
    "                try:\n",
    "                    rasterio.open(fj[\"SCL\"], driver=\"JP2OpenJPEG\").read(1)\n",
    "                except BaseException as e:\n",
    "                    if os.path.isfile(fj[\"SCL\"]):\n",
    "                        print(e, \"REMOVED\", fj[\"SCL\"])\n",
    "                        os.remove(fj[\"SCL\"])\n",
    "            if \"B08\" in fj:\n",
    "                try:\n",
    "                    rasterio.open(fj[\"B08\"], driver=\"JP2OpenJPEG\").read(1)\n",
    "                except BaseException as e:\n",
    "                    if os.path.isfile(fj[\"B08\"]):\n",
    "                        print(e, \"REMOVED\", fj[\"B08\"])\n",
    "                        os.remove(fj[\"B08\"])\n",
    "            if \"B04\" in fj:\n",
    "                try:\n",
    "                    rasterio.open(fj[\"B04\"], driver=\"JP2OpenJPEG\").read(1)\n",
    "                except BaseException as e:\n",
    "                    if os.path.isfile(fj[\"B04\"]):\n",
    "                        print(e, \"REMOVED\", fj[\"B04\"])\n",
    "                        os.remove(fj[\"B04\"])\n",
    "            if \"B03\" in fj:\n",
    "                try:\n",
    "                    rasterio.open(fj[\"B03\"], driver=\"JP2OpenJPEG\").read(1)          \n",
    "                except BaseException as e:\n",
    "                    if os.path.isfile(fj[\"B03\"]):\n",
    "                        print(e, \"REMOVED\", fj[\"B03\"])\n",
    "                        os.remove(fj[\"B03\"])\n",
    "            if \"B02\" in fj:\n",
    "                try:\n",
    "                    rasterio.open(fj[\"B02\"], driver=\"JP2OpenJPEG\").read(1)\n",
    "                except BaseException as e:\n",
    "                    if os.path.isfile(fj[\"B02\"]):\n",
    "                        print(e, \"REMOVED\", fj[\"B02\"])\n",
    "                        os.remove(fj[\"B02\"])\n"
   ]
  },
  {
   "cell_type": "code",
   "execution_count": null,
   "id": "79f2f796-9d3f-4d60-ab73-aca701ff5448",
   "metadata": {},
   "outputs": [],
   "source": []
  }
 ],
 "metadata": {
  "kernelspec": {
   "display_name": "Python 3 (ipykernel)",
   "language": "python",
   "name": "python3"
  },
  "language_info": {
   "codemirror_mode": {
    "name": "ipython",
    "version": 3
   },
   "file_extension": ".py",
   "mimetype": "text/x-python",
   "name": "python",
   "nbconvert_exporter": "python",
   "pygments_lexer": "ipython3",
   "version": "3.13.2"
  }
 },
 "nbformat": 4,
 "nbformat_minor": 5
}
