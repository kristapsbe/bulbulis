{
 "cells": [
  {
   "cell_type": "code",
   "execution_count": 1,
   "id": "cae148c8-8cce-4207-9153-54a870bbae10",
   "metadata": {},
   "outputs": [],
   "source": [
    "import os\n",
    "import numpy as np\n",
    "import rasterio\n",
    "import matplotlib.image\n",
    "\n",
    "from pathlib import Path\n"
   ]
  },
  {
   "cell_type": "code",
   "execution_count": 2,
   "id": "2b3cfb9e-6abd-470f-8fb2-1dbc2eb1712f",
   "metadata": {},
   "outputs": [],
   "source": [
    "files = {}\n",
    "\n",
    "for f in os.listdir(\"data\"):\n",
    "    if \".jp2\" in f:\n",
    "        parts = f.split(\"_\")\n",
    "        if parts[0] not in files:\n",
    "            files[parts[0]] = {}\n",
    "        if parts[1] not in files[parts[0]]:\n",
    "            files[parts[0]][parts[1]] = {}\n",
    "        files[parts[0]][parts[1]][parts[2]] = f\"data/{f}\"\n"
   ]
  },
  {
   "cell_type": "code",
   "execution_count": 3,
   "id": "a4800744-ead8-464f-b6c1-9568517908b8",
   "metadata": {},
   "outputs": [],
   "source": [
    "dates = []\n",
    "for f in files.values():\n",
    "    dates += list(f.keys())\n",
    "dates = sorted(list(set(dates)))\n",
    "    "
   ]
  },
  {
   "cell_type": "code",
   "execution_count": 1,
   "id": "3691cc29-5aae-4d91-90ee-ef8ded3f2c9c",
   "metadata": {},
   "outputs": [],
   "source": [
    "years_done = {'2015'}\n"
   ]
  },
  {
   "cell_type": "code",
   "execution_count": 4,
   "id": "ec560d7f-3fa6-43d9-bad3-ab85ef68d9df",
   "metadata": {},
   "outputs": [],
   "source": [
    "dates = [d for d in dates if d[:4] in years_done]\n"
   ]
  },
  {
   "cell_type": "code",
   "execution_count": null,
   "id": "ff9229dd-064e-449b-8951-ac96c8b3e454",
   "metadata": {},
   "outputs": [
    {
     "name": "stdout",
     "output_type": "stream",
     "text": [
      "20150704T101006 0 1538\n",
      "20150711T100006 1 1538\n",
      "20150715T094306 2 1538\n",
      "20150716T091006 3 1538\n",
      "20150724T101006 4 1538\n",
      "20150725T094006 5 1538\n",
      "20150726T091006 6 1538\n",
      "20150728T095006 7 1538\n",
      "20150729T092006 8 1538\n",
      "20150731T100006 9 1538\n",
      "20150801T093006 10 1538\n",
      "20150803T101016 11 1538\n",
      "20150804T094006 12 1538\n",
      "20150805T091006 13 1538\n",
      "20150807T095006 14 1538\n",
      "20150808T092006 15 1538\n",
      "20150810T100016 16 1538\n",
      "20150811T093006 17 1538\n",
      "20150813T101026 18 1538\n",
      "20150814T094006 19 1538\n",
      "20150815T091006 20 1538\n",
      "20150817T095016 21 1538\n",
      "20150818T092006 22 1538\n",
      "20150820T100016 23 1538\n",
      "20150821T093006 24 1538\n",
      "20150823T101016 25 1538\n",
      "20150824T094006 26 1538\n",
      "20150825T091006 27 1538\n",
      "20150827T095016 28 1538\n",
      "20150828T092006 29 1538\n",
      "20150830T100016 30 1538\n",
      "20150831T093006 31 1538\n",
      "20150902T101026 32 1538\n",
      "20150903T094006 33 1538\n",
      "20150904T090726 34 1538\n",
      "20150909T100016 35 1538\n",
      "20150910T092726 36 1538\n",
      "20150912T101026 37 1538\n",
      "20150913T094016 38 1538\n",
      "20150914T090726 39 1538\n",
      "20150916T095016 40 1538\n",
      "20150919T100016 41 1538\n",
      "20150923T094016 42 1538\n",
      "20150924T090726 43 1538\n",
      "20150929T100016 44 1538\n",
      "20150930T092946 45 1538\n"
     ]
    }
   ],
   "source": [
    "ct = 0\n",
    "for d in dates:\n",
    "    print(d, ct, len(dates))\n",
    "    ct += 1\n",
    "    for ki, vi in files.items():\n",
    "        if d in vi:\n",
    "            fj = vi[d]\n",
    "            if \"SCL\" in fj:\n",
    "                try:\n",
    "                    rasterio.open(fj[\"SCL\"], driver=\"JP2OpenJPEG\").read(1)\n",
    "                except BaseException as e:\n",
    "                    if os.path.isfile(fj[\"SCL\"]):\n",
    "                        print(e, \"REMOVED\", fj[\"SCL\"])\n",
    "                        os.remove(fj[\"SCL\"])\n",
    "            if \"B08\" in fj:\n",
    "                try:\n",
    "                    rasterio.open(fj[\"B08\"], driver=\"JP2OpenJPEG\").read(1)\n",
    "                except BaseException as e:\n",
    "                    if os.path.isfile(fj[\"B08\"]):\n",
    "                        print(e, \"REMOVED\", fj[\"B08\"])\n",
    "                        os.remove(fj[\"B08\"])\n",
    "            if \"B04\" in fj:\n",
    "                try:\n",
    "                    rasterio.open(fj[\"B04\"], driver=\"JP2OpenJPEG\").read(1)\n",
    "                except BaseException as e:\n",
    "                    if os.path.isfile(fj[\"B04\"]):\n",
    "                        print(e, \"REMOVED\", fj[\"B04\"])\n",
    "                        os.remove(fj[\"B04\"])\n",
    "            if \"B03\" in fj:\n",
    "                try:\n",
    "                    rasterio.open(fj[\"B03\"], driver=\"JP2OpenJPEG\").read(1)          \n",
    "                except BaseException as e:\n",
    "                    if os.path.isfile(fj[\"B03\"]):\n",
    "                        print(e, \"REMOVED\", fj[\"B03\"])\n",
    "                        os.remove(fj[\"B03\"])\n",
    "            if \"B02\" in fj:\n",
    "                try:\n",
    "                    rasterio.open(fj[\"B02\"], driver=\"JP2OpenJPEG\").read(1)\n",
    "                except BaseException as e:\n",
    "                    if os.path.isfile(fj[\"B02\"]):\n",
    "                        print(e, \"REMOVED\", fj[\"B02\"])\n",
    "                        os.remove(fj[\"B02\"])\n"
   ]
  },
  {
   "cell_type": "code",
   "execution_count": null,
   "id": "79f2f796-9d3f-4d60-ab73-aca701ff5448",
   "metadata": {},
   "outputs": [],
   "source": []
  }
 ],
 "metadata": {
  "kernelspec": {
   "display_name": "Python 3 (ipykernel)",
   "language": "python",
   "name": "python3"
  },
  "language_info": {
   "codemirror_mode": {
    "name": "ipython",
    "version": 3
   },
   "file_extension": ".py",
   "mimetype": "text/x-python",
   "name": "python",
   "nbconvert_exporter": "python",
   "pygments_lexer": "ipython3",
   "version": "3.13.2"
  }
 },
 "nbformat": 4,
 "nbformat_minor": 5
}
