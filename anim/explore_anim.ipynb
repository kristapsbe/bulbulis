{
 "cells": [
  {
   "cell_type": "code",
   "execution_count": 23,
   "id": "7d6ca26c-6ab6-4387-917a-0e3cc22e0d30",
   "metadata": {},
   "outputs": [],
   "source": [
    "import os\n",
    "import PIL\n",
    "\n",
    "from PIL import Image, ImageDraw\n"
   ]
  },
  {
   "cell_type": "code",
   "execution_count": 24,
   "id": "064ed629-b4bf-44a4-85fc-d827607f9b09",
   "metadata": {},
   "outputs": [],
   "source": [
    "frames = sorted(list(set(os.listdir(\"forest_frames\")) & set(os.listdir(\"true_color_frames\"))))\n"
   ]
  },
  {
   "cell_type": "code",
   "execution_count": 25,
   "id": "58bb9bf3-1783-4594-ad3e-e2046fe0bd3e",
   "metadata": {},
   "outputs": [
    {
     "data": {
      "text/plain": [
       "['20210106.jpeg',\n",
       " '20210115.jpeg',\n",
       " '20210201.jpeg',\n",
       " '20210215.jpeg',\n",
       " '20210301.jpeg',\n",
       " '20210315.jpeg',\n",
       " '20210501.jpeg',\n",
       " '20210805.jpeg',\n",
       " '20210901.jpeg',\n",
       " '20211002.jpeg',\n",
       " '20211101.jpeg',\n",
       " '20211205.jpeg',\n",
       " '20220102.jpeg',\n",
       " '20220301.jpeg',\n",
       " '20220401.jpeg',\n",
       " '20220515.jpeg',\n",
       " '20220604.jpeg',\n",
       " '20220701.jpeg',\n",
       " '20220904.jpeg',\n",
       " '20221001.jpeg',\n",
       " '20221015.jpeg',\n",
       " '20221216.jpeg']"
      ]
     },
     "execution_count": 25,
     "metadata": {},
     "output_type": "execute_result"
    }
   ],
   "source": [
    "frames\n"
   ]
  },
  {
   "cell_type": "code",
   "execution_count": 26,
   "id": "72bd9ce9-3667-4281-b24d-19ef73b0c3b4",
   "metadata": {},
   "outputs": [],
   "source": [
    "PIL.Image.MAX_IMAGE_PIXELS = 1976048800\n"
   ]
  },
  {
   "cell_type": "code",
   "execution_count": 27,
   "id": "6f38fe4d-2033-418b-9b7e-2b76d647e4b4",
   "metadata": {},
   "outputs": [
    {
     "name": "stdout",
     "output_type": "stream",
     "text": [
      "forest_frames/20210106.jpeg\n",
      "forest_frames/20210115.jpeg\n",
      "forest_frames/20210201.jpeg\n",
      "forest_frames/20210215.jpeg\n",
      "forest_frames/20210301.jpeg\n",
      "forest_frames/20210315.jpeg\n",
      "forest_frames/20210501.jpeg\n",
      "forest_frames/20210805.jpeg\n",
      "forest_frames/20210901.jpeg\n",
      "forest_frames/20211002.jpeg\n",
      "forest_frames/20211101.jpeg\n",
      "forest_frames/20211205.jpeg\n",
      "forest_frames/20220102.jpeg\n",
      "forest_frames/20220301.jpeg\n",
      "forest_frames/20220401.jpeg\n",
      "forest_frames/20220515.jpeg\n",
      "forest_frames/20220604.jpeg\n",
      "forest_frames/20220701.jpeg\n",
      "forest_frames/20220904.jpeg\n",
      "forest_frames/20221001.jpeg\n",
      "forest_frames/20221015.jpeg\n",
      "forest_frames/20221216.jpeg\n",
      "true_color_frames/20210106.jpeg\n",
      "true_color_frames/20210115.jpeg\n",
      "true_color_frames/20210201.jpeg\n",
      "true_color_frames/20210215.jpeg\n",
      "true_color_frames/20210301.jpeg\n",
      "true_color_frames/20210315.jpeg\n",
      "true_color_frames/20210501.jpeg\n",
      "true_color_frames/20210805.jpeg\n",
      "true_color_frames/20210901.jpeg\n",
      "true_color_frames/20211002.jpeg\n",
      "true_color_frames/20211101.jpeg\n",
      "true_color_frames/20211205.jpeg\n",
      "true_color_frames/20220102.jpeg\n",
      "true_color_frames/20220301.jpeg\n",
      "true_color_frames/20220401.jpeg\n",
      "true_color_frames/20220515.jpeg\n",
      "true_color_frames/20220604.jpeg\n",
      "true_color_frames/20220701.jpeg\n",
      "true_color_frames/20220904.jpeg\n",
      "true_color_frames/20221001.jpeg\n",
      "true_color_frames/20221015.jpeg\n",
      "true_color_frames/20221216.jpeg\n"
     ]
    }
   ],
   "source": [
    "output_gif_path = 'anim.gif'\n",
    "frames_list = []\n",
    "\n",
    "for folder in [\"forest_frames\", \"true_color_frames\"]:\n",
    "    for f in frames:\n",
    "        print(f\"{folder}/{f}\")\n",
    "        im = Image.open(f\"{folder}/{f}\")\n",
    "        im.resize((im.size[0]//50, im.size[1]//50)).save(f\"{folder}_small/{f}\") \n",
    "        "
   ]
  },
  {
   "cell_type": "code",
   "execution_count": null,
   "id": "6d8630a1-160f-46ef-a767-d4f5559f4dfb",
   "metadata": {},
   "outputs": [],
   "source": []
  },
  {
   "cell_type": "code",
   "execution_count": 30,
   "id": "57897980-20e5-47e3-9e25-ce81a9f0489c",
   "metadata": {},
   "outputs": [
    {
     "name": "stdout",
     "output_type": "stream",
     "text": [
      "20210106.jpeg\n",
      "20210115.jpeg\n",
      "20210201.jpeg\n",
      "20210215.jpeg\n",
      "20210301.jpeg\n",
      "20210315.jpeg\n",
      "20210501.jpeg\n",
      "20210805.jpeg\n",
      "20210901.jpeg\n",
      "20211002.jpeg\n",
      "20211101.jpeg\n",
      "20211205.jpeg\n",
      "20220102.jpeg\n",
      "20220301.jpeg\n",
      "20220401.jpeg\n",
      "20220515.jpeg\n",
      "20220604.jpeg\n",
      "20220701.jpeg\n",
      "20220904.jpeg\n",
      "20221001.jpeg\n",
      "20221015.jpeg\n",
      "20221216.jpeg\n"
     ]
    }
   ],
   "source": [
    "output_gif_path = 'new_anim.gif'\n",
    "frames_list = []\n",
    "\n",
    "i = 0\n",
    "for f in frames:\n",
    "    print(f)\n",
    "    true_color = image_file = Image.open(f\"true_color_frames_small/{f}\")\n",
    "    forest = image_file = Image.open(f\"forest_frames_small/{f}\")\n",
    "\n",
    "    w = true_color.size[0] + forest.size[0]\n",
    "    h = max(true_color.size[1], forest.size[1])\n",
    "\n",
    "    im = Image.new(\"RGBA\", (w, h))\n",
    "\n",
    "    im.paste(true_color)\n",
    "    im.paste(forest, (true_color.size[0], 0))\n",
    "\n",
    "    lh = h//10\n",
    "    loading = Image.new('RGBA', (w, lh), color='white')\n",
    "    draw = ImageDraw.Draw(loading)\n",
    "    draw.rectangle([0, 0, w, lh], outline='black', width=2)\n",
    "    progress_width = (i+1)*(w-4)//len(frames)\n",
    "    draw.rectangle([2, 2, progress_width+2, lh-2], outline='blue', fill='blue')\n",
    "    draw.text((w//2, lh//2), f.split(\".\")[0], fill=\"black\", anchor=\"mm\", font_size=60)\n",
    "    \n",
    "    im2 = Image.new(\"RGBA\", (w, h+lh))\n",
    "    im2.paste(im)\n",
    "    im2.paste(loading, (0, im.size[1]))\n",
    "    \n",
    "    frames_list.append(im2)\n",
    "    frames_list.append(im2)\n",
    "    frames_list.append(im2)\n",
    "    #frames_list.append(im2)\n",
    "    #frames_list.append(im2)\n",
    "\n",
    "    i += 1\n",
    "    "
   ]
  },
  {
   "cell_type": "code",
   "execution_count": 31,
   "id": "61cbb3f9-d436-4864-8f90-9ff79b921c50",
   "metadata": {},
   "outputs": [],
   "source": [
    "frames_list[0].save(output_gif_path, save_all=True, append_images=frames_list[1:], duration=len(frames)*3, loop=0)\n"
   ]
  },
  {
   "cell_type": "code",
   "execution_count": null,
   "id": "04618e27-3cce-49e2-8188-b9d7aa2ab1be",
   "metadata": {},
   "outputs": [],
   "source": []
  },
  {
   "cell_type": "code",
   "execution_count": 2,
   "id": "115cab39-5bce-48fb-b1f5-c42903afd4e6",
   "metadata": {},
   "outputs": [],
   "source": [
    "width, height = 300, 50\n",
    "frames = 100\n",
    "output_gif_path = 'progress_bar.gif'\n"
   ]
  },
  {
   "cell_type": "code",
   "execution_count": null,
   "id": "c8929658-3a15-471b-9cb9-e79404a8ce77",
   "metadata": {},
   "outputs": [],
   "source": []
  },
  {
   "cell_type": "code",
   "execution_count": 4,
   "id": "2e438166-9647-4c66-b07b-ff492e186f0c",
   "metadata": {},
   "outputs": [],
   "source": [
    "frames_list = []\n",
    "\n",
    "for i in range(frames):\n",
    "    # Create a blank image\n",
    "    img = Image.new('RGB', (width, height), color='white')\n",
    "    draw = ImageDraw.Draw(img)\n",
    "\n",
    "    # Draw the progress bar background\n",
    "    draw.rectangle([0, 0, width, height], outline='black', width=2)\n",
    "\n",
    "    # Calculate the progress bar width based on the current frame\n",
    "    progress_width = (i + 1) * (width - 4) // frames\n",
    "\n",
    "    # Draw the progress bar\n",
    "    draw.rectangle([2, 2, progress_width + 2, height - 2], outline='blue', fill='blue')\n",
    "\n",
    "    # Append the frame to the list\n",
    "    frames_list.append(img)\n",
    "    "
   ]
  },
  {
   "cell_type": "code",
   "execution_count": 5,
   "id": "cbaf216d-9b07-4957-856e-8c768f8fea38",
   "metadata": {},
   "outputs": [],
   "source": [
    "frames_list[0].save(output_gif_path, save_all=True, append_images=frames_list[1:], duration=50, loop=0)\n"
   ]
  },
  {
   "cell_type": "code",
   "execution_count": null,
   "id": "98ac5f8a-4147-48c2-b55a-ccc1df3658e3",
   "metadata": {},
   "outputs": [],
   "source": []
  },
  {
   "cell_type": "code",
   "execution_count": null,
   "id": "e0a76cf6-d0fa-4269-9f5c-96574378179a",
   "metadata": {},
   "outputs": [],
   "source": [
    "image_path = \"image_name.jpeg\"\n",
    "image_file = Image.open(image_path) \n",
    "  \n",
    "# the default \n",
    "image_file.save(\"image_name.jpg\", quality=95) \n",
    "  \n",
    "# Changing the image resolution using quality parameter \n",
    "# Example-1 \n",
    "image_file.save(\"image_name2.jpg\", quality=25) \n",
    "  \n",
    "# Example-2 \n",
    "image_file.save(\"image_name3.jpg\", quality=1) \n"
   ]
  },
  {
   "cell_type": "code",
   "execution_count": null,
   "id": "7ef895bc-d589-4437-b21d-e58288c8c26b",
   "metadata": {},
   "outputs": [],
   "source": []
  }
 ],
 "metadata": {
  "kernelspec": {
   "display_name": "Python 3 (ipykernel)",
   "language": "python",
   "name": "python3"
  },
  "language_info": {
   "codemirror_mode": {
    "name": "ipython",
    "version": 3
   },
   "file_extension": ".py",
   "mimetype": "text/x-python",
   "name": "python",
   "nbconvert_exporter": "python",
   "pygments_lexer": "ipython3",
   "version": "3.13.2"
  }
 },
 "nbformat": 4,
 "nbformat_minor": 5
}
