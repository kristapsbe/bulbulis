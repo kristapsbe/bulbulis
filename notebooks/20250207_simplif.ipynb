{
 "cells": [
  {
   "cell_type": "code",
   "execution_count": 7,
   "id": "e6ab5a4b-f859-4e87-b3ca-798147cf1989",
   "metadata": {},
   "outputs": [],
   "source": [
    "import json\n",
    "import time\n",
    "import numpy as np\n",
    "import pandas as pd\n",
    "import requests\n",
    "import rasterio\n",
    "import itertools\n",
    "import matplotlib.image\n",
    "import matplotlib.pyplot as plt\n",
    "import xml.etree.ElementTree as ET\n",
    "\n",
    "from pathlib import Path\n",
    "from settings import username, password\n"
   ]
  },
  {
   "cell_type": "code",
   "execution_count": 8,
   "id": "84d1f80e-3dff-4f97-b503-41185c6ee04f",
   "metadata": {},
   "outputs": [],
   "source": [
    "catalogue_odata_url = \"https://catalogue.dataspace.copernicus.eu/odata/v1\"\n",
    "\n",
    "collection_name = \"SENTINEL-2\"\n",
    "product_type = \"S2MSI2A\"\n",
    "max_cloud_cover = 1\n",
    "corners = list(itertools.product([\"20.95\", \"28.25\"], [\"55.7\", \"58.05\"]))\n",
    "poly = [\" \".join(corners[i]) for i in [0, 2, 3, 1, 0]]\n",
    "aoi = f\"POLYGON(({\",\".join(poly)}))\"\n",
    "search_period_start = \"2015-06-23T00:00:00.000Z\"\n",
    "search_period_end = \"2025-02-25T00:00:00.000Z\"\n"
   ]
  },
  {
   "cell_type": "code",
   "execution_count": 9,
   "id": "b7d91e32-0a49-4dde-9df2-0ddd8081e17c",
   "metadata": {},
   "outputs": [
    {
     "name": "stdout",
     "output_type": "stream",
     "text": [
      "\n",
      "https://catalogue.dataspace.copernicus.eu/odata/v1/Products?$filter=Collection/Name%20eq%20'SENTINEL-2'%20and%20Attributes/OData.CSC.StringAttribute/any(att:att/Name%20eq%20'productType'%20and%20att/OData.CSC.StringAttribute/Value%20eq%20'S2MSI2A')%20and%20OData.CSC.Intersects(area=geography'SRID=4326;POLYGON((20.95%2055.7,28.25%2055.7,28.25%2058.05,20.95%2058.05,20.95%2055.7))')%20and%20ContentDate/Start%20gt%202015-06-23T00:00:00.000Z%20and%20ContentDate/Start%20lt%202025-02-25T00:00:00.000Z\n",
      "\n"
     ]
    }
   ],
   "source": [
    "search_query = f\"{catalogue_odata_url}/Products?$filter=Collection/Name eq '{collection_name}' and Attributes/OData.CSC.StringAttribute/any(att:att/Name eq 'productType' and att/OData.CSC.StringAttribute/Value eq '{product_type}') and OData.CSC.Intersects(area=geography'SRID=4326;{aoi}') and ContentDate/Start gt {search_period_start} and ContentDate/Start lt {search_period_end}\"\n",
    "\n",
    "print(f\"\"\"\\n{search_query.replace(' ', \"%20\")}\\n\"\"\")\n"
   ]
  },
  {
   "cell_type": "code",
   "execution_count": 10,
   "id": "581a3bca-e345-406a-86ec-b0810465ab8a",
   "metadata": {},
   "outputs": [
    {
     "name": "stdout",
     "output_type": "stream",
     "text": [
      "\n",
      "https://catalogue.dataspace.copernicus.eu/odata/v1/Products?$filter=Collection/Name%20eq%20'SENTINEL-2'%20and%20Attributes/OData.CSC.StringAttribute/any(att:att/Name%20eq%20'productType'%20and%20att/OData.CSC.StringAttribute/Value%20eq%20'S2MSI2A')%20and%20OData.CSC.Intersects(area=geography'SRID=4326;POLYGON((20.95%2055.7,28.25%2055.7,28.25%2058.05,20.95%2058.05,20.95%2055.7))')%20and%20ContentDate/Start%20gt%202015-06-23T00:00:00.000Z%20and%20ContentDate/Start%20lt%202025-02-25T00:00:00.000Z%20and%20Attributes/OData.CSC.DoubleAttribute/any(att:att/Name%20eq%20'cloudCover'%20and%20att/OData.CSC.DoubleAttribute/Value%20le%201)\n",
      "\n"
     ]
    },
    {
     "data": {
      "text/html": [
       "<div>\n",
       "<style scoped>\n",
       "    .dataframe tbody tr th:only-of-type {\n",
       "        vertical-align: middle;\n",
       "    }\n",
       "\n",
       "    .dataframe tbody tr th {\n",
       "        vertical-align: top;\n",
       "    }\n",
       "\n",
       "    .dataframe thead th {\n",
       "        text-align: right;\n",
       "    }\n",
       "</style>\n",
       "<table border=\"1\" class=\"dataframe\">\n",
       "  <thead>\n",
       "    <tr style=\"text-align: right;\">\n",
       "      <th></th>\n",
       "      <th>@odata.mediaContentType</th>\n",
       "      <th>Id</th>\n",
       "      <th>Name</th>\n",
       "      <th>ContentType</th>\n",
       "      <th>ContentLength</th>\n",
       "      <th>OriginDate</th>\n",
       "      <th>PublicationDate</th>\n",
       "      <th>ModificationDate</th>\n",
       "      <th>Online</th>\n",
       "      <th>EvictionDate</th>\n",
       "      <th>S3Path</th>\n",
       "      <th>Checksum</th>\n",
       "      <th>ContentDate</th>\n",
       "      <th>Footprint</th>\n",
       "      <th>GeoFootprint</th>\n",
       "    </tr>\n",
       "  </thead>\n",
       "  <tbody>\n",
       "    <tr>\n",
       "      <th>0</th>\n",
       "      <td>application/octet-stream</td>\n",
       "      <td>a41d5732-4d10-4a80-b6c2-7991ab63f78a</td>\n",
       "      <td>S2A_MSIL2A_20150824T094006_N0500_R036_T35VLE_2...</td>\n",
       "      <td>application/octet-stream</td>\n",
       "      <td>1040388874</td>\n",
       "      <td>2024-05-26T18:12:49.006000Z</td>\n",
       "      <td>2024-05-28T07:23:37.075528Z</td>\n",
       "      <td>2024-05-28T07:23:51.484844Z</td>\n",
       "      <td>True</td>\n",
       "      <td>9999-12-31T23:59:59.999999Z</td>\n",
       "      <td>/eodata/Sentinel-2/MSI/L2A_N0500/2015/08/24/S2...</td>\n",
       "      <td>[{'Value': 'c364750b105af3225abdbed66469cc42',...</td>\n",
       "      <td>{'Start': '2015-08-24T09:40:06.027000Z', 'End'...</td>\n",
       "      <td>geography'SRID=4326;POLYGON ((23.5582651071083...</td>\n",
       "      <td>{'type': 'Polygon', 'coordinates': [[[23.55826...</td>\n",
       "    </tr>\n",
       "    <tr>\n",
       "      <th>1</th>\n",
       "      <td>application/octet-stream</td>\n",
       "      <td>f42ac638-3aed-4c5d-8b6e-58d61441e644</td>\n",
       "      <td>S2A_MSIL2A_20150820T100016_N0500_R122_T34VEH_2...</td>\n",
       "      <td>application/octet-stream</td>\n",
       "      <td>577837187</td>\n",
       "      <td>2024-05-24T13:03:24.992000Z</td>\n",
       "      <td>2024-05-28T07:07:43.016136Z</td>\n",
       "      <td>2024-05-28T07:08:44.196565Z</td>\n",
       "      <td>True</td>\n",
       "      <td>9999-12-31T23:59:59.999999Z</td>\n",
       "      <td>/eodata/Sentinel-2/MSI/L2A_N0500/2015/08/20/S2...</td>\n",
       "      <td>[{'Value': 'ddbb400b7a4d5c03d96f4a1f4e3d02ad',...</td>\n",
       "      <td>{'Start': '2015-08-20T10:00:16.027000Z', 'End'...</td>\n",
       "      <td>geography'SRID=4326;POLYGON ((22.1390184793418...</td>\n",
       "      <td>{'type': 'Polygon', 'coordinates': [[[22.13901...</td>\n",
       "    </tr>\n",
       "    <tr>\n",
       "      <th>2</th>\n",
       "      <td>application/octet-stream</td>\n",
       "      <td>2d41740f-c4c9-4082-80b9-74e18dbfd630</td>\n",
       "      <td>S2A_MSIL2A_20150824T094006_N0500_R036_T34VFK_2...</td>\n",
       "      <td>application/octet-stream</td>\n",
       "      <td>790217119</td>\n",
       "      <td>2024-05-26T18:12:43.968000Z</td>\n",
       "      <td>2024-05-28T07:12:48.537986Z</td>\n",
       "      <td>2024-05-28T07:12:59.822987Z</td>\n",
       "      <td>True</td>\n",
       "      <td>9999-12-31T23:59:59.999999Z</td>\n",
       "      <td>/eodata/Sentinel-2/MSI/L2A_N0500/2015/08/24/S2...</td>\n",
       "      <td>[{'Value': '50fc38e2191bd20229c79d9eae058dcf',...</td>\n",
       "      <td>{'Start': '2015-08-24T09:40:06.027000Z', 'End'...</td>\n",
       "      <td>geography'SRID=4326;POLYGON ((22.6916835102274...</td>\n",
       "      <td>{'type': 'Polygon', 'coordinates': [[[22.69168...</td>\n",
       "    </tr>\n",
       "  </tbody>\n",
       "</table>\n",
       "</div>"
      ],
      "text/plain": [
       "    @odata.mediaContentType                                    Id  \\\n",
       "0  application/octet-stream  a41d5732-4d10-4a80-b6c2-7991ab63f78a   \n",
       "1  application/octet-stream  f42ac638-3aed-4c5d-8b6e-58d61441e644   \n",
       "2  application/octet-stream  2d41740f-c4c9-4082-80b9-74e18dbfd630   \n",
       "\n",
       "                                                Name  \\\n",
       "0  S2A_MSIL2A_20150824T094006_N0500_R036_T35VLE_2...   \n",
       "1  S2A_MSIL2A_20150820T100016_N0500_R122_T34VEH_2...   \n",
       "2  S2A_MSIL2A_20150824T094006_N0500_R036_T34VFK_2...   \n",
       "\n",
       "                ContentType  ContentLength                   OriginDate  \\\n",
       "0  application/octet-stream     1040388874  2024-05-26T18:12:49.006000Z   \n",
       "1  application/octet-stream      577837187  2024-05-24T13:03:24.992000Z   \n",
       "2  application/octet-stream      790217119  2024-05-26T18:12:43.968000Z   \n",
       "\n",
       "               PublicationDate             ModificationDate  Online  \\\n",
       "0  2024-05-28T07:23:37.075528Z  2024-05-28T07:23:51.484844Z    True   \n",
       "1  2024-05-28T07:07:43.016136Z  2024-05-28T07:08:44.196565Z    True   \n",
       "2  2024-05-28T07:12:48.537986Z  2024-05-28T07:12:59.822987Z    True   \n",
       "\n",
       "                  EvictionDate  \\\n",
       "0  9999-12-31T23:59:59.999999Z   \n",
       "1  9999-12-31T23:59:59.999999Z   \n",
       "2  9999-12-31T23:59:59.999999Z   \n",
       "\n",
       "                                              S3Path  \\\n",
       "0  /eodata/Sentinel-2/MSI/L2A_N0500/2015/08/24/S2...   \n",
       "1  /eodata/Sentinel-2/MSI/L2A_N0500/2015/08/20/S2...   \n",
       "2  /eodata/Sentinel-2/MSI/L2A_N0500/2015/08/24/S2...   \n",
       "\n",
       "                                            Checksum  \\\n",
       "0  [{'Value': 'c364750b105af3225abdbed66469cc42',...   \n",
       "1  [{'Value': 'ddbb400b7a4d5c03d96f4a1f4e3d02ad',...   \n",
       "2  [{'Value': '50fc38e2191bd20229c79d9eae058dcf',...   \n",
       "\n",
       "                                         ContentDate  \\\n",
       "0  {'Start': '2015-08-24T09:40:06.027000Z', 'End'...   \n",
       "1  {'Start': '2015-08-20T10:00:16.027000Z', 'End'...   \n",
       "2  {'Start': '2015-08-24T09:40:06.027000Z', 'End'...   \n",
       "\n",
       "                                           Footprint  \\\n",
       "0  geography'SRID=4326;POLYGON ((23.5582651071083...   \n",
       "1  geography'SRID=4326;POLYGON ((22.1390184793418...   \n",
       "2  geography'SRID=4326;POLYGON ((22.6916835102274...   \n",
       "\n",
       "                                        GeoFootprint  \n",
       "0  {'type': 'Polygon', 'coordinates': [[[23.55826...  \n",
       "1  {'type': 'Polygon', 'coordinates': [[[22.13901...  \n",
       "2  {'type': 'Polygon', 'coordinates': [[[22.69168...  "
      ]
     },
     "execution_count": 10,
     "metadata": {},
     "output_type": "execute_result"
    }
   ],
   "source": [
    "# filter by cloud coverage\n",
    "search_query = f\"{search_query} and Attributes/OData.CSC.DoubleAttribute/any(att:att/Name eq 'cloudCover' and att/OData.CSC.DoubleAttribute/Value le {max_cloud_cover})\"\n",
    "print(f\"\"\"\\n{search_query.replace(' ', \"%20\")}\\n\"\"\")\n",
    "\n",
    "response = requests.get(search_query).json()\n",
    "result = pd.DataFrame.from_dict(response[\"value\"])\n",
    "\n",
    "result.head(3)\n"
   ]
  },
  {
   "cell_type": "code",
   "execution_count": 11,
   "id": "3809c366-a8a6-40e6-bd48-204196a3fc2a",
   "metadata": {},
   "outputs": [],
   "source": [
    "auth_server_url = \"https://identity.dataspace.copernicus.eu/auth/realms/CDSE/protocol/openid-connect/token\"\n",
    "data = {\n",
    "    \"client_id\": \"cdse-public\",\n",
    "    \"grant_type\": \"password\",\n",
    "    \"username\": username,\n",
    "    \"password\": password,\n",
    "}\n"
   ]
  },
  {
   "cell_type": "code",
   "execution_count": null,
   "id": "6b056241-dc39-4f5b-a4fd-d8ea6fd51bec",
   "metadata": {},
   "outputs": [
    {
     "name": "stdout",
     "output_type": "stream",
     "text": [
      "https://catalogue.dataspace.copernicus.eu/odata/v1/Products(a41d5732-4d10-4a80-b6c2-7991ab63f78a)/Nodes(S2A_MSIL2A_20150824T094006_N0500_R036_T35VLE_20231011T074456.SAFE)/Nodes(MTD_MSIL2A.xml)/$value\n",
      "<Response [200]>\n"
     ]
    },
    {
     "name": "stderr",
     "output_type": "stream",
     "text": [
      "/home/kristaps/Projs/bulbulis/.venv/lib64/python3.13/site-packages/urllib3/connectionpool.py:1097: InsecureRequestWarning: Unverified HTTPS request is being made to host 'download.dataspace.copernicus.eu'. Adding certificate verification is strongly advised. See: https://urllib3.readthedocs.io/en/latest/advanced-usage.html#tls-warnings\n",
      "  warnings.warn(\n",
      "/home/kristaps/Projs/bulbulis/.venv/lib64/python3.13/site-packages/urllib3/connectionpool.py:1097: InsecureRequestWarning: Unverified HTTPS request is being made to host 'download.dataspace.copernicus.eu'. Adding certificate verification is strongly advised. See: https://urllib3.readthedocs.io/en/latest/advanced-usage.html#tls-warnings\n",
      "  warnings.warn(\n"
     ]
    },
    {
     "name": "stdout",
     "output_type": "stream",
     "text": [
      "Saved: T35VLE_20150824T094006_B02_10m.jp2\n"
     ]
    },
    {
     "name": "stderr",
     "output_type": "stream",
     "text": [
      "/home/kristaps/Projs/bulbulis/.venv/lib64/python3.13/site-packages/urllib3/connectionpool.py:1097: InsecureRequestWarning: Unverified HTTPS request is being made to host 'download.dataspace.copernicus.eu'. Adding certificate verification is strongly advised. See: https://urllib3.readthedocs.io/en/latest/advanced-usage.html#tls-warnings\n",
      "  warnings.warn(\n"
     ]
    },
    {
     "name": "stdout",
     "output_type": "stream",
     "text": [
      "Saved: T35VLE_20150824T094006_B03_10m.jp2\n"
     ]
    },
    {
     "name": "stderr",
     "output_type": "stream",
     "text": [
      "/home/kristaps/Projs/bulbulis/.venv/lib64/python3.13/site-packages/urllib3/connectionpool.py:1097: InsecureRequestWarning: Unverified HTTPS request is being made to host 'download.dataspace.copernicus.eu'. Adding certificate verification is strongly advised. See: https://urllib3.readthedocs.io/en/latest/advanced-usage.html#tls-warnings\n",
      "  warnings.warn(\n"
     ]
    },
    {
     "name": "stdout",
     "output_type": "stream",
     "text": [
      "Saved: T35VLE_20150824T094006_B04_10m.jp2\n"
     ]
    },
    {
     "name": "stderr",
     "output_type": "stream",
     "text": [
      "/home/kristaps/Projs/bulbulis/.venv/lib64/python3.13/site-packages/urllib3/connectionpool.py:1097: InsecureRequestWarning: Unverified HTTPS request is being made to host 'download.dataspace.copernicus.eu'. Adding certificate verification is strongly advised. See: https://urllib3.readthedocs.io/en/latest/advanced-usage.html#tls-warnings\n",
      "  warnings.warn(\n"
     ]
    },
    {
     "name": "stdout",
     "output_type": "stream",
     "text": [
      "Saved: T35VLE_20150824T094006_B08_10m.jp2\n"
     ]
    },
    {
     "name": "stderr",
     "output_type": "stream",
     "text": [
      "/home/kristaps/Projs/bulbulis/.venv/lib64/python3.13/site-packages/urllib3/connectionpool.py:1097: InsecureRequestWarning: Unverified HTTPS request is being made to host 'download.dataspace.copernicus.eu'. Adding certificate verification is strongly advised. See: https://urllib3.readthedocs.io/en/latest/advanced-usage.html#tls-warnings\n",
      "  warnings.warn(\n"
     ]
    },
    {
     "name": "stdout",
     "output_type": "stream",
     "text": [
      "Saved: T35VLE_20150824T094006_SCL_20m.jp2\n",
      "Saved as: /home/kristaps/Projs/bulbulis/notebooks/images/Sentinel2_S2A_MSIL2A_20150824T094006_N0500_R036_T35VLE_20231011T074456.SAFE_true_color_base.jpeg\n",
      "Saved as: /home/kristaps/Projs/bulbulis/notebooks/forests/Sentinel2_S2A_MSIL2A_20150824T094006_N0500_R036_T35VLE_20231011T074456.SAFE_true_color_base.jpeg\n",
      "https://catalogue.dataspace.copernicus.eu/odata/v1/Products(f42ac638-3aed-4c5d-8b6e-58d61441e644)/Nodes(S2A_MSIL2A_20150820T100016_N0500_R122_T34VEH_20231010T085218.SAFE)/Nodes(MTD_MSIL2A.xml)/$value\n",
      "<Response [200]>\n"
     ]
    },
    {
     "name": "stderr",
     "output_type": "stream",
     "text": [
      "/home/kristaps/Projs/bulbulis/.venv/lib64/python3.13/site-packages/urllib3/connectionpool.py:1097: InsecureRequestWarning: Unverified HTTPS request is being made to host 'download.dataspace.copernicus.eu'. Adding certificate verification is strongly advised. See: https://urllib3.readthedocs.io/en/latest/advanced-usage.html#tls-warnings\n",
      "  warnings.warn(\n",
      "/home/kristaps/Projs/bulbulis/.venv/lib64/python3.13/site-packages/urllib3/connectionpool.py:1097: InsecureRequestWarning: Unverified HTTPS request is being made to host 'download.dataspace.copernicus.eu'. Adding certificate verification is strongly advised. See: https://urllib3.readthedocs.io/en/latest/advanced-usage.html#tls-warnings\n",
      "  warnings.warn(\n"
     ]
    },
    {
     "name": "stdout",
     "output_type": "stream",
     "text": [
      "Saved: T34VEH_20150820T100016_B02_10m.jp2\n"
     ]
    },
    {
     "name": "stderr",
     "output_type": "stream",
     "text": [
      "/home/kristaps/Projs/bulbulis/.venv/lib64/python3.13/site-packages/urllib3/connectionpool.py:1097: InsecureRequestWarning: Unverified HTTPS request is being made to host 'download.dataspace.copernicus.eu'. Adding certificate verification is strongly advised. See: https://urllib3.readthedocs.io/en/latest/advanced-usage.html#tls-warnings\n",
      "  warnings.warn(\n"
     ]
    },
    {
     "name": "stdout",
     "output_type": "stream",
     "text": [
      "Saved: T34VEH_20150820T100016_B03_10m.jp2\n"
     ]
    },
    {
     "name": "stderr",
     "output_type": "stream",
     "text": [
      "/home/kristaps/Projs/bulbulis/.venv/lib64/python3.13/site-packages/urllib3/connectionpool.py:1097: InsecureRequestWarning: Unverified HTTPS request is being made to host 'download.dataspace.copernicus.eu'. Adding certificate verification is strongly advised. See: https://urllib3.readthedocs.io/en/latest/advanced-usage.html#tls-warnings\n",
      "  warnings.warn(\n"
     ]
    },
    {
     "name": "stdout",
     "output_type": "stream",
     "text": [
      "Saved: T34VEH_20150820T100016_B04_10m.jp2\n"
     ]
    },
    {
     "name": "stderr",
     "output_type": "stream",
     "text": [
      "/home/kristaps/Projs/bulbulis/.venv/lib64/python3.13/site-packages/urllib3/connectionpool.py:1097: InsecureRequestWarning: Unverified HTTPS request is being made to host 'download.dataspace.copernicus.eu'. Adding certificate verification is strongly advised. See: https://urllib3.readthedocs.io/en/latest/advanced-usage.html#tls-warnings\n",
      "  warnings.warn(\n"
     ]
    },
    {
     "name": "stdout",
     "output_type": "stream",
     "text": [
      "Saved: T34VEH_20150820T100016_B08_10m.jp2\n"
     ]
    },
    {
     "name": "stderr",
     "output_type": "stream",
     "text": [
      "/home/kristaps/Projs/bulbulis/.venv/lib64/python3.13/site-packages/urllib3/connectionpool.py:1097: InsecureRequestWarning: Unverified HTTPS request is being made to host 'download.dataspace.copernicus.eu'. Adding certificate verification is strongly advised. See: https://urllib3.readthedocs.io/en/latest/advanced-usage.html#tls-warnings\n",
      "  warnings.warn(\n"
     ]
    },
    {
     "name": "stdout",
     "output_type": "stream",
     "text": [
      "Saved: T34VEH_20150820T100016_SCL_20m.jp2\n",
      "Saved as: /home/kristaps/Projs/bulbulis/notebooks/images/Sentinel2_S2A_MSIL2A_20150820T100016_N0500_R122_T34VEH_20231010T085218.SAFE_true_color_base.jpeg\n"
     ]
    },
    {
     "name": "stderr",
     "output_type": "stream",
     "text": [
      "/tmp/ipykernel_56853/3598241057.py:59: RuntimeWarning: invalid value encountered in divide\n",
      "  ndvi = ((b08-b04)/(b08+b04))\n"
     ]
    },
    {
     "name": "stdout",
     "output_type": "stream",
     "text": [
      "Saved as: /home/kristaps/Projs/bulbulis/notebooks/forests/Sentinel2_S2A_MSIL2A_20150820T100016_N0500_R122_T34VEH_20231010T085218.SAFE_true_color_base.jpeg\n",
      "https://catalogue.dataspace.copernicus.eu/odata/v1/Products(2d41740f-c4c9-4082-80b9-74e18dbfd630)/Nodes(S2A_MSIL2A_20150824T094006_N0500_R036_T34VFK_20231011T074456.SAFE)/Nodes(MTD_MSIL2A.xml)/$value\n",
      "<Response [200]>\n"
     ]
    },
    {
     "name": "stderr",
     "output_type": "stream",
     "text": [
      "/home/kristaps/Projs/bulbulis/.venv/lib64/python3.13/site-packages/urllib3/connectionpool.py:1097: InsecureRequestWarning: Unverified HTTPS request is being made to host 'download.dataspace.copernicus.eu'. Adding certificate verification is strongly advised. See: https://urllib3.readthedocs.io/en/latest/advanced-usage.html#tls-warnings\n",
      "  warnings.warn(\n",
      "/home/kristaps/Projs/bulbulis/.venv/lib64/python3.13/site-packages/urllib3/connectionpool.py:1097: InsecureRequestWarning: Unverified HTTPS request is being made to host 'download.dataspace.copernicus.eu'. Adding certificate verification is strongly advised. See: https://urllib3.readthedocs.io/en/latest/advanced-usage.html#tls-warnings\n",
      "  warnings.warn(\n"
     ]
    },
    {
     "name": "stdout",
     "output_type": "stream",
     "text": [
      "Saved: T34VFK_20150824T094006_B02_10m.jp2\n"
     ]
    },
    {
     "name": "stderr",
     "output_type": "stream",
     "text": [
      "/home/kristaps/Projs/bulbulis/.venv/lib64/python3.13/site-packages/urllib3/connectionpool.py:1097: InsecureRequestWarning: Unverified HTTPS request is being made to host 'download.dataspace.copernicus.eu'. Adding certificate verification is strongly advised. See: https://urllib3.readthedocs.io/en/latest/advanced-usage.html#tls-warnings\n",
      "  warnings.warn(\n"
     ]
    },
    {
     "name": "stdout",
     "output_type": "stream",
     "text": [
      "Saved: T34VFK_20150824T094006_B03_10m.jp2\n"
     ]
    },
    {
     "name": "stderr",
     "output_type": "stream",
     "text": [
      "/home/kristaps/Projs/bulbulis/.venv/lib64/python3.13/site-packages/urllib3/connectionpool.py:1097: InsecureRequestWarning: Unverified HTTPS request is being made to host 'download.dataspace.copernicus.eu'. Adding certificate verification is strongly advised. See: https://urllib3.readthedocs.io/en/latest/advanced-usage.html#tls-warnings\n",
      "  warnings.warn(\n"
     ]
    },
    {
     "name": "stdout",
     "output_type": "stream",
     "text": [
      "Saved: T34VFK_20150824T094006_B04_10m.jp2\n"
     ]
    },
    {
     "name": "stderr",
     "output_type": "stream",
     "text": [
      "/home/kristaps/Projs/bulbulis/.venv/lib64/python3.13/site-packages/urllib3/connectionpool.py:1097: InsecureRequestWarning: Unverified HTTPS request is being made to host 'download.dataspace.copernicus.eu'. Adding certificate verification is strongly advised. See: https://urllib3.readthedocs.io/en/latest/advanced-usage.html#tls-warnings\n",
      "  warnings.warn(\n"
     ]
    }
   ],
   "source": [
    "#for i,r in result.head(3).iterrows():\n",
    "for i,r in result.iterrows():\n",
    "    response = requests.post(auth_server_url, data=data, verify=True, allow_redirects=False)\n",
    "    access_token = json.loads(response.text)[\"access_token\"]\n",
    "\n",
    "    session = requests.Session()\n",
    "    session.headers[\"Authorization\"] = f\"Bearer {access_token}\"\n",
    "    \n",
    "    product_identifier = r[\"Id\"]\n",
    "    product_name = r[\"Name\"]\n",
    "\n",
    "    url = f\"{catalogue_odata_url}/Products({product_identifier})/Nodes({product_name})/Nodes(MTD_MSIL2A.xml)/$value\"\n",
    "    print(url)\n",
    "    \n",
    "    response = session.get(url, allow_redirects=False)\n",
    "    while response.status_code in (301, 302, 303, 307):\n",
    "        url = response.headers[\"Location\"]\n",
    "        response = session.get(url, allow_redirects=False)\n",
    "        print(response)\n",
    "    file = session.get(url, verify=False, allow_redirects=True)\n",
    "    outfile = Path.home() / f\"Projs/bulbulis/notebooks/data/MTD_{product_name}_MSIL2A.xml\"\n",
    "    outfile.write_bytes(file.content)\n",
    "\n",
    "    tree = ET.parse(str(outfile))\n",
    "    root = tree.getroot()\n",
    "    band_location = [f\"{product_name}/{e.text}.jp2\".split(\"/\") for e in root[0][0][12][0][0] if \"B02_10m\" in e.text or \"B03_10m\" in e.text or \"B04_10m\" in e.text or \"B08_10m\" in e.text or \"SCL_20m\" in e.text]\n",
    "\n",
    "    bands = []\n",
    "    for band_file in band_location:\n",
    "        url = f\"{catalogue_odata_url}/Products({product_identifier})/{\"/\".join([f\"Nodes({b})\" for b in band_file])}/$value\"\n",
    "        response = session.get(url, allow_redirects=False)\n",
    "        while response.status_code in (301, 302, 303, 307):\n",
    "            url = response.headers[\"Location\"]\n",
    "            response = session.get(url, allow_redirects=False)\n",
    "        file = session.get(url, verify=False, allow_redirects=True)\n",
    "        \n",
    "        outfile = Path.home() / f\"Projs/bulbulis/notebooks/data/{band_file[-1]}\"\n",
    "        outfile.write_bytes(file.content)\n",
    "        bands.append(str(outfile))\n",
    "        print(\"Saved:\", band_file[-1])\n",
    "    \n",
    "    try:\n",
    "        red = rasterio.open([b for b in bands if \"B04_10m\" in b][0], driver=\"JP2OpenJPEG\").read(1)\n",
    "        green = rasterio.open([b for b in bands if \"B03_10m\" in b][0], driver=\"JP2OpenJPEG\").read(1)\n",
    "        blue = rasterio.open([b for b in bands if \"B02_10m\" in b][0], driver=\"JP2OpenJPEG\").read(1)\n",
    "    \n",
    "        gain = 2\n",
    "        red_n = np.clip(red * gain / 10000, 0, 1)\n",
    "        green_n = np.clip(green * gain / 10000, 0, 1)\n",
    "        blue_n = np.clip(blue * gain / 10000, 0, 1)\n",
    "        rgb_composite_n = np.dstack((red_n, green_n, blue_n))\n",
    "        #plt.imshow(rgb_composite_n)\n",
    "        outfile = f\"{Path.home()}/Projs/bulbulis/notebooks/images/Sentinel2_{product_name}_true_color_base.jpeg\"\n",
    "        matplotlib.image.imsave(outfile, rgb_composite_n)\n",
    "        print(\"Saved as:\", outfile)\n",
    "\n",
    "        b04 = rasterio.open([b for b in bands if \"B04_10m\" in b][0], driver=\"JP2OpenJPEG\").read(1)/10000\n",
    "        b08 = rasterio.open([b for b in bands if \"B08_10m\" in b][0], driver=\"JP2OpenJPEG\").read(1)/10000\n",
    "        ndvi = ((b08-b04)/(b08+b04))\n",
    "        # Create composite image\n",
    "        clipped = np.clip(ndvi, 0.0, 1.0)\n",
    "        clipped[clipped < 0.6] = 0.0\n",
    "        rgb_composite_n = np.dstack((np.zeros(ndvi.shape), clipped, np.zeros(ndvi.shape)))\n",
    "        outfile = f\"{Path.home()}/Projs/bulbulis/notebooks/forests/Sentinel2_{product_name}_true_color_base.jpeg\"\n",
    "        matplotlib.image.imsave(outfile, rgb_composite_n)\n",
    "        print(\"Saved as:\", outfile)\n",
    "    except BaseException as e:\n",
    "        print(f\"ERROR: {product_name} failed with {e}\")\n",
    "    "
   ]
  },
  {
   "cell_type": "code",
   "execution_count": null,
   "id": "0487c7a2-3211-49db-8334-f5fe146f535a",
   "metadata": {},
   "outputs": [],
   "source": []
  },
  {
   "cell_type": "code",
   "execution_count": null,
   "id": "41ad93de-58be-4b7f-a0de-22282c25fa1a",
   "metadata": {},
   "outputs": [],
   "source": []
  },
  {
   "cell_type": "code",
   "execution_count": null,
   "id": "d970e9fd-600b-4327-a705-3aa13c2befa4",
   "metadata": {},
   "outputs": [],
   "source": []
  },
  {
   "cell_type": "code",
   "execution_count": null,
   "id": "0db935e3-e1e0-4658-a04c-46b51b9ee256",
   "metadata": {},
   "outputs": [],
   "source": []
  },
  {
   "cell_type": "code",
   "execution_count": null,
   "id": "baeef5e8-eacd-46d1-80c5-91e2a5ff5e0c",
   "metadata": {},
   "outputs": [],
   "source": []
  },
  {
   "cell_type": "code",
   "execution_count": null,
   "id": "1fd9f56d-1aa1-4b6a-8aba-e1a9003aeb5f",
   "metadata": {},
   "outputs": [],
   "source": []
  },
  {
   "cell_type": "code",
   "execution_count": null,
   "id": "b4c3b8a4-5eca-49ae-a709-28aea1c5097f",
   "metadata": {},
   "outputs": [],
   "source": []
  },
  {
   "cell_type": "code",
   "execution_count": null,
   "id": "19eda9f5-73bf-452b-97c3-ebec06e0f8a1",
   "metadata": {},
   "outputs": [],
   "source": []
  },
  {
   "cell_type": "code",
   "execution_count": 6,
   "id": "45976aaf-a0b8-4e4d-b33c-649bc6bf8b73",
   "metadata": {},
   "outputs": [],
   "source": [
    "response = requests.post(auth_server_url, data=data, verify=True, allow_redirects=False)\n",
    "access_token = json.loads(response.text)[\"access_token\"]\n"
   ]
  },
  {
   "cell_type": "code",
   "execution_count": 7,
   "id": "1430465f-16ce-4fc0-a63d-0c7699c0a357",
   "metadata": {},
   "outputs": [],
   "source": [
    "product_identifier = result.iloc[0, 1]\n",
    "product_name = result.iloc[0, 2]\n",
    "\n",
    "session = requests.Session()\n",
    "session.headers[\"Authorization\"] = f\"Bearer {access_token}\"\n"
   ]
  },
  {
   "cell_type": "code",
   "execution_count": 8,
   "id": "9cf7630f-4f13-4afc-808e-77b6018febb1",
   "metadata": {},
   "outputs": [],
   "source": [
    "response = requests.post(auth_server_url, data=data, verify=True, allow_redirects=False)\n",
    "access_token = json.loads(response.text)[\"access_token\"]\n"
   ]
  },
  {
   "cell_type": "code",
   "execution_count": 9,
   "id": "15653d57-95e9-42dd-bf56-ac35d7cdf386",
   "metadata": {},
   "outputs": [
    {
     "name": "stdout",
     "output_type": "stream",
     "text": [
      "https://catalogue.dataspace.copernicus.eu/odata/v1/Products(d98a8d27-8b9e-4a09-bcbf-46483d3c9016)/Nodes(S2A_MSIL2A_20230709T100031_N0509_R122_T34VDK_20230709T135148.SAFE)/Nodes(MTD_MSIL2A.xml)/$value\n",
      "<Response [200]>\n"
     ]
    },
    {
     "name": "stderr",
     "output_type": "stream",
     "text": [
      "/Users/kristaps/Projs/bulbulis/.venv/lib/python3.13/site-packages/urllib3/connectionpool.py:1097: InsecureRequestWarning: Unverified HTTPS request is being made to host 'download.dataspace.copernicus.eu'. Adding certificate verification is strongly advised. See: https://urllib3.readthedocs.io/en/latest/advanced-usage.html#tls-warnings\n",
      "  warnings.warn(\n"
     ]
    },
    {
     "name": "stdout",
     "output_type": "stream",
     "text": [
      "<Response [200]>\n"
     ]
    },
    {
     "data": {
      "text/plain": [
       "54735"
      ]
     },
     "execution_count": 9,
     "metadata": {},
     "output_type": "execute_result"
    }
   ],
   "source": [
    "url = f\"{catalogue_odata_url}/Products({product_identifier})/Nodes({product_name})/Nodes(MTD_MSIL2A.xml)/$value\"\n",
    "\n",
    "print(url)\n",
    "\n",
    "response = session.get(url, allow_redirects=False)\n",
    "while response.status_code in (301, 302, 303, 307):\n",
    "    url = response.headers[\"Location\"]\n",
    "    response = session.get(url, allow_redirects=False)\n",
    "    print(response)\n",
    "\n",
    "file = session.get(url, verify=False, allow_redirects=True)\n",
    "\n",
    "print(file)\n",
    "\n",
    "outfile = Path.home() / f\"Projs/bulbulis/notebooks/data/MTD_MSIL2A.xml\"\n",
    "outfile.write_bytes(file.content)\n"
   ]
  },
  {
   "cell_type": "code",
   "execution_count": 10,
   "id": "4aeaef2b-3a85-4576-8380-a03d794a3e4a",
   "metadata": {},
   "outputs": [],
   "source": [
    "tree = ET.parse(str(outfile))\n",
    "root = tree.getroot()\n",
    "\n",
    "# B04 and B08 for calculating NDVI => ((B08-B04)/(B08+B04))\n",
    "# NDVI > 7 indicates presence of forest\n",
    "#\n",
    "# SCL for working out if what we're seeing is a cloud\n",
    "# discard if SCL includes ones of invalid = [\n",
    "#     0, // NO_DATA\n",
    "#     1, // SATURATED_DEFECTIVE\n",
    "#     3, // CLOUD_SHADOW\n",
    "#     7, // CLOUD_LOW_PROBA\n",
    "#     8, // CLOUD_MEDIUM_PROBA\n",
    "#     9, // CLOUD_HIGH_PROBA\n",
    "#     10 // THIN_CIRRUS\n",
    "# ]\n",
    "band_location = [f\"{product_name}/{e.text}.jp2\".split(\"/\") for e in root[0][0][12][0][0] if \"B02_10m\" in e.text or \"B03_10m\" in e.text or \"B04_10m\" in e.text or \"B08_10m\" in e.text or \"SCL_20m\" in e.text]\n"
   ]
  },
  {
   "cell_type": "code",
   "execution_count": 11,
   "id": "be6b58ff-16e0-4ad6-838e-8efbb0d4a5c0",
   "metadata": {},
   "outputs": [
    {
     "data": {
      "text/plain": [
       "[['S2A_MSIL2A_20230709T100031_N0509_R122_T34VDK_20230709T135148.SAFE',\n",
       "  'GRANULE',\n",
       "  'L2A_T34VDK_A042018_20230709T100031',\n",
       "  'IMG_DATA',\n",
       "  'R10m',\n",
       "  'T34VDK_20230709T100031_B02_10m.jp2'],\n",
       " ['S2A_MSIL2A_20230709T100031_N0509_R122_T34VDK_20230709T135148.SAFE',\n",
       "  'GRANULE',\n",
       "  'L2A_T34VDK_A042018_20230709T100031',\n",
       "  'IMG_DATA',\n",
       "  'R10m',\n",
       "  'T34VDK_20230709T100031_B03_10m.jp2'],\n",
       " ['S2A_MSIL2A_20230709T100031_N0509_R122_T34VDK_20230709T135148.SAFE',\n",
       "  'GRANULE',\n",
       "  'L2A_T34VDK_A042018_20230709T100031',\n",
       "  'IMG_DATA',\n",
       "  'R10m',\n",
       "  'T34VDK_20230709T100031_B04_10m.jp2'],\n",
       " ['S2A_MSIL2A_20230709T100031_N0509_R122_T34VDK_20230709T135148.SAFE',\n",
       "  'GRANULE',\n",
       "  'L2A_T34VDK_A042018_20230709T100031',\n",
       "  'IMG_DATA',\n",
       "  'R10m',\n",
       "  'T34VDK_20230709T100031_B08_10m.jp2'],\n",
       " ['S2A_MSIL2A_20230709T100031_N0509_R122_T34VDK_20230709T135148.SAFE',\n",
       "  'GRANULE',\n",
       "  'L2A_T34VDK_A042018_20230709T100031',\n",
       "  'IMG_DATA',\n",
       "  'R20m',\n",
       "  'T34VDK_20230709T100031_SCL_20m.jp2']]"
      ]
     },
     "execution_count": 11,
     "metadata": {},
     "output_type": "execute_result"
    }
   ],
   "source": [
    "band_location"
   ]
  },
  {
   "cell_type": "code",
   "execution_count": 12,
   "id": "6de5fa76-436e-45c6-8ea0-2eca4aa5fac4",
   "metadata": {},
   "outputs": [
    {
     "name": "stdout",
     "output_type": "stream",
     "text": [
      "https://catalogue.dataspace.copernicus.eu/odata/v1/Products(d98a8d27-8b9e-4a09-bcbf-46483d3c9016)/Nodes(S2A_MSIL2A_20230709T100031_N0509_R122_T34VDK_20230709T135148.SAFE)/Nodes(GRANULE)/Nodes(L2A_T34VDK_A042018_20230709T100031)/Nodes(IMG_DATA)/Nodes(R10m)/Nodes(T34VDK_20230709T100031_B02_10m.jp2)/$value\n"
     ]
    },
    {
     "name": "stderr",
     "output_type": "stream",
     "text": [
      "/Users/kristaps/Projs/bulbulis/.venv/lib/python3.13/site-packages/urllib3/connectionpool.py:1097: InsecureRequestWarning: Unverified HTTPS request is being made to host 'download.dataspace.copernicus.eu'. Adding certificate verification is strongly advised. See: https://urllib3.readthedocs.io/en/latest/advanced-usage.html#tls-warnings\n",
      "  warnings.warn(\n"
     ]
    },
    {
     "name": "stdout",
     "output_type": "stream",
     "text": [
      "Saved: T34VDK_20230709T100031_B02_10m.jp2\n",
      "1.88356\n",
      "https://catalogue.dataspace.copernicus.eu/odata/v1/Products(d98a8d27-8b9e-4a09-bcbf-46483d3c9016)/Nodes(S2A_MSIL2A_20230709T100031_N0509_R122_T34VDK_20230709T135148.SAFE)/Nodes(GRANULE)/Nodes(L2A_T34VDK_A042018_20230709T100031)/Nodes(IMG_DATA)/Nodes(R10m)/Nodes(T34VDK_20230709T100031_B03_10m.jp2)/$value\n"
     ]
    },
    {
     "name": "stderr",
     "output_type": "stream",
     "text": [
      "/Users/kristaps/Projs/bulbulis/.venv/lib/python3.13/site-packages/urllib3/connectionpool.py:1097: InsecureRequestWarning: Unverified HTTPS request is being made to host 'download.dataspace.copernicus.eu'. Adding certificate verification is strongly advised. See: https://urllib3.readthedocs.io/en/latest/advanced-usage.html#tls-warnings\n",
      "  warnings.warn(\n"
     ]
    },
    {
     "name": "stdout",
     "output_type": "stream",
     "text": [
      "Saved: T34VDK_20230709T100031_B03_10m.jp2\n",
      "1.8950129999999996\n",
      "https://catalogue.dataspace.copernicus.eu/odata/v1/Products(d98a8d27-8b9e-4a09-bcbf-46483d3c9016)/Nodes(S2A_MSIL2A_20230709T100031_N0509_R122_T34VDK_20230709T135148.SAFE)/Nodes(GRANULE)/Nodes(L2A_T34VDK_A042018_20230709T100031)/Nodes(IMG_DATA)/Nodes(R10m)/Nodes(T34VDK_20230709T100031_B04_10m.jp2)/$value\n"
     ]
    },
    {
     "name": "stderr",
     "output_type": "stream",
     "text": [
      "/Users/kristaps/Projs/bulbulis/.venv/lib/python3.13/site-packages/urllib3/connectionpool.py:1097: InsecureRequestWarning: Unverified HTTPS request is being made to host 'download.dataspace.copernicus.eu'. Adding certificate verification is strongly advised. See: https://urllib3.readthedocs.io/en/latest/advanced-usage.html#tls-warnings\n",
      "  warnings.warn(\n"
     ]
    },
    {
     "name": "stdout",
     "output_type": "stream",
     "text": [
      "Saved: T34VDK_20230709T100031_B04_10m.jp2\n",
      "1.842517\n",
      "https://catalogue.dataspace.copernicus.eu/odata/v1/Products(d98a8d27-8b9e-4a09-bcbf-46483d3c9016)/Nodes(S2A_MSIL2A_20230709T100031_N0509_R122_T34VDK_20230709T135148.SAFE)/Nodes(GRANULE)/Nodes(L2A_T34VDK_A042018_20230709T100031)/Nodes(IMG_DATA)/Nodes(R10m)/Nodes(T34VDK_20230709T100031_B08_10m.jp2)/$value\n"
     ]
    },
    {
     "name": "stderr",
     "output_type": "stream",
     "text": [
      "/Users/kristaps/Projs/bulbulis/.venv/lib/python3.13/site-packages/urllib3/connectionpool.py:1097: InsecureRequestWarning: Unverified HTTPS request is being made to host 'download.dataspace.copernicus.eu'. Adding certificate verification is strongly advised. See: https://urllib3.readthedocs.io/en/latest/advanced-usage.html#tls-warnings\n",
      "  warnings.warn(\n"
     ]
    },
    {
     "name": "stdout",
     "output_type": "stream",
     "text": [
      "Saved: T34VDK_20230709T100031_B08_10m.jp2\n",
      "1.8068350000000004\n",
      "https://catalogue.dataspace.copernicus.eu/odata/v1/Products(d98a8d27-8b9e-4a09-bcbf-46483d3c9016)/Nodes(S2A_MSIL2A_20230709T100031_N0509_R122_T34VDK_20230709T135148.SAFE)/Nodes(GRANULE)/Nodes(L2A_T34VDK_A042018_20230709T100031)/Nodes(IMG_DATA)/Nodes(R20m)/Nodes(T34VDK_20230709T100031_SCL_20m.jp2)/$value\n",
      "Saved: T34VDK_20230709T100031_SCL_20m.jp2\n",
      "0.019327000000000538\n"
     ]
    },
    {
     "name": "stderr",
     "output_type": "stream",
     "text": [
      "/Users/kristaps/Projs/bulbulis/.venv/lib/python3.13/site-packages/urllib3/connectionpool.py:1097: InsecureRequestWarning: Unverified HTTPS request is being made to host 'download.dataspace.copernicus.eu'. Adding certificate verification is strongly advised. See: https://urllib3.readthedocs.io/en/latest/advanced-usage.html#tls-warnings\n",
      "  warnings.warn(\n"
     ]
    }
   ],
   "source": [
    "bands = []\n",
    "for band_file in band_location:\n",
    "    start = time.process_time()\n",
    "    \n",
    "    url = f\"{catalogue_odata_url}/Products({product_identifier})/{\"/\".join([f\"Nodes({b})\" for b in band_file])}/$value\"\n",
    "    print(url)\n",
    "    response = session.get(url, allow_redirects=False)\n",
    "    while response.status_code in (301, 302, 303, 307):\n",
    "        url = response.headers[\"Location\"]\n",
    "        response = session.get(url, allow_redirects=False)\n",
    "    file = session.get(url, verify=False, allow_redirects=True)\n",
    "    \n",
    "    outfile = Path.home() / f\"Projs/bulbulis/notebooks/data/{band_file[-1]}\"\n",
    "    outfile.write_bytes(file.content)\n",
    "    bands.append(str(outfile))\n",
    "    print(\"Saved:\", band_file[-1])\n",
    "    \n",
    "    print(time.process_time() - start)\n",
    "    "
   ]
  },
  {
   "cell_type": "code",
   "execution_count": 13,
   "id": "50796ce2-fd95-4b59-8485-3dc80c305345",
   "metadata": {},
   "outputs": [
    {
     "data": {
      "text/plain": [
       "['/Users/kristaps/Projs/bulbulis/notebooks/data/T34VDK_20230709T100031_B02_10m.jp2',\n",
       " '/Users/kristaps/Projs/bulbulis/notebooks/data/T34VDK_20230709T100031_B03_10m.jp2',\n",
       " '/Users/kristaps/Projs/bulbulis/notebooks/data/T34VDK_20230709T100031_B04_10m.jp2',\n",
       " '/Users/kristaps/Projs/bulbulis/notebooks/data/T34VDK_20230709T100031_B08_10m.jp2',\n",
       " '/Users/kristaps/Projs/bulbulis/notebooks/data/T34VDK_20230709T100031_SCL_20m.jp2']"
      ]
     },
     "execution_count": 13,
     "metadata": {},
     "output_type": "execute_result"
    }
   ],
   "source": [
    "bands"
   ]
  },
  {
   "cell_type": "code",
   "execution_count": 14,
   "id": "f1d976dd-85c0-4453-8f4a-2e6dbfc21bf6",
   "metadata": {},
   "outputs": [],
   "source": [
    "red = rasterio.open([b for b in bands if \"B04_10m\" in b][0], driver=\"JP2OpenJPEG\").read(1)\n",
    "green = rasterio.open([b for b in bands if \"B03_10m\" in b][0], driver=\"JP2OpenJPEG\").read(1)\n",
    "blue = rasterio.open([b for b in bands if \"B02_10m\" in b][0], driver=\"JP2OpenJPEG\").read(1)\n"
   ]
  },
  {
   "cell_type": "code",
   "execution_count": 15,
   "id": "e81880ee-95e7-4a00-8193-13ae9330ce1b",
   "metadata": {},
   "outputs": [
    {
     "name": "stdout",
     "output_type": "stream",
     "text": [
      "Saved as: /Users/kristaps/Projs/bulbulis/Sentinel2_true_color_base.jpeg\n",
      "11.597668999999996\n"
     ]
    },
    {
     "data": {
      "image/png": "[encoded data removed]",
      "text/plain": [
       "<Figure size 640x480 with 1 Axes>"
      ]
     },
     "metadata": {},
     "output_type": "display_data"
    }
   ],
   "source": [
    "start = time.process_time()\n",
    "\n",
    "gain = 2\n",
    "\n",
    "# Normalize the pixel values and apply gain\n",
    "red_n = np.clip(red * gain / 10000, 0, 1)\n",
    "green_n = np.clip(green * gain / 10000, 0, 1)\n",
    "blue_n = np.clip(blue * gain / 10000, 0, 1)\n",
    "\n",
    "# Create composite image\n",
    "rgb_composite_n = np.dstack((red_n, green_n, blue_n))\n",
    "\n",
    "# Display image\n",
    "plt.imshow(rgb_composite_n)\n",
    "\n",
    "# Save image to file\n",
    "outfile = f\"{Path.home()}/Projs/bulbulis/Sentinel2_true_color_base.jpeg\"\n",
    "matplotlib.image.imsave(outfile, rgb_composite_n)\n",
    "print(\"Saved as:\", outfile)\n",
    "\n",
    "print(time.process_time() - start)\n"
   ]
  },
  {
   "cell_type": "code",
   "execution_count": 16,
   "id": "b656e5f8-c320-4b1e-af61-5612516c8e41",
   "metadata": {},
   "outputs": [
    {
     "data": {
      "text/plain": [
       "(10980, 10980)"
      ]
     },
     "execution_count": 16,
     "metadata": {},
     "output_type": "execute_result"
    }
   ],
   "source": [
    "red_n.shape\n"
   ]
  },
  {
   "cell_type": "code",
   "execution_count": 17,
   "id": "6ec99c56-dd7b-49f6-aa7b-d5e84be3450e",
   "metadata": {},
   "outputs": [],
   "source": [
    "b04 = rasterio.open([b for b in bands if \"B04_10m\" in b][0], driver=\"JP2OpenJPEG\").read(1)/10000\n",
    "b08 = rasterio.open([b for b in bands if \"B08_10m\" in b][0], driver=\"JP2OpenJPEG\").read(1)/10000\n"
   ]
  },
  {
   "cell_type": "code",
   "execution_count": 18,
   "id": "674a6850-2583-4ad1-b966-4193f7d42e25",
   "metadata": {},
   "outputs": [],
   "source": [
    "ndvi = ((b08-b04)/(b08+b04)) #*10000\n"
   ]
  },
  {
   "cell_type": "code",
   "execution_count": 19,
   "id": "4eb3abb8-6a67-4ab2-8cff-686e1d831382",
   "metadata": {},
   "outputs": [],
   "source": [
    "clipped = ndvi/np.max(ndvi)\n"
   ]
  },
  {
   "cell_type": "code",
   "execution_count": 20,
   "id": "f4dd32c2-a439-4152-956d-cb714e8c6a80",
   "metadata": {},
   "outputs": [
    {
     "data": {
      "text/plain": [
       "array([[-0.01770765, -0.0247907 , -0.02428191, ..., -0.02150132,\n",
       "         0.01901683,  0.01807701],\n",
       "       [-0.01855044, -0.03591529, -0.02134201, ..., -0.02000869,\n",
       "        -0.06121189, -0.02625461],\n",
       "       [-0.02263297, -0.03375397, -0.0256353 , ..., -0.00346724,\n",
       "        -0.01706104, -0.02624227],\n",
       "       ...,\n",
       "       [-0.02914316, -0.03689819, -0.04428083, ..., -0.01373279,\n",
       "         0.00324653,  0.00455726],\n",
       "       [-0.01881507, -0.02664518, -0.04150917, ..., -0.01299189,\n",
       "        -0.01035678, -0.01106763],\n",
       "       [-0.02767677, -0.02306199, -0.03553957, ..., -0.00647299,\n",
       "        -0.01804467, -0.01753127]], shape=(10980, 10980))"
      ]
     },
     "execution_count": 20,
     "metadata": {},
     "output_type": "execute_result"
    }
   ],
   "source": [
    "clipped\n"
   ]
  },
  {
   "cell_type": "code",
   "execution_count": 21,
   "id": "23bf2809-875f-4db9-90ff-3fbca902fa93",
   "metadata": {},
   "outputs": [],
   "source": [
    "clipped[clipped < 0.6] = 0.0\n"
   ]
  },
  {
   "cell_type": "code",
   "execution_count": 22,
   "id": "7c2944f3-5b47-4082-9dbf-54208acd4c78",
   "metadata": {},
   "outputs": [
    {
     "data": {
      "text/plain": [
       "array([[0., 0., 0., ..., 0., 0., 0.],\n",
       "       [0., 0., 0., ..., 0., 0., 0.],\n",
       "       [0., 0., 0., ..., 0., 0., 0.],\n",
       "       ...,\n",
       "       [0., 0., 0., ..., 0., 0., 0.],\n",
       "       [0., 0., 0., ..., 0., 0., 0.],\n",
       "       [0., 0., 0., ..., 0., 0., 0.]], shape=(10980, 10980))"
      ]
     },
     "execution_count": 22,
     "metadata": {},
     "output_type": "execute_result"
    }
   ],
   "source": [
    "clipped\n"
   ]
  },
  {
   "cell_type": "code",
   "execution_count": 23,
   "id": "ddd9c87a-5578-43f3-8ae3-2ab0075df048",
   "metadata": {},
   "outputs": [
    {
     "data": {
      "text/plain": [
       "<matplotlib.image.AxesImage at 0x11783cb90>"
      ]
     },
     "execution_count": 23,
     "metadata": {},
     "output_type": "execute_result"
    },
    {
     "data": {
      "image/png": "[encoded data removed]",
      "text/plain": [
       "<Figure size 640x480 with 1 Axes>"
      ]
     },
     "metadata": {},
     "output_type": "display_data"
    }
   ],
   "source": [
    "# Create composite image\n",
    "rgb_composite_n = np.dstack((np.zeros(ndvi.shape), clipped, np.zeros(ndvi.shape)))\n",
    "\n",
    "# Display image\n",
    "plt.imshow(rgb_composite_n)\n"
   ]
  },
  {
   "cell_type": "code",
   "execution_count": null,
   "id": "3897b5c6-8813-48a9-8394-5bf48b6424d8",
   "metadata": {},
   "outputs": [],
   "source": []
  },
  {
   "cell_type": "code",
   "execution_count": null,
   "id": "3cdca619-8a2f-426f-aca9-c937d4f5e74b",
   "metadata": {},
   "outputs": [],
   "source": []
  }
 ],
 "metadata": {
  "kernelspec": {
   "display_name": "Python 3 (ipykernel)",
   "language": "python",
   "name": "python3"
  },
  "language_info": {
   "codemirror_mode": {
    "name": "ipython",
    "version": 3
   },
   "file_extension": ".py",
   "mimetype": "text/x-python",
   "name": "python",
   "nbconvert_exporter": "python",
   "pygments_lexer": "ipython3",
   "version": "3.13.2"
  }
 },
 "nbformat": 4,
 "nbformat_minor": 5
}
