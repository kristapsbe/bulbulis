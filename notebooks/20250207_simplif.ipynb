{
 "cells": [
  {
   "cell_type": "code",
   "execution_count": 1,
   "id": "e6ab5a4b-f859-4e87-b3ca-798147cf1989",
   "metadata": {},
   "outputs": [],
   "source": [
    "import json\n",
    "import time\n",
    "import numpy as np\n",
    "import pandas as pd\n",
    "import requests\n",
    "import rasterio\n",
    "import itertools\n",
    "import matplotlib.image\n",
    "import matplotlib.pyplot as plt\n",
    "import xml.etree.ElementTree as ET\n",
    "\n",
    "from pathlib import Path\n",
    "from settings import username, password\n"
   ]
  },
  {
   "cell_type": "code",
   "execution_count": 2,
   "id": "84d1f80e-3dff-4f97-b503-41185c6ee04f",
   "metadata": {},
   "outputs": [],
   "source": [
    "catalogue_odata_url = \"https://catalogue.dataspace.copernicus.eu/odata/v1\"\n",
    "\n",
    "collection_name = \"SENTINEL-2\"\n",
    "product_type = \"S2MSI2A\"\n",
    "max_cloud_cover = 1\n",
    "corners = list(itertools.product([\"20.95\", \"28.25\"], [\"55.7\", \"58.05\"]))\n",
    "poly = [\" \".join(corners[i]) for i in [0, 2, 3, 1, 0]]\n",
    "aoi = f\"POLYGON(({\",\".join(poly)}))\"\n",
    "search_period_start = \"2023-06-01T00:00:00.000Z\"\n",
    "search_period_end = \"2023-06-10T00:00:00.000Z\"\n"
   ]
  },
  {
   "cell_type": "code",
   "execution_count": 3,
   "id": "b7d91e32-0a49-4dde-9df2-0ddd8081e17c",
   "metadata": {},
   "outputs": [
    {
     "name": "stdout",
     "output_type": "stream",
     "text": [
      "\n",
      "https://catalogue.dataspace.copernicus.eu/odata/v1/Products?$filter=Collection/Name%20eq%20'SENTINEL-2'%20and%20Attributes/OData.CSC.StringAttribute/any(att:att/Name%20eq%20'productType'%20and%20att/OData.CSC.StringAttribute/Value%20eq%20'S2MSI2A')%20and%20OData.CSC.Intersects(area=geography'SRID=4326;POLYGON((20.95%2055.7,28.25%2055.7,28.25%2058.05,20.95%2058.05,20.95%2055.7))')%20and%20ContentDate/Start%20gt%202023-06-01T00:00:00.000Z%20and%20ContentDate/Start%20lt%202023-06-10T00:00:00.000Z\n",
      "\n"
     ]
    }
   ],
   "source": [
    "search_query = f\"{catalogue_odata_url}/Products?$filter=Collection/Name eq '{collection_name}' and Attributes/OData.CSC.StringAttribute/any(att:att/Name eq 'productType' and att/OData.CSC.StringAttribute/Value eq '{product_type}') and OData.CSC.Intersects(area=geography'SRID=4326;{aoi}') and ContentDate/Start gt {search_period_start} and ContentDate/Start lt {search_period_end}\"\n",
    "\n",
    "print(f\"\"\"\\n{search_query.replace(' ', \"%20\")}\\n\"\"\")\n"
   ]
  },
  {
   "cell_type": "code",
   "execution_count": 4,
   "id": "581a3bca-e345-406a-86ec-b0810465ab8a",
   "metadata": {},
   "outputs": [
    {
     "name": "stdout",
     "output_type": "stream",
     "text": [
      "\n",
      "https://catalogue.dataspace.copernicus.eu/odata/v1/Products?$filter=Collection/Name%20eq%20'SENTINEL-2'%20and%20Attributes/OData.CSC.StringAttribute/any(att:att/Name%20eq%20'productType'%20and%20att/OData.CSC.StringAttribute/Value%20eq%20'S2MSI2A')%20and%20OData.CSC.Intersects(area=geography'SRID=4326;POLYGON((20.95%2055.7,28.25%2055.7,28.25%2058.05,20.95%2058.05,20.95%2055.7))')%20and%20ContentDate/Start%20gt%202023-06-01T00:00:00.000Z%20and%20ContentDate/Start%20lt%202023-06-10T00:00:00.000Z%20and%20Attributes/OData.CSC.DoubleAttribute/any(att:att/Name%20eq%20'cloudCover'%20and%20att/OData.CSC.DoubleAttribute/Value%20le%201)\n",
      "\n"
     ]
    },
    {
     "data": {
      "text/html": [
       "<div>\n",
       "<style scoped>\n",
       "    .dataframe tbody tr th:only-of-type {\n",
       "        vertical-align: middle;\n",
       "    }\n",
       "\n",
       "    .dataframe tbody tr th {\n",
       "        vertical-align: top;\n",
       "    }\n",
       "\n",
       "    .dataframe thead th {\n",
       "        text-align: right;\n",
       "    }\n",
       "</style>\n",
       "<table border=\"1\" class=\"dataframe\">\n",
       "  <thead>\n",
       "    <tr style=\"text-align: right;\">\n",
       "      <th></th>\n",
       "      <th>@odata.mediaContentType</th>\n",
       "      <th>Id</th>\n",
       "      <th>Name</th>\n",
       "      <th>ContentType</th>\n",
       "      <th>ContentLength</th>\n",
       "      <th>OriginDate</th>\n",
       "      <th>PublicationDate</th>\n",
       "      <th>ModificationDate</th>\n",
       "      <th>Online</th>\n",
       "      <th>EvictionDate</th>\n",
       "      <th>S3Path</th>\n",
       "      <th>Checksum</th>\n",
       "      <th>ContentDate</th>\n",
       "      <th>Footprint</th>\n",
       "      <th>GeoFootprint</th>\n",
       "    </tr>\n",
       "  </thead>\n",
       "  <tbody>\n",
       "    <tr>\n",
       "      <th>0</th>\n",
       "      <td>application/octet-stream</td>\n",
       "      <td>8b62c4bc-b821-41a2-92bb-22e85ac8f10a</td>\n",
       "      <td>S2B_MSIL2A_20230608T093549_N0509_R036_T34VFJ_2...</td>\n",
       "      <td>application/octet-stream</td>\n",
       "      <td>967112358</td>\n",
       "      <td>2023-06-08T14:32:22.710000Z</td>\n",
       "      <td>2023-06-08T14:38:40.815723Z</td>\n",
       "      <td>2023-06-12T01:15:02.009415Z</td>\n",
       "      <td>True</td>\n",
       "      <td>9999-12-31T23:59:59.999999Z</td>\n",
       "      <td>/eodata/Sentinel-2/MSI/L2A/2023/06/08/S2B_MSIL...</td>\n",
       "      <td>[{'Value': 'efe01d49fb0e7060348d8bd0ffc67305',...</td>\n",
       "      <td>{'Start': '2023-06-08T09:35:49.024000Z', 'End'...</td>\n",
       "      <td>geography'SRID=4326;POLYGON ((22.6793206704832...</td>\n",
       "      <td>{'type': 'Polygon', 'coordinates': [[[22.67932...</td>\n",
       "    </tr>\n",
       "    <tr>\n",
       "      <th>1</th>\n",
       "      <td>application/octet-stream</td>\n",
       "      <td>d26363c3-96c3-4e30-bc18-9e183d978a60</td>\n",
       "      <td>S2B_MSIL2A_20230608T093549_N0509_R036_T34VEK_2...</td>\n",
       "      <td>application/octet-stream</td>\n",
       "      <td>79626784</td>\n",
       "      <td>2023-06-08T15:19:30.858000Z</td>\n",
       "      <td>2023-06-08T15:27:01.959393Z</td>\n",
       "      <td>2023-06-12T03:12:43.823670Z</td>\n",
       "      <td>True</td>\n",
       "      <td>9999-12-31T23:59:59.999999Z</td>\n",
       "      <td>/eodata/Sentinel-2/MSI/L2A/2023/06/08/S2B_MSIL...</td>\n",
       "      <td>[{'Value': 'cbe7a0efd7e8be352944aada6d05fc24',...</td>\n",
       "      <td>{'Start': '2023-06-08T09:35:49.024000Z', 'End'...</td>\n",
       "      <td>geography'SRID=4326;POLYGON ((22.4729991475233...</td>\n",
       "      <td>{'type': 'Polygon', 'coordinates': [[[22.47299...</td>\n",
       "    </tr>\n",
       "    <tr>\n",
       "      <th>2</th>\n",
       "      <td>application/octet-stream</td>\n",
       "      <td>fca55176-280b-4b53-bff4-6e1e4304e55a</td>\n",
       "      <td>S2A_MSIL2A_20230606T095031_N0509_R079_T35VLE_2...</td>\n",
       "      <td>application/octet-stream</td>\n",
       "      <td>1014805826</td>\n",
       "      <td>2023-06-06T16:09:20.251000Z</td>\n",
       "      <td>2023-06-06T16:34:23.882414Z</td>\n",
       "      <td>2023-06-10T23:16:58.453175Z</td>\n",
       "      <td>True</td>\n",
       "      <td>9999-12-31T23:59:59.999999Z</td>\n",
       "      <td>/eodata/Sentinel-2/MSI/L2A/2023/06/06/S2A_MSIL...</td>\n",
       "      <td>[{'Value': '9083670d53d2c9d13b37062422a91991',...</td>\n",
       "      <td>{'Start': '2023-06-06T09:50:31.025000Z', 'End'...</td>\n",
       "      <td>geography'SRID=4326;POLYGON ((25.4706149028949...</td>\n",
       "      <td>{'type': 'Polygon', 'coordinates': [[[25.47061...</td>\n",
       "    </tr>\n",
       "  </tbody>\n",
       "</table>\n",
       "</div>"
      ],
      "text/plain": [
       "    @odata.mediaContentType                                    Id  \\\n",
       "0  application/octet-stream  8b62c4bc-b821-41a2-92bb-22e85ac8f10a   \n",
       "1  application/octet-stream  d26363c3-96c3-4e30-bc18-9e183d978a60   \n",
       "2  application/octet-stream  fca55176-280b-4b53-bff4-6e1e4304e55a   \n",
       "\n",
       "                                                Name  \\\n",
       "0  S2B_MSIL2A_20230608T093549_N0509_R036_T34VFJ_2...   \n",
       "1  S2B_MSIL2A_20230608T093549_N0509_R036_T34VEK_2...   \n",
       "2  S2A_MSIL2A_20230606T095031_N0509_R079_T35VLE_2...   \n",
       "\n",
       "                ContentType  ContentLength                   OriginDate  \\\n",
       "0  application/octet-stream      967112358  2023-06-08T14:32:22.710000Z   \n",
       "1  application/octet-stream       79626784  2023-06-08T15:19:30.858000Z   \n",
       "2  application/octet-stream     1014805826  2023-06-06T16:09:20.251000Z   \n",
       "\n",
       "               PublicationDate             ModificationDate  Online  \\\n",
       "0  2023-06-08T14:38:40.815723Z  2023-06-12T01:15:02.009415Z    True   \n",
       "1  2023-06-08T15:27:01.959393Z  2023-06-12T03:12:43.823670Z    True   \n",
       "2  2023-06-06T16:34:23.882414Z  2023-06-10T23:16:58.453175Z    True   \n",
       "\n",
       "                  EvictionDate  \\\n",
       "0  9999-12-31T23:59:59.999999Z   \n",
       "1  9999-12-31T23:59:59.999999Z   \n",
       "2  9999-12-31T23:59:59.999999Z   \n",
       "\n",
       "                                              S3Path  \\\n",
       "0  /eodata/Sentinel-2/MSI/L2A/2023/06/08/S2B_MSIL...   \n",
       "1  /eodata/Sentinel-2/MSI/L2A/2023/06/08/S2B_MSIL...   \n",
       "2  /eodata/Sentinel-2/MSI/L2A/2023/06/06/S2A_MSIL...   \n",
       "\n",
       "                                            Checksum  \\\n",
       "0  [{'Value': 'efe01d49fb0e7060348d8bd0ffc67305',...   \n",
       "1  [{'Value': 'cbe7a0efd7e8be352944aada6d05fc24',...   \n",
       "2  [{'Value': '9083670d53d2c9d13b37062422a91991',...   \n",
       "\n",
       "                                         ContentDate  \\\n",
       "0  {'Start': '2023-06-08T09:35:49.024000Z', 'End'...   \n",
       "1  {'Start': '2023-06-08T09:35:49.024000Z', 'End'...   \n",
       "2  {'Start': '2023-06-06T09:50:31.025000Z', 'End'...   \n",
       "\n",
       "                                           Footprint  \\\n",
       "0  geography'SRID=4326;POLYGON ((22.6793206704832...   \n",
       "1  geography'SRID=4326;POLYGON ((22.4729991475233...   \n",
       "2  geography'SRID=4326;POLYGON ((25.4706149028949...   \n",
       "\n",
       "                                        GeoFootprint  \n",
       "0  {'type': 'Polygon', 'coordinates': [[[22.67932...  \n",
       "1  {'type': 'Polygon', 'coordinates': [[[22.47299...  \n",
       "2  {'type': 'Polygon', 'coordinates': [[[25.47061...  "
      ]
     },
     "execution_count": 4,
     "metadata": {},
     "output_type": "execute_result"
    }
   ],
   "source": [
    "# filter by cloud coverage\n",
    "search_query = f\"{search_query} and Attributes/OData.CSC.DoubleAttribute/any(att:att/Name eq 'cloudCover' and att/OData.CSC.DoubleAttribute/Value le {max_cloud_cover})\"\n",
    "print(f\"\"\"\\n{search_query.replace(' ', \"%20\")}\\n\"\"\")\n",
    "\n",
    "response = requests.get(search_query).json()\n",
    "result = pd.DataFrame.from_dict(response[\"value\"])\n",
    "\n",
    "result.head(3)\n"
   ]
  },
  {
   "cell_type": "code",
   "execution_count": 5,
   "id": "3809c366-a8a6-40e6-bd48-204196a3fc2a",
   "metadata": {},
   "outputs": [],
   "source": [
    "auth_server_url = \"https://identity.dataspace.copernicus.eu/auth/realms/CDSE/protocol/openid-connect/token\"\n",
    "data = {\n",
    "    \"client_id\": \"cdse-public\",\n",
    "    \"grant_type\": \"password\",\n",
    "    \"username\": username,\n",
    "    \"password\": password,\n",
    "}\n"
   ]
  },
  {
   "cell_type": "code",
   "execution_count": 6,
   "id": "6b056241-dc39-4f5b-a4fd-d8ea6fd51bec",
   "metadata": {},
   "outputs": [
    {
     "name": "stdout",
     "output_type": "stream",
     "text": [
      "https://catalogue.dataspace.copernicus.eu/odata/v1/Products(8b62c4bc-b821-41a2-92bb-22e85ac8f10a)/Nodes(S2B_MSIL2A_20230608T093549_N0509_R036_T34VFJ_20230608T112304.SAFE)/Nodes(MTD_MSIL2A.xml)/$value\n",
      "<Response [200]>\n"
     ]
    },
    {
     "name": "stderr",
     "output_type": "stream",
     "text": [
      "/Users/kristaps/Projs/bulbulis/.venv/lib/python3.13/site-packages/urllib3/connectionpool.py:1097: InsecureRequestWarning: Unverified HTTPS request is being made to host 'download.dataspace.copernicus.eu'. Adding certificate verification is strongly advised. See: https://urllib3.readthedocs.io/en/latest/advanced-usage.html#tls-warnings\n",
      "  warnings.warn(\n",
      "/Users/kristaps/Projs/bulbulis/.venv/lib/python3.13/site-packages/urllib3/connectionpool.py:1097: InsecureRequestWarning: Unverified HTTPS request is being made to host 'download.dataspace.copernicus.eu'. Adding certificate verification is strongly advised. See: https://urllib3.readthedocs.io/en/latest/advanced-usage.html#tls-warnings\n",
      "  warnings.warn(\n"
     ]
    },
    {
     "name": "stdout",
     "output_type": "stream",
     "text": [
      "Saved: T34VFJ_20230608T093549_B02_10m.jp2\n"
     ]
    },
    {
     "name": "stderr",
     "output_type": "stream",
     "text": [
      "/Users/kristaps/Projs/bulbulis/.venv/lib/python3.13/site-packages/urllib3/connectionpool.py:1097: InsecureRequestWarning: Unverified HTTPS request is being made to host 'download.dataspace.copernicus.eu'. Adding certificate verification is strongly advised. See: https://urllib3.readthedocs.io/en/latest/advanced-usage.html#tls-warnings\n",
      "  warnings.warn(\n"
     ]
    },
    {
     "name": "stdout",
     "output_type": "stream",
     "text": [
      "Saved: T34VFJ_20230608T093549_B03_10m.jp2\n"
     ]
    },
    {
     "name": "stderr",
     "output_type": "stream",
     "text": [
      "/Users/kristaps/Projs/bulbulis/.venv/lib/python3.13/site-packages/urllib3/connectionpool.py:1097: InsecureRequestWarning: Unverified HTTPS request is being made to host 'download.dataspace.copernicus.eu'. Adding certificate verification is strongly advised. See: https://urllib3.readthedocs.io/en/latest/advanced-usage.html#tls-warnings\n",
      "  warnings.warn(\n"
     ]
    },
    {
     "name": "stdout",
     "output_type": "stream",
     "text": [
      "Saved: T34VFJ_20230608T093549_B04_10m.jp2\n"
     ]
    },
    {
     "name": "stderr",
     "output_type": "stream",
     "text": [
      "/Users/kristaps/Projs/bulbulis/.venv/lib/python3.13/site-packages/urllib3/connectionpool.py:1097: InsecureRequestWarning: Unverified HTTPS request is being made to host 'download.dataspace.copernicus.eu'. Adding certificate verification is strongly advised. See: https://urllib3.readthedocs.io/en/latest/advanced-usage.html#tls-warnings\n",
      "  warnings.warn(\n"
     ]
    },
    {
     "name": "stdout",
     "output_type": "stream",
     "text": [
      "Saved: T34VFJ_20230608T093549_B08_10m.jp2\n"
     ]
    },
    {
     "name": "stderr",
     "output_type": "stream",
     "text": [
      "/Users/kristaps/Projs/bulbulis/.venv/lib/python3.13/site-packages/urllib3/connectionpool.py:1097: InsecureRequestWarning: Unverified HTTPS request is being made to host 'download.dataspace.copernicus.eu'. Adding certificate verification is strongly advised. See: https://urllib3.readthedocs.io/en/latest/advanced-usage.html#tls-warnings\n",
      "  warnings.warn(\n"
     ]
    },
    {
     "name": "stdout",
     "output_type": "stream",
     "text": [
      "Saved: T34VFJ_20230608T093549_SCL_20m.jp2\n",
      "Saved as: /Users/kristaps/Projs/bulbulis/images/Sentinel2_S2B_MSIL2A_20230608T093549_N0509_R036_T34VFJ_20230608T112304.SAFE_true_color_base.jpeg\n",
      "https://catalogue.dataspace.copernicus.eu/odata/v1/Products(d26363c3-96c3-4e30-bc18-9e183d978a60)/Nodes(S2B_MSIL2A_20230608T093549_N0509_R036_T34VEK_20230608T112304.SAFE)/Nodes(MTD_MSIL2A.xml)/$value\n",
      "<Response [200]>\n"
     ]
    },
    {
     "name": "stderr",
     "output_type": "stream",
     "text": [
      "/Users/kristaps/Projs/bulbulis/.venv/lib/python3.13/site-packages/urllib3/connectionpool.py:1097: InsecureRequestWarning: Unverified HTTPS request is being made to host 'download.dataspace.copernicus.eu'. Adding certificate verification is strongly advised. See: https://urllib3.readthedocs.io/en/latest/advanced-usage.html#tls-warnings\n",
      "  warnings.warn(\n",
      "/Users/kristaps/Projs/bulbulis/.venv/lib/python3.13/site-packages/urllib3/connectionpool.py:1097: InsecureRequestWarning: Unverified HTTPS request is being made to host 'download.dataspace.copernicus.eu'. Adding certificate verification is strongly advised. See: https://urllib3.readthedocs.io/en/latest/advanced-usage.html#tls-warnings\n",
      "  warnings.warn(\n"
     ]
    },
    {
     "name": "stdout",
     "output_type": "stream",
     "text": [
      "Saved: T34VEK_20230608T093549_B02_10m.jp2\n"
     ]
    },
    {
     "name": "stderr",
     "output_type": "stream",
     "text": [
      "/Users/kristaps/Projs/bulbulis/.venv/lib/python3.13/site-packages/urllib3/connectionpool.py:1097: InsecureRequestWarning: Unverified HTTPS request is being made to host 'download.dataspace.copernicus.eu'. Adding certificate verification is strongly advised. See: https://urllib3.readthedocs.io/en/latest/advanced-usage.html#tls-warnings\n",
      "  warnings.warn(\n"
     ]
    },
    {
     "name": "stdout",
     "output_type": "stream",
     "text": [
      "Saved: T34VEK_20230608T093549_B03_10m.jp2\n"
     ]
    },
    {
     "name": "stderr",
     "output_type": "stream",
     "text": [
      "/Users/kristaps/Projs/bulbulis/.venv/lib/python3.13/site-packages/urllib3/connectionpool.py:1097: InsecureRequestWarning: Unverified HTTPS request is being made to host 'download.dataspace.copernicus.eu'. Adding certificate verification is strongly advised. See: https://urllib3.readthedocs.io/en/latest/advanced-usage.html#tls-warnings\n",
      "  warnings.warn(\n"
     ]
    },
    {
     "name": "stdout",
     "output_type": "stream",
     "text": [
      "Saved: T34VEK_20230608T093549_B04_10m.jp2\n"
     ]
    },
    {
     "name": "stderr",
     "output_type": "stream",
     "text": [
      "/Users/kristaps/Projs/bulbulis/.venv/lib/python3.13/site-packages/urllib3/connectionpool.py:1097: InsecureRequestWarning: Unverified HTTPS request is being made to host 'download.dataspace.copernicus.eu'. Adding certificate verification is strongly advised. See: https://urllib3.readthedocs.io/en/latest/advanced-usage.html#tls-warnings\n",
      "  warnings.warn(\n"
     ]
    },
    {
     "name": "stdout",
     "output_type": "stream",
     "text": [
      "Saved: T34VEK_20230608T093549_B08_10m.jp2\n"
     ]
    },
    {
     "name": "stderr",
     "output_type": "stream",
     "text": [
      "/Users/kristaps/Projs/bulbulis/.venv/lib/python3.13/site-packages/urllib3/connectionpool.py:1097: InsecureRequestWarning: Unverified HTTPS request is being made to host 'download.dataspace.copernicus.eu'. Adding certificate verification is strongly advised. See: https://urllib3.readthedocs.io/en/latest/advanced-usage.html#tls-warnings\n",
      "  warnings.warn(\n"
     ]
    },
    {
     "name": "stdout",
     "output_type": "stream",
     "text": [
      "Saved: T34VEK_20230608T093549_SCL_20m.jp2\n",
      "Saved as: /Users/kristaps/Projs/bulbulis/images/Sentinel2_S2B_MSIL2A_20230608T093549_N0509_R036_T34VEK_20230608T112304.SAFE_true_color_base.jpeg\n",
      "https://catalogue.dataspace.copernicus.eu/odata/v1/Products(fca55176-280b-4b53-bff4-6e1e4304e55a)/Nodes(S2A_MSIL2A_20230606T095031_N0509_R079_T35VLE_20230606T140554.SAFE)/Nodes(MTD_MSIL2A.xml)/$value\n",
      "<Response [200]>\n"
     ]
    },
    {
     "name": "stderr",
     "output_type": "stream",
     "text": [
      "/Users/kristaps/Projs/bulbulis/.venv/lib/python3.13/site-packages/urllib3/connectionpool.py:1097: InsecureRequestWarning: Unverified HTTPS request is being made to host 'download.dataspace.copernicus.eu'. Adding certificate verification is strongly advised. See: https://urllib3.readthedocs.io/en/latest/advanced-usage.html#tls-warnings\n",
      "  warnings.warn(\n",
      "/Users/kristaps/Projs/bulbulis/.venv/lib/python3.13/site-packages/urllib3/connectionpool.py:1097: InsecureRequestWarning: Unverified HTTPS request is being made to host 'download.dataspace.copernicus.eu'. Adding certificate verification is strongly advised. See: https://urllib3.readthedocs.io/en/latest/advanced-usage.html#tls-warnings\n",
      "  warnings.warn(\n"
     ]
    },
    {
     "name": "stdout",
     "output_type": "stream",
     "text": [
      "Saved: T35VLE_20230606T095031_B02_10m.jp2\n"
     ]
    },
    {
     "name": "stderr",
     "output_type": "stream",
     "text": [
      "/Users/kristaps/Projs/bulbulis/.venv/lib/python3.13/site-packages/urllib3/connectionpool.py:1097: InsecureRequestWarning: Unverified HTTPS request is being made to host 'download.dataspace.copernicus.eu'. Adding certificate verification is strongly advised. See: https://urllib3.readthedocs.io/en/latest/advanced-usage.html#tls-warnings\n",
      "  warnings.warn(\n"
     ]
    },
    {
     "name": "stdout",
     "output_type": "stream",
     "text": [
      "Saved: T35VLE_20230606T095031_B03_10m.jp2\n"
     ]
    },
    {
     "name": "stderr",
     "output_type": "stream",
     "text": [
      "/Users/kristaps/Projs/bulbulis/.venv/lib/python3.13/site-packages/urllib3/connectionpool.py:1097: InsecureRequestWarning: Unverified HTTPS request is being made to host 'download.dataspace.copernicus.eu'. Adding certificate verification is strongly advised. See: https://urllib3.readthedocs.io/en/latest/advanced-usage.html#tls-warnings\n",
      "  warnings.warn(\n"
     ]
    },
    {
     "name": "stdout",
     "output_type": "stream",
     "text": [
      "Saved: T35VLE_20230606T095031_B04_10m.jp2\n"
     ]
    },
    {
     "name": "stderr",
     "output_type": "stream",
     "text": [
      "/Users/kristaps/Projs/bulbulis/.venv/lib/python3.13/site-packages/urllib3/connectionpool.py:1097: InsecureRequestWarning: Unverified HTTPS request is being made to host 'download.dataspace.copernicus.eu'. Adding certificate verification is strongly advised. See: https://urllib3.readthedocs.io/en/latest/advanced-usage.html#tls-warnings\n",
      "  warnings.warn(\n"
     ]
    },
    {
     "name": "stdout",
     "output_type": "stream",
     "text": [
      "Saved: T35VLE_20230606T095031_B08_10m.jp2\n"
     ]
    },
    {
     "name": "stderr",
     "output_type": "stream",
     "text": [
      "/Users/kristaps/Projs/bulbulis/.venv/lib/python3.13/site-packages/urllib3/connectionpool.py:1097: InsecureRequestWarning: Unverified HTTPS request is being made to host 'download.dataspace.copernicus.eu'. Adding certificate verification is strongly advised. See: https://urllib3.readthedocs.io/en/latest/advanced-usage.html#tls-warnings\n",
      "  warnings.warn(\n"
     ]
    },
    {
     "name": "stdout",
     "output_type": "stream",
     "text": [
      "Saved: T35VLE_20230606T095031_SCL_20m.jp2\n",
      "Saved as: /Users/kristaps/Projs/bulbulis/images/Sentinel2_S2A_MSIL2A_20230606T095031_N0509_R079_T35VLE_20230606T140554.SAFE_true_color_base.jpeg\n",
      "https://catalogue.dataspace.copernicus.eu/odata/v1/Products(18d1299a-adec-4665-8cb5-fc07314bf0b4)/Nodes(S2B_MSIL2A_20230601T094549_N0509_R079_T35ULB_20230601T123133.SAFE)/Nodes(MTD_MSIL2A.xml)/$value\n",
      "<Response [200]>\n"
     ]
    },
    {
     "name": "stderr",
     "output_type": "stream",
     "text": [
      "/Users/kristaps/Projs/bulbulis/.venv/lib/python3.13/site-packages/urllib3/connectionpool.py:1097: InsecureRequestWarning: Unverified HTTPS request is being made to host 'download.dataspace.copernicus.eu'. Adding certificate verification is strongly advised. See: https://urllib3.readthedocs.io/en/latest/advanced-usage.html#tls-warnings\n",
      "  warnings.warn(\n",
      "/Users/kristaps/Projs/bulbulis/.venv/lib/python3.13/site-packages/urllib3/connectionpool.py:1097: InsecureRequestWarning: Unverified HTTPS request is being made to host 'download.dataspace.copernicus.eu'. Adding certificate verification is strongly advised. See: https://urllib3.readthedocs.io/en/latest/advanced-usage.html#tls-warnings\n",
      "  warnings.warn(\n"
     ]
    },
    {
     "name": "stdout",
     "output_type": "stream",
     "text": [
      "Saved: T35ULB_20230601T094549_B02_10m.jp2\n"
     ]
    },
    {
     "name": "stderr",
     "output_type": "stream",
     "text": [
      "/Users/kristaps/Projs/bulbulis/.venv/lib/python3.13/site-packages/urllib3/connectionpool.py:1097: InsecureRequestWarning: Unverified HTTPS request is being made to host 'download.dataspace.copernicus.eu'. Adding certificate verification is strongly advised. See: https://urllib3.readthedocs.io/en/latest/advanced-usage.html#tls-warnings\n",
      "  warnings.warn(\n"
     ]
    },
    {
     "name": "stdout",
     "output_type": "stream",
     "text": [
      "Saved: T35ULB_20230601T094549_B03_10m.jp2\n"
     ]
    },
    {
     "name": "stderr",
     "output_type": "stream",
     "text": [
      "/Users/kristaps/Projs/bulbulis/.venv/lib/python3.13/site-packages/urllib3/connectionpool.py:1097: InsecureRequestWarning: Unverified HTTPS request is being made to host 'download.dataspace.copernicus.eu'. Adding certificate verification is strongly advised. See: https://urllib3.readthedocs.io/en/latest/advanced-usage.html#tls-warnings\n",
      "  warnings.warn(\n"
     ]
    },
    {
     "name": "stdout",
     "output_type": "stream",
     "text": [
      "Saved: T35ULB_20230601T094549_B04_10m.jp2\n"
     ]
    },
    {
     "name": "stderr",
     "output_type": "stream",
     "text": [
      "/Users/kristaps/Projs/bulbulis/.venv/lib/python3.13/site-packages/urllib3/connectionpool.py:1097: InsecureRequestWarning: Unverified HTTPS request is being made to host 'download.dataspace.copernicus.eu'. Adding certificate verification is strongly advised. See: https://urllib3.readthedocs.io/en/latest/advanced-usage.html#tls-warnings\n",
      "  warnings.warn(\n"
     ]
    },
    {
     "name": "stdout",
     "output_type": "stream",
     "text": [
      "Saved: T35ULB_20230601T094549_B08_10m.jp2\n"
     ]
    },
    {
     "name": "stderr",
     "output_type": "stream",
     "text": [
      "/Users/kristaps/Projs/bulbulis/.venv/lib/python3.13/site-packages/urllib3/connectionpool.py:1097: InsecureRequestWarning: Unverified HTTPS request is being made to host 'download.dataspace.copernicus.eu'. Adding certificate verification is strongly advised. See: https://urllib3.readthedocs.io/en/latest/advanced-usage.html#tls-warnings\n",
      "  warnings.warn(\n"
     ]
    },
    {
     "name": "stdout",
     "output_type": "stream",
     "text": [
      "Saved: T35ULB_20230601T094549_SCL_20m.jp2\n",
      "Saved as: /Users/kristaps/Projs/bulbulis/images/Sentinel2_S2B_MSIL2A_20230601T094549_N0509_R079_T35ULB_20230601T123133.SAFE_true_color_base.jpeg\n",
      "https://catalogue.dataspace.copernicus.eu/odata/v1/Products(9f8a4458-f073-474e-8164-40a36d6b5ef3)/Nodes(S2A_MSIL2A_20230606T095031_N0509_R079_T34UDG_20230606T140554.SAFE)/Nodes(MTD_MSIL2A.xml)/$value\n",
      "<Response [200]>\n"
     ]
    },
    {
     "name": "stderr",
     "output_type": "stream",
     "text": [
      "/Users/kristaps/Projs/bulbulis/.venv/lib/python3.13/site-packages/urllib3/connectionpool.py:1097: InsecureRequestWarning: Unverified HTTPS request is being made to host 'download.dataspace.copernicus.eu'. Adding certificate verification is strongly advised. See: https://urllib3.readthedocs.io/en/latest/advanced-usage.html#tls-warnings\n",
      "  warnings.warn(\n",
      "/Users/kristaps/Projs/bulbulis/.venv/lib/python3.13/site-packages/urllib3/connectionpool.py:1097: InsecureRequestWarning: Unverified HTTPS request is being made to host 'download.dataspace.copernicus.eu'. Adding certificate verification is strongly advised. See: https://urllib3.readthedocs.io/en/latest/advanced-usage.html#tls-warnings\n",
      "  warnings.warn(\n"
     ]
    },
    {
     "name": "stdout",
     "output_type": "stream",
     "text": [
      "Saved: T34UDG_20230606T095031_B02_10m.jp2\n"
     ]
    },
    {
     "name": "stderr",
     "output_type": "stream",
     "text": [
      "/Users/kristaps/Projs/bulbulis/.venv/lib/python3.13/site-packages/urllib3/connectionpool.py:1097: InsecureRequestWarning: Unverified HTTPS request is being made to host 'download.dataspace.copernicus.eu'. Adding certificate verification is strongly advised. See: https://urllib3.readthedocs.io/en/latest/advanced-usage.html#tls-warnings\n",
      "  warnings.warn(\n"
     ]
    },
    {
     "name": "stdout",
     "output_type": "stream",
     "text": [
      "Saved: T34UDG_20230606T095031_B03_10m.jp2\n"
     ]
    },
    {
     "name": "stderr",
     "output_type": "stream",
     "text": [
      "/Users/kristaps/Projs/bulbulis/.venv/lib/python3.13/site-packages/urllib3/connectionpool.py:1097: InsecureRequestWarning: Unverified HTTPS request is being made to host 'download.dataspace.copernicus.eu'. Adding certificate verification is strongly advised. See: https://urllib3.readthedocs.io/en/latest/advanced-usage.html#tls-warnings\n",
      "  warnings.warn(\n"
     ]
    },
    {
     "name": "stdout",
     "output_type": "stream",
     "text": [
      "Saved: T34UDG_20230606T095031_B04_10m.jp2\n"
     ]
    },
    {
     "name": "stderr",
     "output_type": "stream",
     "text": [
      "/Users/kristaps/Projs/bulbulis/.venv/lib/python3.13/site-packages/urllib3/connectionpool.py:1097: InsecureRequestWarning: Unverified HTTPS request is being made to host 'download.dataspace.copernicus.eu'. Adding certificate verification is strongly advised. See: https://urllib3.readthedocs.io/en/latest/advanced-usage.html#tls-warnings\n",
      "  warnings.warn(\n"
     ]
    },
    {
     "name": "stdout",
     "output_type": "stream",
     "text": [
      "Saved: T34UDG_20230606T095031_B08_10m.jp2\n"
     ]
    },
    {
     "name": "stderr",
     "output_type": "stream",
     "text": [
      "/Users/kristaps/Projs/bulbulis/.venv/lib/python3.13/site-packages/urllib3/connectionpool.py:1097: InsecureRequestWarning: Unverified HTTPS request is being made to host 'download.dataspace.copernicus.eu'. Adding certificate verification is strongly advised. See: https://urllib3.readthedocs.io/en/latest/advanced-usage.html#tls-warnings\n",
      "  warnings.warn(\n"
     ]
    },
    {
     "name": "stdout",
     "output_type": "stream",
     "text": [
      "Saved: T34UDG_20230606T095031_SCL_20m.jp2\n",
      "Saved as: /Users/kristaps/Projs/bulbulis/images/Sentinel2_S2A_MSIL2A_20230606T095031_N0509_R079_T34UDG_20230606T140554.SAFE_true_color_base.jpeg\n",
      "https://catalogue.dataspace.copernicus.eu/odata/v1/Products(7c372aad-635d-45d8-9431-d63f6ce16f43)/Nodes(S2B_MSIL2A_20230608T093549_N0509_R036_T35VME_20230608T112304.SAFE)/Nodes(MTD_MSIL2A.xml)/$value\n",
      "<Response [200]>\n"
     ]
    },
    {
     "name": "stderr",
     "output_type": "stream",
     "text": [
      "/Users/kristaps/Projs/bulbulis/.venv/lib/python3.13/site-packages/urllib3/connectionpool.py:1097: InsecureRequestWarning: Unverified HTTPS request is being made to host 'download.dataspace.copernicus.eu'. Adding certificate verification is strongly advised. See: https://urllib3.readthedocs.io/en/latest/advanced-usage.html#tls-warnings\n",
      "  warnings.warn(\n",
      "/Users/kristaps/Projs/bulbulis/.venv/lib/python3.13/site-packages/urllib3/connectionpool.py:1097: InsecureRequestWarning: Unverified HTTPS request is being made to host 'download.dataspace.copernicus.eu'. Adding certificate verification is strongly advised. See: https://urllib3.readthedocs.io/en/latest/advanced-usage.html#tls-warnings\n",
      "  warnings.warn(\n"
     ]
    },
    {
     "name": "stdout",
     "output_type": "stream",
     "text": [
      "Saved: T35VME_20230608T093549_B02_10m.jp2\n"
     ]
    },
    {
     "name": "stderr",
     "output_type": "stream",
     "text": [
      "/Users/kristaps/Projs/bulbulis/.venv/lib/python3.13/site-packages/urllib3/connectionpool.py:1097: InsecureRequestWarning: Unverified HTTPS request is being made to host 'download.dataspace.copernicus.eu'. Adding certificate verification is strongly advised. See: https://urllib3.readthedocs.io/en/latest/advanced-usage.html#tls-warnings\n",
      "  warnings.warn(\n"
     ]
    },
    {
     "name": "stdout",
     "output_type": "stream",
     "text": [
      "Saved: T35VME_20230608T093549_B03_10m.jp2\n"
     ]
    },
    {
     "name": "stderr",
     "output_type": "stream",
     "text": [
      "/Users/kristaps/Projs/bulbulis/.venv/lib/python3.13/site-packages/urllib3/connectionpool.py:1097: InsecureRequestWarning: Unverified HTTPS request is being made to host 'download.dataspace.copernicus.eu'. Adding certificate verification is strongly advised. See: https://urllib3.readthedocs.io/en/latest/advanced-usage.html#tls-warnings\n",
      "  warnings.warn(\n"
     ]
    },
    {
     "name": "stdout",
     "output_type": "stream",
     "text": [
      "Saved: T35VME_20230608T093549_B04_10m.jp2\n"
     ]
    },
    {
     "name": "stderr",
     "output_type": "stream",
     "text": [
      "/Users/kristaps/Projs/bulbulis/.venv/lib/python3.13/site-packages/urllib3/connectionpool.py:1097: InsecureRequestWarning: Unverified HTTPS request is being made to host 'download.dataspace.copernicus.eu'. Adding certificate verification is strongly advised. See: https://urllib3.readthedocs.io/en/latest/advanced-usage.html#tls-warnings\n",
      "  warnings.warn(\n"
     ]
    },
    {
     "name": "stdout",
     "output_type": "stream",
     "text": [
      "Saved: T35VME_20230608T093549_B08_10m.jp2\n"
     ]
    },
    {
     "name": "stderr",
     "output_type": "stream",
     "text": [
      "/Users/kristaps/Projs/bulbulis/.venv/lib/python3.13/site-packages/urllib3/connectionpool.py:1097: InsecureRequestWarning: Unverified HTTPS request is being made to host 'download.dataspace.copernicus.eu'. Adding certificate verification is strongly advised. See: https://urllib3.readthedocs.io/en/latest/advanced-usage.html#tls-warnings\n",
      "  warnings.warn(\n"
     ]
    },
    {
     "name": "stdout",
     "output_type": "stream",
     "text": [
      "Saved: T35VME_20230608T093549_SCL_20m.jp2\n",
      "Saved as: /Users/kristaps/Projs/bulbulis/images/Sentinel2_S2B_MSIL2A_20230608T093549_N0509_R036_T35VME_20230608T112304.SAFE_true_color_base.jpeg\n",
      "https://catalogue.dataspace.copernicus.eu/odata/v1/Products(a0d1d3cd-28f5-47d4-9528-be1ac5acfe82)/Nodes(S2B_MSIL2A_20230608T093549_N0509_R036_T35VND_20230608T112304.SAFE)/Nodes(MTD_MSIL2A.xml)/$value\n",
      "<Response [200]>\n"
     ]
    },
    {
     "name": "stderr",
     "output_type": "stream",
     "text": [
      "/Users/kristaps/Projs/bulbulis/.venv/lib/python3.13/site-packages/urllib3/connectionpool.py:1097: InsecureRequestWarning: Unverified HTTPS request is being made to host 'download.dataspace.copernicus.eu'. Adding certificate verification is strongly advised. See: https://urllib3.readthedocs.io/en/latest/advanced-usage.html#tls-warnings\n",
      "  warnings.warn(\n",
      "/Users/kristaps/Projs/bulbulis/.venv/lib/python3.13/site-packages/urllib3/connectionpool.py:1097: InsecureRequestWarning: Unverified HTTPS request is being made to host 'download.dataspace.copernicus.eu'. Adding certificate verification is strongly advised. See: https://urllib3.readthedocs.io/en/latest/advanced-usage.html#tls-warnings\n",
      "  warnings.warn(\n"
     ]
    },
    {
     "name": "stdout",
     "output_type": "stream",
     "text": [
      "Saved: T35VND_20230608T093549_B02_10m.jp2\n"
     ]
    },
    {
     "name": "stderr",
     "output_type": "stream",
     "text": [
      "/Users/kristaps/Projs/bulbulis/.venv/lib/python3.13/site-packages/urllib3/connectionpool.py:1097: InsecureRequestWarning: Unverified HTTPS request is being made to host 'download.dataspace.copernicus.eu'. Adding certificate verification is strongly advised. See: https://urllib3.readthedocs.io/en/latest/advanced-usage.html#tls-warnings\n",
      "  warnings.warn(\n"
     ]
    },
    {
     "name": "stdout",
     "output_type": "stream",
     "text": [
      "Saved: T35VND_20230608T093549_B03_10m.jp2\n"
     ]
    },
    {
     "name": "stderr",
     "output_type": "stream",
     "text": [
      "/Users/kristaps/Projs/bulbulis/.venv/lib/python3.13/site-packages/urllib3/connectionpool.py:1097: InsecureRequestWarning: Unverified HTTPS request is being made to host 'download.dataspace.copernicus.eu'. Adding certificate verification is strongly advised. See: https://urllib3.readthedocs.io/en/latest/advanced-usage.html#tls-warnings\n",
      "  warnings.warn(\n"
     ]
    },
    {
     "name": "stdout",
     "output_type": "stream",
     "text": [
      "Saved: T35VND_20230608T093549_B04_10m.jp2\n"
     ]
    },
    {
     "name": "stderr",
     "output_type": "stream",
     "text": [
      "/Users/kristaps/Projs/bulbulis/.venv/lib/python3.13/site-packages/urllib3/connectionpool.py:1097: InsecureRequestWarning: Unverified HTTPS request is being made to host 'download.dataspace.copernicus.eu'. Adding certificate verification is strongly advised. See: https://urllib3.readthedocs.io/en/latest/advanced-usage.html#tls-warnings\n",
      "  warnings.warn(\n"
     ]
    },
    {
     "name": "stdout",
     "output_type": "stream",
     "text": [
      "Saved: T35VND_20230608T093549_B08_10m.jp2\n"
     ]
    },
    {
     "name": "stderr",
     "output_type": "stream",
     "text": [
      "/Users/kristaps/Projs/bulbulis/.venv/lib/python3.13/site-packages/urllib3/connectionpool.py:1097: InsecureRequestWarning: Unverified HTTPS request is being made to host 'download.dataspace.copernicus.eu'. Adding certificate verification is strongly advised. See: https://urllib3.readthedocs.io/en/latest/advanced-usage.html#tls-warnings\n",
      "  warnings.warn(\n"
     ]
    },
    {
     "name": "stdout",
     "output_type": "stream",
     "text": [
      "Saved: T35VND_20230608T093549_SCL_20m.jp2\n",
      "Saved as: /Users/kristaps/Projs/bulbulis/images/Sentinel2_S2B_MSIL2A_20230608T093549_N0509_R036_T35VND_20230608T112304.SAFE_true_color_base.jpeg\n",
      "https://catalogue.dataspace.copernicus.eu/odata/v1/Products(421c81e3-ba82-4e9f-843f-d6004a77e5e8)/Nodes(S2A_MSIL2A_20230609T100031_N0509_R122_T34VEK_20230609T132603.SAFE)/Nodes(MTD_MSIL2A.xml)/$value\n",
      "<Response [200]>\n"
     ]
    },
    {
     "name": "stderr",
     "output_type": "stream",
     "text": [
      "/Users/kristaps/Projs/bulbulis/.venv/lib/python3.13/site-packages/urllib3/connectionpool.py:1097: InsecureRequestWarning: Unverified HTTPS request is being made to host 'download.dataspace.copernicus.eu'. Adding certificate verification is strongly advised. See: https://urllib3.readthedocs.io/en/latest/advanced-usage.html#tls-warnings\n",
      "  warnings.warn(\n",
      "/Users/kristaps/Projs/bulbulis/.venv/lib/python3.13/site-packages/urllib3/connectionpool.py:1097: InsecureRequestWarning: Unverified HTTPS request is being made to host 'download.dataspace.copernicus.eu'. Adding certificate verification is strongly advised. See: https://urllib3.readthedocs.io/en/latest/advanced-usage.html#tls-warnings\n",
      "  warnings.warn(\n"
     ]
    },
    {
     "name": "stdout",
     "output_type": "stream",
     "text": [
      "Saved: T34VEK_20230609T100031_B02_10m.jp2\n"
     ]
    },
    {
     "name": "stderr",
     "output_type": "stream",
     "text": [
      "/Users/kristaps/Projs/bulbulis/.venv/lib/python3.13/site-packages/urllib3/connectionpool.py:1097: InsecureRequestWarning: Unverified HTTPS request is being made to host 'download.dataspace.copernicus.eu'. Adding certificate verification is strongly advised. See: https://urllib3.readthedocs.io/en/latest/advanced-usage.html#tls-warnings\n",
      "  warnings.warn(\n"
     ]
    },
    {
     "name": "stdout",
     "output_type": "stream",
     "text": [
      "Saved: T34VEK_20230609T100031_B03_10m.jp2\n"
     ]
    },
    {
     "name": "stderr",
     "output_type": "stream",
     "text": [
      "/Users/kristaps/Projs/bulbulis/.venv/lib/python3.13/site-packages/urllib3/connectionpool.py:1097: InsecureRequestWarning: Unverified HTTPS request is being made to host 'download.dataspace.copernicus.eu'. Adding certificate verification is strongly advised. See: https://urllib3.readthedocs.io/en/latest/advanced-usage.html#tls-warnings\n",
      "  warnings.warn(\n"
     ]
    },
    {
     "name": "stdout",
     "output_type": "stream",
     "text": [
      "Saved: T34VEK_20230609T100031_B04_10m.jp2\n"
     ]
    },
    {
     "name": "stderr",
     "output_type": "stream",
     "text": [
      "/Users/kristaps/Projs/bulbulis/.venv/lib/python3.13/site-packages/urllib3/connectionpool.py:1097: InsecureRequestWarning: Unverified HTTPS request is being made to host 'download.dataspace.copernicus.eu'. Adding certificate verification is strongly advised. See: https://urllib3.readthedocs.io/en/latest/advanced-usage.html#tls-warnings\n",
      "  warnings.warn(\n"
     ]
    },
    {
     "name": "stdout",
     "output_type": "stream",
     "text": [
      "Saved: T34VEK_20230609T100031_B08_10m.jp2\n"
     ]
    },
    {
     "name": "stderr",
     "output_type": "stream",
     "text": [
      "/Users/kristaps/Projs/bulbulis/.venv/lib/python3.13/site-packages/urllib3/connectionpool.py:1097: InsecureRequestWarning: Unverified HTTPS request is being made to host 'download.dataspace.copernicus.eu'. Adding certificate verification is strongly advised. See: https://urllib3.readthedocs.io/en/latest/advanced-usage.html#tls-warnings\n",
      "  warnings.warn(\n"
     ]
    },
    {
     "name": "stdout",
     "output_type": "stream",
     "text": [
      "Saved: T34VEK_20230609T100031_SCL_20m.jp2\n",
      "Saved as: /Users/kristaps/Projs/bulbulis/images/Sentinel2_S2A_MSIL2A_20230609T100031_N0509_R122_T34VEK_20230609T132603.SAFE_true_color_base.jpeg\n",
      "https://catalogue.dataspace.copernicus.eu/odata/v1/Products(6e407408-8ad7-4eb3-aaba-7d88577aa3f8)/Nodes(S2A_MSIL2A_20230606T095031_N0509_R079_T34VFK_20230606T140554.SAFE)/Nodes(MTD_MSIL2A.xml)/$value\n",
      "<Response [200]>\n"
     ]
    },
    {
     "name": "stderr",
     "output_type": "stream",
     "text": [
      "/Users/kristaps/Projs/bulbulis/.venv/lib/python3.13/site-packages/urllib3/connectionpool.py:1097: InsecureRequestWarning: Unverified HTTPS request is being made to host 'download.dataspace.copernicus.eu'. Adding certificate verification is strongly advised. See: https://urllib3.readthedocs.io/en/latest/advanced-usage.html#tls-warnings\n",
      "  warnings.warn(\n",
      "/Users/kristaps/Projs/bulbulis/.venv/lib/python3.13/site-packages/urllib3/connectionpool.py:1097: InsecureRequestWarning: Unverified HTTPS request is being made to host 'download.dataspace.copernicus.eu'. Adding certificate verification is strongly advised. See: https://urllib3.readthedocs.io/en/latest/advanced-usage.html#tls-warnings\n",
      "  warnings.warn(\n"
     ]
    },
    {
     "name": "stdout",
     "output_type": "stream",
     "text": [
      "Saved: T34VFK_20230606T095031_B02_10m.jp2\n"
     ]
    },
    {
     "name": "stderr",
     "output_type": "stream",
     "text": [
      "/Users/kristaps/Projs/bulbulis/.venv/lib/python3.13/site-packages/urllib3/connectionpool.py:1097: InsecureRequestWarning: Unverified HTTPS request is being made to host 'download.dataspace.copernicus.eu'. Adding certificate verification is strongly advised. See: https://urllib3.readthedocs.io/en/latest/advanced-usage.html#tls-warnings\n",
      "  warnings.warn(\n"
     ]
    },
    {
     "name": "stdout",
     "output_type": "stream",
     "text": [
      "Saved: T34VFK_20230606T095031_B03_10m.jp2\n"
     ]
    },
    {
     "name": "stderr",
     "output_type": "stream",
     "text": [
      "/Users/kristaps/Projs/bulbulis/.venv/lib/python3.13/site-packages/urllib3/connectionpool.py:1097: InsecureRequestWarning: Unverified HTTPS request is being made to host 'download.dataspace.copernicus.eu'. Adding certificate verification is strongly advised. See: https://urllib3.readthedocs.io/en/latest/advanced-usage.html#tls-warnings\n",
      "  warnings.warn(\n"
     ]
    },
    {
     "name": "stdout",
     "output_type": "stream",
     "text": [
      "Saved: T34VFK_20230606T095031_B04_10m.jp2\n"
     ]
    },
    {
     "name": "stderr",
     "output_type": "stream",
     "text": [
      "/Users/kristaps/Projs/bulbulis/.venv/lib/python3.13/site-packages/urllib3/connectionpool.py:1097: InsecureRequestWarning: Unverified HTTPS request is being made to host 'download.dataspace.copernicus.eu'. Adding certificate verification is strongly advised. See: https://urllib3.readthedocs.io/en/latest/advanced-usage.html#tls-warnings\n",
      "  warnings.warn(\n"
     ]
    },
    {
     "name": "stdout",
     "output_type": "stream",
     "text": [
      "Saved: T34VFK_20230606T095031_B08_10m.jp2\n"
     ]
    },
    {
     "name": "stderr",
     "output_type": "stream",
     "text": [
      "/Users/kristaps/Projs/bulbulis/.venv/lib/python3.13/site-packages/urllib3/connectionpool.py:1097: InsecureRequestWarning: Unverified HTTPS request is being made to host 'download.dataspace.copernicus.eu'. Adding certificate verification is strongly advised. See: https://urllib3.readthedocs.io/en/latest/advanced-usage.html#tls-warnings\n",
      "  warnings.warn(\n"
     ]
    },
    {
     "name": "stdout",
     "output_type": "stream",
     "text": [
      "Saved: T34VFK_20230606T095031_SCL_20m.jp2\n",
      "Saved as: /Users/kristaps/Projs/bulbulis/images/Sentinel2_S2A_MSIL2A_20230606T095031_N0509_R079_T34VFK_20230606T140554.SAFE_true_color_base.jpeg\n",
      "https://catalogue.dataspace.copernicus.eu/odata/v1/Products(036fee75-86e1-4a59-8d20-3671deb5aed5)/Nodes(S2B_MSIL2A_20230608T093549_N0509_R036_T35VMD_20230608T112304.SAFE)/Nodes(MTD_MSIL2A.xml)/$value\n",
      "<Response [200]>\n"
     ]
    },
    {
     "name": "stderr",
     "output_type": "stream",
     "text": [
      "/Users/kristaps/Projs/bulbulis/.venv/lib/python3.13/site-packages/urllib3/connectionpool.py:1097: InsecureRequestWarning: Unverified HTTPS request is being made to host 'download.dataspace.copernicus.eu'. Adding certificate verification is strongly advised. See: https://urllib3.readthedocs.io/en/latest/advanced-usage.html#tls-warnings\n",
      "  warnings.warn(\n",
      "/Users/kristaps/Projs/bulbulis/.venv/lib/python3.13/site-packages/urllib3/connectionpool.py:1097: InsecureRequestWarning: Unverified HTTPS request is being made to host 'download.dataspace.copernicus.eu'. Adding certificate verification is strongly advised. See: https://urllib3.readthedocs.io/en/latest/advanced-usage.html#tls-warnings\n",
      "  warnings.warn(\n"
     ]
    },
    {
     "name": "stdout",
     "output_type": "stream",
     "text": [
      "Saved: T35VMD_20230608T093549_B02_10m.jp2\n"
     ]
    },
    {
     "name": "stderr",
     "output_type": "stream",
     "text": [
      "/Users/kristaps/Projs/bulbulis/.venv/lib/python3.13/site-packages/urllib3/connectionpool.py:1097: InsecureRequestWarning: Unverified HTTPS request is being made to host 'download.dataspace.copernicus.eu'. Adding certificate verification is strongly advised. See: https://urllib3.readthedocs.io/en/latest/advanced-usage.html#tls-warnings\n",
      "  warnings.warn(\n"
     ]
    },
    {
     "name": "stdout",
     "output_type": "stream",
     "text": [
      "Saved: T35VMD_20230608T093549_B03_10m.jp2\n"
     ]
    },
    {
     "name": "stderr",
     "output_type": "stream",
     "text": [
      "/Users/kristaps/Projs/bulbulis/.venv/lib/python3.13/site-packages/urllib3/connectionpool.py:1097: InsecureRequestWarning: Unverified HTTPS request is being made to host 'download.dataspace.copernicus.eu'. Adding certificate verification is strongly advised. See: https://urllib3.readthedocs.io/en/latest/advanced-usage.html#tls-warnings\n",
      "  warnings.warn(\n"
     ]
    },
    {
     "name": "stdout",
     "output_type": "stream",
     "text": [
      "Saved: T35VMD_20230608T093549_B04_10m.jp2\n"
     ]
    },
    {
     "name": "stderr",
     "output_type": "stream",
     "text": [
      "/Users/kristaps/Projs/bulbulis/.venv/lib/python3.13/site-packages/urllib3/connectionpool.py:1097: InsecureRequestWarning: Unverified HTTPS request is being made to host 'download.dataspace.copernicus.eu'. Adding certificate verification is strongly advised. See: https://urllib3.readthedocs.io/en/latest/advanced-usage.html#tls-warnings\n",
      "  warnings.warn(\n"
     ]
    },
    {
     "name": "stdout",
     "output_type": "stream",
     "text": [
      "Saved: T35VMD_20230608T093549_B08_10m.jp2\n"
     ]
    },
    {
     "name": "stderr",
     "output_type": "stream",
     "text": [
      "/Users/kristaps/Projs/bulbulis/.venv/lib/python3.13/site-packages/urllib3/connectionpool.py:1097: InsecureRequestWarning: Unverified HTTPS request is being made to host 'download.dataspace.copernicus.eu'. Adding certificate verification is strongly advised. See: https://urllib3.readthedocs.io/en/latest/advanced-usage.html#tls-warnings\n",
      "  warnings.warn(\n"
     ]
    },
    {
     "name": "stdout",
     "output_type": "stream",
     "text": [
      "Saved: T35VMD_20230608T093549_SCL_20m.jp2\n",
      "Saved as: /Users/kristaps/Projs/bulbulis/images/Sentinel2_S2B_MSIL2A_20230608T093549_N0509_R036_T35VMD_20230608T112304.SAFE_true_color_base.jpeg\n",
      "https://catalogue.dataspace.copernicus.eu/odata/v1/Products(1bf58838-cdc5-4937-9f51-988f94066d4c)/Nodes(S2B_MSIL2A_20230608T093549_N0509_R036_T35VNC_20230608T112304.SAFE)/Nodes(MTD_MSIL2A.xml)/$value\n",
      "<Response [200]>\n"
     ]
    },
    {
     "name": "stderr",
     "output_type": "stream",
     "text": [
      "/Users/kristaps/Projs/bulbulis/.venv/lib/python3.13/site-packages/urllib3/connectionpool.py:1097: InsecureRequestWarning: Unverified HTTPS request is being made to host 'download.dataspace.copernicus.eu'. Adding certificate verification is strongly advised. See: https://urllib3.readthedocs.io/en/latest/advanced-usage.html#tls-warnings\n",
      "  warnings.warn(\n",
      "/Users/kristaps/Projs/bulbulis/.venv/lib/python3.13/site-packages/urllib3/connectionpool.py:1097: InsecureRequestWarning: Unverified HTTPS request is being made to host 'download.dataspace.copernicus.eu'. Adding certificate verification is strongly advised. See: https://urllib3.readthedocs.io/en/latest/advanced-usage.html#tls-warnings\n",
      "  warnings.warn(\n"
     ]
    },
    {
     "name": "stdout",
     "output_type": "stream",
     "text": [
      "Saved: T35VNC_20230608T093549_B02_10m.jp2\n"
     ]
    },
    {
     "name": "stderr",
     "output_type": "stream",
     "text": [
      "/Users/kristaps/Projs/bulbulis/.venv/lib/python3.13/site-packages/urllib3/connectionpool.py:1097: InsecureRequestWarning: Unverified HTTPS request is being made to host 'download.dataspace.copernicus.eu'. Adding certificate verification is strongly advised. See: https://urllib3.readthedocs.io/en/latest/advanced-usage.html#tls-warnings\n",
      "  warnings.warn(\n"
     ]
    },
    {
     "name": "stdout",
     "output_type": "stream",
     "text": [
      "Saved: T35VNC_20230608T093549_B03_10m.jp2\n"
     ]
    },
    {
     "name": "stderr",
     "output_type": "stream",
     "text": [
      "/Users/kristaps/Projs/bulbulis/.venv/lib/python3.13/site-packages/urllib3/connectionpool.py:1097: InsecureRequestWarning: Unverified HTTPS request is being made to host 'download.dataspace.copernicus.eu'. Adding certificate verification is strongly advised. See: https://urllib3.readthedocs.io/en/latest/advanced-usage.html#tls-warnings\n",
      "  warnings.warn(\n"
     ]
    },
    {
     "name": "stdout",
     "output_type": "stream",
     "text": [
      "Saved: T35VNC_20230608T093549_B04_10m.jp2\n"
     ]
    },
    {
     "name": "stderr",
     "output_type": "stream",
     "text": [
      "/Users/kristaps/Projs/bulbulis/.venv/lib/python3.13/site-packages/urllib3/connectionpool.py:1097: InsecureRequestWarning: Unverified HTTPS request is being made to host 'download.dataspace.copernicus.eu'. Adding certificate verification is strongly advised. See: https://urllib3.readthedocs.io/en/latest/advanced-usage.html#tls-warnings\n",
      "  warnings.warn(\n"
     ]
    },
    {
     "name": "stdout",
     "output_type": "stream",
     "text": [
      "Saved: T35VNC_20230608T093549_B08_10m.jp2\n"
     ]
    },
    {
     "name": "stderr",
     "output_type": "stream",
     "text": [
      "/Users/kristaps/Projs/bulbulis/.venv/lib/python3.13/site-packages/urllib3/connectionpool.py:1097: InsecureRequestWarning: Unverified HTTPS request is being made to host 'download.dataspace.copernicus.eu'. Adding certificate verification is strongly advised. See: https://urllib3.readthedocs.io/en/latest/advanced-usage.html#tls-warnings\n",
      "  warnings.warn(\n"
     ]
    },
    {
     "name": "stdout",
     "output_type": "stream",
     "text": [
      "Saved: T35VNC_20230608T093549_SCL_20m.jp2\n",
      "Saved as: /Users/kristaps/Projs/bulbulis/images/Sentinel2_S2B_MSIL2A_20230608T093549_N0509_R036_T35VNC_20230608T112304.SAFE_true_color_base.jpeg\n",
      "https://catalogue.dataspace.copernicus.eu/odata/v1/Products(f67b503f-f319-42f2-8918-7ca607f79571)/Nodes(S2B_MSIL2A_20230608T093549_N0509_R036_T35VLD_20230608T112304.SAFE)/Nodes(MTD_MSIL2A.xml)/$value\n",
      "<Response [200]>\n"
     ]
    },
    {
     "name": "stderr",
     "output_type": "stream",
     "text": [
      "/Users/kristaps/Projs/bulbulis/.venv/lib/python3.13/site-packages/urllib3/connectionpool.py:1097: InsecureRequestWarning: Unverified HTTPS request is being made to host 'download.dataspace.copernicus.eu'. Adding certificate verification is strongly advised. See: https://urllib3.readthedocs.io/en/latest/advanced-usage.html#tls-warnings\n",
      "  warnings.warn(\n",
      "/Users/kristaps/Projs/bulbulis/.venv/lib/python3.13/site-packages/urllib3/connectionpool.py:1097: InsecureRequestWarning: Unverified HTTPS request is being made to host 'download.dataspace.copernicus.eu'. Adding certificate verification is strongly advised. See: https://urllib3.readthedocs.io/en/latest/advanced-usage.html#tls-warnings\n",
      "  warnings.warn(\n"
     ]
    },
    {
     "name": "stdout",
     "output_type": "stream",
     "text": [
      "Saved: T35VLD_20230608T093549_B02_10m.jp2\n"
     ]
    },
    {
     "name": "stderr",
     "output_type": "stream",
     "text": [
      "/Users/kristaps/Projs/bulbulis/.venv/lib/python3.13/site-packages/urllib3/connectionpool.py:1097: InsecureRequestWarning: Unverified HTTPS request is being made to host 'download.dataspace.copernicus.eu'. Adding certificate verification is strongly advised. See: https://urllib3.readthedocs.io/en/latest/advanced-usage.html#tls-warnings\n",
      "  warnings.warn(\n"
     ]
    },
    {
     "name": "stdout",
     "output_type": "stream",
     "text": [
      "Saved: T35VLD_20230608T093549_B03_10m.jp2\n"
     ]
    },
    {
     "name": "stderr",
     "output_type": "stream",
     "text": [
      "/Users/kristaps/Projs/bulbulis/.venv/lib/python3.13/site-packages/urllib3/connectionpool.py:1097: InsecureRequestWarning: Unverified HTTPS request is being made to host 'download.dataspace.copernicus.eu'. Adding certificate verification is strongly advised. See: https://urllib3.readthedocs.io/en/latest/advanced-usage.html#tls-warnings\n",
      "  warnings.warn(\n"
     ]
    },
    {
     "name": "stdout",
     "output_type": "stream",
     "text": [
      "Saved: T35VLD_20230608T093549_B04_10m.jp2\n"
     ]
    },
    {
     "name": "stderr",
     "output_type": "stream",
     "text": [
      "/Users/kristaps/Projs/bulbulis/.venv/lib/python3.13/site-packages/urllib3/connectionpool.py:1097: InsecureRequestWarning: Unverified HTTPS request is being made to host 'download.dataspace.copernicus.eu'. Adding certificate verification is strongly advised. See: https://urllib3.readthedocs.io/en/latest/advanced-usage.html#tls-warnings\n",
      "  warnings.warn(\n"
     ]
    },
    {
     "name": "stdout",
     "output_type": "stream",
     "text": [
      "Saved: T35VLD_20230608T093549_B08_10m.jp2\n"
     ]
    },
    {
     "name": "stderr",
     "output_type": "stream",
     "text": [
      "/Users/kristaps/Projs/bulbulis/.venv/lib/python3.13/site-packages/urllib3/connectionpool.py:1097: InsecureRequestWarning: Unverified HTTPS request is being made to host 'download.dataspace.copernicus.eu'. Adding certificate verification is strongly advised. See: https://urllib3.readthedocs.io/en/latest/advanced-usage.html#tls-warnings\n",
      "  warnings.warn(\n"
     ]
    },
    {
     "name": "stdout",
     "output_type": "stream",
     "text": [
      "Saved: T35VLD_20230608T093549_SCL_20m.jp2\n",
      "Saved as: /Users/kristaps/Projs/bulbulis/images/Sentinel2_S2B_MSIL2A_20230608T093549_N0509_R036_T35VLD_20230608T112304.SAFE_true_color_base.jpeg\n",
      "https://catalogue.dataspace.copernicus.eu/odata/v1/Products(ef32e2f7-3869-4f29-a496-c3231c303abd)/Nodes(S2B_MSIL2A_20230608T093549_N0509_R036_T34UEG_20230608T112304.SAFE)/Nodes(MTD_MSIL2A.xml)/$value\n",
      "<Response [200]>\n"
     ]
    },
    {
     "name": "stderr",
     "output_type": "stream",
     "text": [
      "/Users/kristaps/Projs/bulbulis/.venv/lib/python3.13/site-packages/urllib3/connectionpool.py:1097: InsecureRequestWarning: Unverified HTTPS request is being made to host 'download.dataspace.copernicus.eu'. Adding certificate verification is strongly advised. See: https://urllib3.readthedocs.io/en/latest/advanced-usage.html#tls-warnings\n",
      "  warnings.warn(\n",
      "/Users/kristaps/Projs/bulbulis/.venv/lib/python3.13/site-packages/urllib3/connectionpool.py:1097: InsecureRequestWarning: Unverified HTTPS request is being made to host 'download.dataspace.copernicus.eu'. Adding certificate verification is strongly advised. See: https://urllib3.readthedocs.io/en/latest/advanced-usage.html#tls-warnings\n",
      "  warnings.warn(\n"
     ]
    },
    {
     "name": "stdout",
     "output_type": "stream",
     "text": [
      "Saved: T34UEG_20230608T093549_B02_10m.jp2\n"
     ]
    },
    {
     "name": "stderr",
     "output_type": "stream",
     "text": [
      "/Users/kristaps/Projs/bulbulis/.venv/lib/python3.13/site-packages/urllib3/connectionpool.py:1097: InsecureRequestWarning: Unverified HTTPS request is being made to host 'download.dataspace.copernicus.eu'. Adding certificate verification is strongly advised. See: https://urllib3.readthedocs.io/en/latest/advanced-usage.html#tls-warnings\n",
      "  warnings.warn(\n"
     ]
    },
    {
     "name": "stdout",
     "output_type": "stream",
     "text": [
      "Saved: T34UEG_20230608T093549_B03_10m.jp2\n"
     ]
    },
    {
     "name": "stderr",
     "output_type": "stream",
     "text": [
      "/Users/kristaps/Projs/bulbulis/.venv/lib/python3.13/site-packages/urllib3/connectionpool.py:1097: InsecureRequestWarning: Unverified HTTPS request is being made to host 'download.dataspace.copernicus.eu'. Adding certificate verification is strongly advised. See: https://urllib3.readthedocs.io/en/latest/advanced-usage.html#tls-warnings\n",
      "  warnings.warn(\n"
     ]
    },
    {
     "name": "stdout",
     "output_type": "stream",
     "text": [
      "Saved: T34UEG_20230608T093549_B04_10m.jp2\n"
     ]
    },
    {
     "name": "stderr",
     "output_type": "stream",
     "text": [
      "/Users/kristaps/Projs/bulbulis/.venv/lib/python3.13/site-packages/urllib3/connectionpool.py:1097: InsecureRequestWarning: Unverified HTTPS request is being made to host 'download.dataspace.copernicus.eu'. Adding certificate verification is strongly advised. See: https://urllib3.readthedocs.io/en/latest/advanced-usage.html#tls-warnings\n",
      "  warnings.warn(\n"
     ]
    },
    {
     "name": "stdout",
     "output_type": "stream",
     "text": [
      "Saved: T34UEG_20230608T093549_B08_10m.jp2\n"
     ]
    },
    {
     "name": "stderr",
     "output_type": "stream",
     "text": [
      "/Users/kristaps/Projs/bulbulis/.venv/lib/python3.13/site-packages/urllib3/connectionpool.py:1097: InsecureRequestWarning: Unverified HTTPS request is being made to host 'download.dataspace.copernicus.eu'. Adding certificate verification is strongly advised. See: https://urllib3.readthedocs.io/en/latest/advanced-usage.html#tls-warnings\n",
      "  warnings.warn(\n"
     ]
    },
    {
     "name": "stdout",
     "output_type": "stream",
     "text": [
      "Saved: T34UEG_20230608T093549_SCL_20m.jp2\n",
      "Saved as: /Users/kristaps/Projs/bulbulis/images/Sentinel2_S2B_MSIL2A_20230608T093549_N0509_R036_T34UEG_20230608T112304.SAFE_true_color_base.jpeg\n",
      "https://catalogue.dataspace.copernicus.eu/odata/v1/Products(cfd9a8c9-6d0a-4a8c-ae32-407119e4ecc5)/Nodes(S2B_MSIL2A_20230608T093549_N0509_R036_T34VEJ_20230608T112304.SAFE)/Nodes(MTD_MSIL2A.xml)/$value\n",
      "<Response [200]>\n"
     ]
    },
    {
     "name": "stderr",
     "output_type": "stream",
     "text": [
      "/Users/kristaps/Projs/bulbulis/.venv/lib/python3.13/site-packages/urllib3/connectionpool.py:1097: InsecureRequestWarning: Unverified HTTPS request is being made to host 'download.dataspace.copernicus.eu'. Adding certificate verification is strongly advised. See: https://urllib3.readthedocs.io/en/latest/advanced-usage.html#tls-warnings\n",
      "  warnings.warn(\n",
      "/Users/kristaps/Projs/bulbulis/.venv/lib/python3.13/site-packages/urllib3/connectionpool.py:1097: InsecureRequestWarning: Unverified HTTPS request is being made to host 'download.dataspace.copernicus.eu'. Adding certificate verification is strongly advised. See: https://urllib3.readthedocs.io/en/latest/advanced-usage.html#tls-warnings\n",
      "  warnings.warn(\n"
     ]
    },
    {
     "name": "stdout",
     "output_type": "stream",
     "text": [
      "Saved: T34VEJ_20230608T093549_B02_10m.jp2\n"
     ]
    },
    {
     "name": "stderr",
     "output_type": "stream",
     "text": [
      "/Users/kristaps/Projs/bulbulis/.venv/lib/python3.13/site-packages/urllib3/connectionpool.py:1097: InsecureRequestWarning: Unverified HTTPS request is being made to host 'download.dataspace.copernicus.eu'. Adding certificate verification is strongly advised. See: https://urllib3.readthedocs.io/en/latest/advanced-usage.html#tls-warnings\n",
      "  warnings.warn(\n"
     ]
    },
    {
     "name": "stdout",
     "output_type": "stream",
     "text": [
      "Saved: T34VEJ_20230608T093549_B03_10m.jp2\n"
     ]
    },
    {
     "name": "stderr",
     "output_type": "stream",
     "text": [
      "/Users/kristaps/Projs/bulbulis/.venv/lib/python3.13/site-packages/urllib3/connectionpool.py:1097: InsecureRequestWarning: Unverified HTTPS request is being made to host 'download.dataspace.copernicus.eu'. Adding certificate verification is strongly advised. See: https://urllib3.readthedocs.io/en/latest/advanced-usage.html#tls-warnings\n",
      "  warnings.warn(\n"
     ]
    },
    {
     "name": "stdout",
     "output_type": "stream",
     "text": [
      "Saved: T34VEJ_20230608T093549_B04_10m.jp2\n"
     ]
    },
    {
     "name": "stderr",
     "output_type": "stream",
     "text": [
      "/Users/kristaps/Projs/bulbulis/.venv/lib/python3.13/site-packages/urllib3/connectionpool.py:1097: InsecureRequestWarning: Unverified HTTPS request is being made to host 'download.dataspace.copernicus.eu'. Adding certificate verification is strongly advised. See: https://urllib3.readthedocs.io/en/latest/advanced-usage.html#tls-warnings\n",
      "  warnings.warn(\n"
     ]
    },
    {
     "name": "stdout",
     "output_type": "stream",
     "text": [
      "Saved: T34VEJ_20230608T093549_B08_10m.jp2\n"
     ]
    },
    {
     "name": "stderr",
     "output_type": "stream",
     "text": [
      "/Users/kristaps/Projs/bulbulis/.venv/lib/python3.13/site-packages/urllib3/connectionpool.py:1097: InsecureRequestWarning: Unverified HTTPS request is being made to host 'download.dataspace.copernicus.eu'. Adding certificate verification is strongly advised. See: https://urllib3.readthedocs.io/en/latest/advanced-usage.html#tls-warnings\n",
      "  warnings.warn(\n"
     ]
    },
    {
     "name": "stdout",
     "output_type": "stream",
     "text": [
      "Saved: T34VEJ_20230608T093549_SCL_20m.jp2\n",
      "Saved as: /Users/kristaps/Projs/bulbulis/images/Sentinel2_S2B_MSIL2A_20230608T093549_N0509_R036_T34VEJ_20230608T112304.SAFE_true_color_base.jpeg\n",
      "https://catalogue.dataspace.copernicus.eu/odata/v1/Products(4703bc75-bc50-445f-a061-5e9add9f9544)/Nodes(S2A_MSIL2A_20230606T095031_N0509_R079_T35ULB_20230606T140554.SAFE)/Nodes(MTD_MSIL2A.xml)/$value\n",
      "<Response [200]>\n"
     ]
    },
    {
     "name": "stderr",
     "output_type": "stream",
     "text": [
      "/Users/kristaps/Projs/bulbulis/.venv/lib/python3.13/site-packages/urllib3/connectionpool.py:1097: InsecureRequestWarning: Unverified HTTPS request is being made to host 'download.dataspace.copernicus.eu'. Adding certificate verification is strongly advised. See: https://urllib3.readthedocs.io/en/latest/advanced-usage.html#tls-warnings\n",
      "  warnings.warn(\n",
      "/Users/kristaps/Projs/bulbulis/.venv/lib/python3.13/site-packages/urllib3/connectionpool.py:1097: InsecureRequestWarning: Unverified HTTPS request is being made to host 'download.dataspace.copernicus.eu'. Adding certificate verification is strongly advised. See: https://urllib3.readthedocs.io/en/latest/advanced-usage.html#tls-warnings\n",
      "  warnings.warn(\n"
     ]
    },
    {
     "name": "stdout",
     "output_type": "stream",
     "text": [
      "Saved: T35ULB_20230606T095031_B02_10m.jp2\n"
     ]
    },
    {
     "name": "stderr",
     "output_type": "stream",
     "text": [
      "/Users/kristaps/Projs/bulbulis/.venv/lib/python3.13/site-packages/urllib3/connectionpool.py:1097: InsecureRequestWarning: Unverified HTTPS request is being made to host 'download.dataspace.copernicus.eu'. Adding certificate verification is strongly advised. See: https://urllib3.readthedocs.io/en/latest/advanced-usage.html#tls-warnings\n",
      "  warnings.warn(\n"
     ]
    },
    {
     "name": "stdout",
     "output_type": "stream",
     "text": [
      "Saved: T35ULB_20230606T095031_B03_10m.jp2\n"
     ]
    },
    {
     "name": "stderr",
     "output_type": "stream",
     "text": [
      "/Users/kristaps/Projs/bulbulis/.venv/lib/python3.13/site-packages/urllib3/connectionpool.py:1097: InsecureRequestWarning: Unverified HTTPS request is being made to host 'download.dataspace.copernicus.eu'. Adding certificate verification is strongly advised. See: https://urllib3.readthedocs.io/en/latest/advanced-usage.html#tls-warnings\n",
      "  warnings.warn(\n"
     ]
    },
    {
     "name": "stdout",
     "output_type": "stream",
     "text": [
      "Saved: T35ULB_20230606T095031_B04_10m.jp2\n"
     ]
    },
    {
     "name": "stderr",
     "output_type": "stream",
     "text": [
      "/Users/kristaps/Projs/bulbulis/.venv/lib/python3.13/site-packages/urllib3/connectionpool.py:1097: InsecureRequestWarning: Unverified HTTPS request is being made to host 'download.dataspace.copernicus.eu'. Adding certificate verification is strongly advised. See: https://urllib3.readthedocs.io/en/latest/advanced-usage.html#tls-warnings\n",
      "  warnings.warn(\n"
     ]
    },
    {
     "name": "stdout",
     "output_type": "stream",
     "text": [
      "Saved: T35ULB_20230606T095031_B08_10m.jp2\n"
     ]
    },
    {
     "name": "stderr",
     "output_type": "stream",
     "text": [
      "/Users/kristaps/Projs/bulbulis/.venv/lib/python3.13/site-packages/urllib3/connectionpool.py:1097: InsecureRequestWarning: Unverified HTTPS request is being made to host 'download.dataspace.copernicus.eu'. Adding certificate verification is strongly advised. See: https://urllib3.readthedocs.io/en/latest/advanced-usage.html#tls-warnings\n",
      "  warnings.warn(\n"
     ]
    },
    {
     "name": "stdout",
     "output_type": "stream",
     "text": [
      "Saved: T35ULB_20230606T095031_SCL_20m.jp2\n",
      "Saved as: /Users/kristaps/Projs/bulbulis/images/Sentinel2_S2A_MSIL2A_20230606T095031_N0509_R079_T35ULB_20230606T140554.SAFE_true_color_base.jpeg\n",
      "https://catalogue.dataspace.copernicus.eu/odata/v1/Products(0fa7bf1c-873e-4cd0-b597-442d617cbef0)/Nodes(S2A_MSIL2A_20230606T095031_N0509_R079_T34UFG_20230606T140554.SAFE)/Nodes(MTD_MSIL2A.xml)/$value\n",
      "<Response [200]>\n"
     ]
    },
    {
     "name": "stderr",
     "output_type": "stream",
     "text": [
      "/Users/kristaps/Projs/bulbulis/.venv/lib/python3.13/site-packages/urllib3/connectionpool.py:1097: InsecureRequestWarning: Unverified HTTPS request is being made to host 'download.dataspace.copernicus.eu'. Adding certificate verification is strongly advised. See: https://urllib3.readthedocs.io/en/latest/advanced-usage.html#tls-warnings\n",
      "  warnings.warn(\n",
      "/Users/kristaps/Projs/bulbulis/.venv/lib/python3.13/site-packages/urllib3/connectionpool.py:1097: InsecureRequestWarning: Unverified HTTPS request is being made to host 'download.dataspace.copernicus.eu'. Adding certificate verification is strongly advised. See: https://urllib3.readthedocs.io/en/latest/advanced-usage.html#tls-warnings\n",
      "  warnings.warn(\n"
     ]
    },
    {
     "name": "stdout",
     "output_type": "stream",
     "text": [
      "Saved: T34UFG_20230606T095031_B02_10m.jp2\n"
     ]
    },
    {
     "name": "stderr",
     "output_type": "stream",
     "text": [
      "/Users/kristaps/Projs/bulbulis/.venv/lib/python3.13/site-packages/urllib3/connectionpool.py:1097: InsecureRequestWarning: Unverified HTTPS request is being made to host 'download.dataspace.copernicus.eu'. Adding certificate verification is strongly advised. See: https://urllib3.readthedocs.io/en/latest/advanced-usage.html#tls-warnings\n",
      "  warnings.warn(\n"
     ]
    },
    {
     "name": "stdout",
     "output_type": "stream",
     "text": [
      "Saved: T34UFG_20230606T095031_B03_10m.jp2\n"
     ]
    },
    {
     "name": "stderr",
     "output_type": "stream",
     "text": [
      "/Users/kristaps/Projs/bulbulis/.venv/lib/python3.13/site-packages/urllib3/connectionpool.py:1097: InsecureRequestWarning: Unverified HTTPS request is being made to host 'download.dataspace.copernicus.eu'. Adding certificate verification is strongly advised. See: https://urllib3.readthedocs.io/en/latest/advanced-usage.html#tls-warnings\n",
      "  warnings.warn(\n"
     ]
    },
    {
     "name": "stdout",
     "output_type": "stream",
     "text": [
      "Saved: T34UFG_20230606T095031_B04_10m.jp2\n"
     ]
    },
    {
     "name": "stderr",
     "output_type": "stream",
     "text": [
      "/Users/kristaps/Projs/bulbulis/.venv/lib/python3.13/site-packages/urllib3/connectionpool.py:1097: InsecureRequestWarning: Unverified HTTPS request is being made to host 'download.dataspace.copernicus.eu'. Adding certificate verification is strongly advised. See: https://urllib3.readthedocs.io/en/latest/advanced-usage.html#tls-warnings\n",
      "  warnings.warn(\n"
     ]
    },
    {
     "name": "stdout",
     "output_type": "stream",
     "text": [
      "Saved: T34UFG_20230606T095031_B08_10m.jp2\n"
     ]
    },
    {
     "name": "stderr",
     "output_type": "stream",
     "text": [
      "/Users/kristaps/Projs/bulbulis/.venv/lib/python3.13/site-packages/urllib3/connectionpool.py:1097: InsecureRequestWarning: Unverified HTTPS request is being made to host 'download.dataspace.copernicus.eu'. Adding certificate verification is strongly advised. See: https://urllib3.readthedocs.io/en/latest/advanced-usage.html#tls-warnings\n",
      "  warnings.warn(\n"
     ]
    },
    {
     "name": "stdout",
     "output_type": "stream",
     "text": [
      "Saved: T34UFG_20230606T095031_SCL_20m.jp2\n",
      "Saved as: /Users/kristaps/Projs/bulbulis/images/Sentinel2_S2A_MSIL2A_20230606T095031_N0509_R079_T34UFG_20230606T140554.SAFE_true_color_base.jpeg\n",
      "https://catalogue.dataspace.copernicus.eu/odata/v1/Products(5590c51e-86c6-412b-80a5-99824d769f96)/Nodes(S2B_MSIL2A_20230608T093549_N0509_R036_T35VNE_20230608T112304.SAFE)/Nodes(MTD_MSIL2A.xml)/$value\n",
      "<Response [200]>\n"
     ]
    },
    {
     "name": "stderr",
     "output_type": "stream",
     "text": [
      "/Users/kristaps/Projs/bulbulis/.venv/lib/python3.13/site-packages/urllib3/connectionpool.py:1097: InsecureRequestWarning: Unverified HTTPS request is being made to host 'download.dataspace.copernicus.eu'. Adding certificate verification is strongly advised. See: https://urllib3.readthedocs.io/en/latest/advanced-usage.html#tls-warnings\n",
      "  warnings.warn(\n",
      "/Users/kristaps/Projs/bulbulis/.venv/lib/python3.13/site-packages/urllib3/connectionpool.py:1097: InsecureRequestWarning: Unverified HTTPS request is being made to host 'download.dataspace.copernicus.eu'. Adding certificate verification is strongly advised. See: https://urllib3.readthedocs.io/en/latest/advanced-usage.html#tls-warnings\n",
      "  warnings.warn(\n"
     ]
    },
    {
     "name": "stdout",
     "output_type": "stream",
     "text": [
      "Saved: T35VNE_20230608T093549_B02_10m.jp2\n"
     ]
    },
    {
     "name": "stderr",
     "output_type": "stream",
     "text": [
      "/Users/kristaps/Projs/bulbulis/.venv/lib/python3.13/site-packages/urllib3/connectionpool.py:1097: InsecureRequestWarning: Unverified HTTPS request is being made to host 'download.dataspace.copernicus.eu'. Adding certificate verification is strongly advised. See: https://urllib3.readthedocs.io/en/latest/advanced-usage.html#tls-warnings\n",
      "  warnings.warn(\n"
     ]
    },
    {
     "name": "stdout",
     "output_type": "stream",
     "text": [
      "Saved: T35VNE_20230608T093549_B03_10m.jp2\n"
     ]
    },
    {
     "name": "stderr",
     "output_type": "stream",
     "text": [
      "/Users/kristaps/Projs/bulbulis/.venv/lib/python3.13/site-packages/urllib3/connectionpool.py:1097: InsecureRequestWarning: Unverified HTTPS request is being made to host 'download.dataspace.copernicus.eu'. Adding certificate verification is strongly advised. See: https://urllib3.readthedocs.io/en/latest/advanced-usage.html#tls-warnings\n",
      "  warnings.warn(\n"
     ]
    },
    {
     "name": "stdout",
     "output_type": "stream",
     "text": [
      "Saved: T35VNE_20230608T093549_B04_10m.jp2\n"
     ]
    },
    {
     "name": "stderr",
     "output_type": "stream",
     "text": [
      "/Users/kristaps/Projs/bulbulis/.venv/lib/python3.13/site-packages/urllib3/connectionpool.py:1097: InsecureRequestWarning: Unverified HTTPS request is being made to host 'download.dataspace.copernicus.eu'. Adding certificate verification is strongly advised. See: https://urllib3.readthedocs.io/en/latest/advanced-usage.html#tls-warnings\n",
      "  warnings.warn(\n"
     ]
    },
    {
     "name": "stdout",
     "output_type": "stream",
     "text": [
      "Saved: T35VNE_20230608T093549_B08_10m.jp2\n"
     ]
    },
    {
     "name": "stderr",
     "output_type": "stream",
     "text": [
      "/Users/kristaps/Projs/bulbulis/.venv/lib/python3.13/site-packages/urllib3/connectionpool.py:1097: InsecureRequestWarning: Unverified HTTPS request is being made to host 'download.dataspace.copernicus.eu'. Adding certificate verification is strongly advised. See: https://urllib3.readthedocs.io/en/latest/advanced-usage.html#tls-warnings\n",
      "  warnings.warn(\n"
     ]
    },
    {
     "name": "stdout",
     "output_type": "stream",
     "text": [
      "Saved: T35VNE_20230608T093549_SCL_20m.jp2\n",
      "Saved as: /Users/kristaps/Projs/bulbulis/images/Sentinel2_S2B_MSIL2A_20230608T093549_N0509_R036_T35VNE_20230608T112304.SAFE_true_color_base.jpeg\n",
      "https://catalogue.dataspace.copernicus.eu/odata/v1/Products(861f6915-2f0c-4306-ab86-74ff4942d461)/Nodes(S2A_MSIL2A_20230609T100031_N0509_R122_T34VEJ_20230609T132603.SAFE)/Nodes(MTD_MSIL2A.xml)/$value\n",
      "<Response [200]>\n"
     ]
    },
    {
     "name": "stderr",
     "output_type": "stream",
     "text": [
      "/Users/kristaps/Projs/bulbulis/.venv/lib/python3.13/site-packages/urllib3/connectionpool.py:1097: InsecureRequestWarning: Unverified HTTPS request is being made to host 'download.dataspace.copernicus.eu'. Adding certificate verification is strongly advised. See: https://urllib3.readthedocs.io/en/latest/advanced-usage.html#tls-warnings\n",
      "  warnings.warn(\n",
      "/Users/kristaps/Projs/bulbulis/.venv/lib/python3.13/site-packages/urllib3/connectionpool.py:1097: InsecureRequestWarning: Unverified HTTPS request is being made to host 'download.dataspace.copernicus.eu'. Adding certificate verification is strongly advised. See: https://urllib3.readthedocs.io/en/latest/advanced-usage.html#tls-warnings\n",
      "  warnings.warn(\n"
     ]
    },
    {
     "name": "stdout",
     "output_type": "stream",
     "text": [
      "Saved: T34VEJ_20230609T100031_B02_10m.jp2\n"
     ]
    },
    {
     "name": "stderr",
     "output_type": "stream",
     "text": [
      "/Users/kristaps/Projs/bulbulis/.venv/lib/python3.13/site-packages/urllib3/connectionpool.py:1097: InsecureRequestWarning: Unverified HTTPS request is being made to host 'download.dataspace.copernicus.eu'. Adding certificate verification is strongly advised. See: https://urllib3.readthedocs.io/en/latest/advanced-usage.html#tls-warnings\n",
      "  warnings.warn(\n"
     ]
    },
    {
     "name": "stdout",
     "output_type": "stream",
     "text": [
      "Saved: T34VEJ_20230609T100031_B03_10m.jp2\n"
     ]
    },
    {
     "name": "stderr",
     "output_type": "stream",
     "text": [
      "/Users/kristaps/Projs/bulbulis/.venv/lib/python3.13/site-packages/urllib3/connectionpool.py:1097: InsecureRequestWarning: Unverified HTTPS request is being made to host 'download.dataspace.copernicus.eu'. Adding certificate verification is strongly advised. See: https://urllib3.readthedocs.io/en/latest/advanced-usage.html#tls-warnings\n",
      "  warnings.warn(\n"
     ]
    },
    {
     "name": "stdout",
     "output_type": "stream",
     "text": [
      "Saved: T34VEJ_20230609T100031_B04_10m.jp2\n"
     ]
    },
    {
     "name": "stderr",
     "output_type": "stream",
     "text": [
      "/Users/kristaps/Projs/bulbulis/.venv/lib/python3.13/site-packages/urllib3/connectionpool.py:1097: InsecureRequestWarning: Unverified HTTPS request is being made to host 'download.dataspace.copernicus.eu'. Adding certificate verification is strongly advised. See: https://urllib3.readthedocs.io/en/latest/advanced-usage.html#tls-warnings\n",
      "  warnings.warn(\n"
     ]
    },
    {
     "name": "stdout",
     "output_type": "stream",
     "text": [
      "Saved: T34VEJ_20230609T100031_B08_10m.jp2\n"
     ]
    },
    {
     "name": "stderr",
     "output_type": "stream",
     "text": [
      "/Users/kristaps/Projs/bulbulis/.venv/lib/python3.13/site-packages/urllib3/connectionpool.py:1097: InsecureRequestWarning: Unverified HTTPS request is being made to host 'download.dataspace.copernicus.eu'. Adding certificate verification is strongly advised. See: https://urllib3.readthedocs.io/en/latest/advanced-usage.html#tls-warnings\n",
      "  warnings.warn(\n"
     ]
    },
    {
     "name": "stdout",
     "output_type": "stream",
     "text": [
      "Saved: T34VEJ_20230609T100031_SCL_20m.jp2\n",
      "Saved as: /Users/kristaps/Projs/bulbulis/images/Sentinel2_S2A_MSIL2A_20230609T100031_N0509_R122_T34VEJ_20230609T132603.SAFE_true_color_base.jpeg\n",
      "https://catalogue.dataspace.copernicus.eu/odata/v1/Products(a1857717-bc47-4eaf-a455-45181c173e62)/Nodes(S2A_MSIL2A_20230609T100031_N0509_R122_T34VFJ_20230609T132603.SAFE)/Nodes(MTD_MSIL2A.xml)/$value\n",
      "<Response [200]>\n"
     ]
    },
    {
     "name": "stderr",
     "output_type": "stream",
     "text": [
      "/Users/kristaps/Projs/bulbulis/.venv/lib/python3.13/site-packages/urllib3/connectionpool.py:1097: InsecureRequestWarning: Unverified HTTPS request is being made to host 'download.dataspace.copernicus.eu'. Adding certificate verification is strongly advised. See: https://urllib3.readthedocs.io/en/latest/advanced-usage.html#tls-warnings\n",
      "  warnings.warn(\n",
      "/Users/kristaps/Projs/bulbulis/.venv/lib/python3.13/site-packages/urllib3/connectionpool.py:1097: InsecureRequestWarning: Unverified HTTPS request is being made to host 'download.dataspace.copernicus.eu'. Adding certificate verification is strongly advised. See: https://urllib3.readthedocs.io/en/latest/advanced-usage.html#tls-warnings\n",
      "  warnings.warn(\n"
     ]
    },
    {
     "name": "stdout",
     "output_type": "stream",
     "text": [
      "Saved: T34VFJ_20230609T100031_B02_10m.jp2\n"
     ]
    },
    {
     "name": "stderr",
     "output_type": "stream",
     "text": [
      "/Users/kristaps/Projs/bulbulis/.venv/lib/python3.13/site-packages/urllib3/connectionpool.py:1097: InsecureRequestWarning: Unverified HTTPS request is being made to host 'download.dataspace.copernicus.eu'. Adding certificate verification is strongly advised. See: https://urllib3.readthedocs.io/en/latest/advanced-usage.html#tls-warnings\n",
      "  warnings.warn(\n"
     ]
    },
    {
     "name": "stdout",
     "output_type": "stream",
     "text": [
      "Saved: T34VFJ_20230609T100031_B03_10m.jp2\n"
     ]
    },
    {
     "name": "stderr",
     "output_type": "stream",
     "text": [
      "/Users/kristaps/Projs/bulbulis/.venv/lib/python3.13/site-packages/urllib3/connectionpool.py:1097: InsecureRequestWarning: Unverified HTTPS request is being made to host 'download.dataspace.copernicus.eu'. Adding certificate verification is strongly advised. See: https://urllib3.readthedocs.io/en/latest/advanced-usage.html#tls-warnings\n",
      "  warnings.warn(\n"
     ]
    },
    {
     "name": "stdout",
     "output_type": "stream",
     "text": [
      "Saved: T34VFJ_20230609T100031_B04_10m.jp2\n"
     ]
    },
    {
     "name": "stderr",
     "output_type": "stream",
     "text": [
      "/Users/kristaps/Projs/bulbulis/.venv/lib/python3.13/site-packages/urllib3/connectionpool.py:1097: InsecureRequestWarning: Unverified HTTPS request is being made to host 'download.dataspace.copernicus.eu'. Adding certificate verification is strongly advised. See: https://urllib3.readthedocs.io/en/latest/advanced-usage.html#tls-warnings\n",
      "  warnings.warn(\n"
     ]
    },
    {
     "name": "stdout",
     "output_type": "stream",
     "text": [
      "Saved: T34VFJ_20230609T100031_B08_10m.jp2\n"
     ]
    },
    {
     "name": "stderr",
     "output_type": "stream",
     "text": [
      "/Users/kristaps/Projs/bulbulis/.venv/lib/python3.13/site-packages/urllib3/connectionpool.py:1097: InsecureRequestWarning: Unverified HTTPS request is being made to host 'download.dataspace.copernicus.eu'. Adding certificate verification is strongly advised. See: https://urllib3.readthedocs.io/en/latest/advanced-usage.html#tls-warnings\n",
      "  warnings.warn(\n"
     ]
    },
    {
     "name": "stdout",
     "output_type": "stream",
     "text": [
      "Saved: T34VFJ_20230609T100031_SCL_20m.jp2\n",
      "Saved as: /Users/kristaps/Projs/bulbulis/images/Sentinel2_S2A_MSIL2A_20230609T100031_N0509_R122_T34VFJ_20230609T132603.SAFE_true_color_base.jpeg\n",
      "https://catalogue.dataspace.copernicus.eu/odata/v1/Products(713631c7-83c5-420a-a73f-498837e51234)/Nodes(S2A_MSIL2A_20230609T100031_N0509_R122_T34VFK_20230609T132603.SAFE)/Nodes(MTD_MSIL2A.xml)/$value\n",
      "<Response [200]>\n"
     ]
    },
    {
     "name": "stderr",
     "output_type": "stream",
     "text": [
      "/Users/kristaps/Projs/bulbulis/.venv/lib/python3.13/site-packages/urllib3/connectionpool.py:1097: InsecureRequestWarning: Unverified HTTPS request is being made to host 'download.dataspace.copernicus.eu'. Adding certificate verification is strongly advised. See: https://urllib3.readthedocs.io/en/latest/advanced-usage.html#tls-warnings\n",
      "  warnings.warn(\n",
      "/Users/kristaps/Projs/bulbulis/.venv/lib/python3.13/site-packages/urllib3/connectionpool.py:1097: InsecureRequestWarning: Unverified HTTPS request is being made to host 'download.dataspace.copernicus.eu'. Adding certificate verification is strongly advised. See: https://urllib3.readthedocs.io/en/latest/advanced-usage.html#tls-warnings\n",
      "  warnings.warn(\n"
     ]
    },
    {
     "name": "stdout",
     "output_type": "stream",
     "text": [
      "Saved: T34VFK_20230609T100031_B02_10m.jp2\n"
     ]
    },
    {
     "name": "stderr",
     "output_type": "stream",
     "text": [
      "/Users/kristaps/Projs/bulbulis/.venv/lib/python3.13/site-packages/urllib3/connectionpool.py:1097: InsecureRequestWarning: Unverified HTTPS request is being made to host 'download.dataspace.copernicus.eu'. Adding certificate verification is strongly advised. See: https://urllib3.readthedocs.io/en/latest/advanced-usage.html#tls-warnings\n",
      "  warnings.warn(\n"
     ]
    },
    {
     "name": "stdout",
     "output_type": "stream",
     "text": [
      "Saved: T34VFK_20230609T100031_B03_10m.jp2\n"
     ]
    },
    {
     "name": "stderr",
     "output_type": "stream",
     "text": [
      "/Users/kristaps/Projs/bulbulis/.venv/lib/python3.13/site-packages/urllib3/connectionpool.py:1097: InsecureRequestWarning: Unverified HTTPS request is being made to host 'download.dataspace.copernicus.eu'. Adding certificate verification is strongly advised. See: https://urllib3.readthedocs.io/en/latest/advanced-usage.html#tls-warnings\n",
      "  warnings.warn(\n"
     ]
    },
    {
     "name": "stdout",
     "output_type": "stream",
     "text": [
      "Saved: T34VFK_20230609T100031_B04_10m.jp2\n"
     ]
    },
    {
     "name": "stderr",
     "output_type": "stream",
     "text": [
      "/Users/kristaps/Projs/bulbulis/.venv/lib/python3.13/site-packages/urllib3/connectionpool.py:1097: InsecureRequestWarning: Unverified HTTPS request is being made to host 'download.dataspace.copernicus.eu'. Adding certificate verification is strongly advised. See: https://urllib3.readthedocs.io/en/latest/advanced-usage.html#tls-warnings\n",
      "  warnings.warn(\n"
     ]
    },
    {
     "name": "stdout",
     "output_type": "stream",
     "text": [
      "Saved: T34VFK_20230609T100031_B08_10m.jp2\n"
     ]
    },
    {
     "name": "stderr",
     "output_type": "stream",
     "text": [
      "/Users/kristaps/Projs/bulbulis/.venv/lib/python3.13/site-packages/urllib3/connectionpool.py:1097: InsecureRequestWarning: Unverified HTTPS request is being made to host 'download.dataspace.copernicus.eu'. Adding certificate verification is strongly advised. See: https://urllib3.readthedocs.io/en/latest/advanced-usage.html#tls-warnings\n",
      "  warnings.warn(\n"
     ]
    },
    {
     "name": "stdout",
     "output_type": "stream",
     "text": [
      "Saved: T34VFK_20230609T100031_SCL_20m.jp2\n",
      "Saved as: /Users/kristaps/Projs/bulbulis/images/Sentinel2_S2A_MSIL2A_20230609T100031_N0509_R122_T34VFK_20230609T132603.SAFE_true_color_base.jpeg\n"
     ]
    }
   ],
   "source": [
    "#for i,r in result.head(3).iterrows():\n",
    "for i,r in result.iterrows():\n",
    "    response = requests.post(auth_server_url, data=data, verify=True, allow_redirects=False)\n",
    "    access_token = json.loads(response.text)[\"access_token\"]\n",
    "\n",
    "    session = requests.Session()\n",
    "    session.headers[\"Authorization\"] = f\"Bearer {access_token}\"\n",
    "    \n",
    "    product_identifier = r[\"Id\"]\n",
    "    product_name = r[\"Name\"]\n",
    "\n",
    "    url = f\"{catalogue_odata_url}/Products({product_identifier})/Nodes({product_name})/Nodes(MTD_MSIL2A.xml)/$value\"\n",
    "    print(url)\n",
    "    \n",
    "    response = session.get(url, allow_redirects=False)\n",
    "    while response.status_code in (301, 302, 303, 307):\n",
    "        url = response.headers[\"Location\"]\n",
    "        response = session.get(url, allow_redirects=False)\n",
    "        print(response)\n",
    "    file = session.get(url, verify=False, allow_redirects=True)\n",
    "    outfile = Path.home() / f\"Projs/bulbulis/notebooks/data/MTD_{product_name}_MSIL2A.xml\"\n",
    "    outfile.write_bytes(file.content)\n",
    "\n",
    "    tree = ET.parse(str(outfile))\n",
    "    root = tree.getroot()\n",
    "    band_location = [f\"{product_name}/{e.text}.jp2\".split(\"/\") for e in root[0][0][12][0][0] if \"B02_10m\" in e.text or \"B03_10m\" in e.text or \"B04_10m\" in e.text or \"B08_10m\" in e.text or \"SCL_20m\" in e.text]\n",
    "\n",
    "    bands = []\n",
    "    for band_file in band_location:\n",
    "        url = f\"{catalogue_odata_url}/Products({product_identifier})/{\"/\".join([f\"Nodes({b})\" for b in band_file])}/$value\"\n",
    "        response = session.get(url, allow_redirects=False)\n",
    "        while response.status_code in (301, 302, 303, 307):\n",
    "            url = response.headers[\"Location\"]\n",
    "            response = session.get(url, allow_redirects=False)\n",
    "        file = session.get(url, verify=False, allow_redirects=True)\n",
    "        \n",
    "        outfile = Path.home() / f\"Projs/bulbulis/notebooks/data/{band_file[-1]}\"\n",
    "        outfile.write_bytes(file.content)\n",
    "        bands.append(str(outfile))\n",
    "        print(\"Saved:\", band_file[-1])\n",
    "    \n",
    "    try:\n",
    "        red = rasterio.open([b for b in bands if \"B04_10m\" in b][0], driver=\"JP2OpenJPEG\").read(1)\n",
    "        green = rasterio.open([b for b in bands if \"B03_10m\" in b][0], driver=\"JP2OpenJPEG\").read(1)\n",
    "        blue = rasterio.open([b for b in bands if \"B02_10m\" in b][0], driver=\"JP2OpenJPEG\").read(1)\n",
    "    \n",
    "        gain = 2\n",
    "        red_n = np.clip(red * gain / 10000, 0, 1)\n",
    "        green_n = np.clip(green * gain / 10000, 0, 1)\n",
    "        blue_n = np.clip(blue * gain / 10000, 0, 1)\n",
    "        rgb_composite_n = np.dstack((red_n, green_n, blue_n))\n",
    "        #plt.imshow(rgb_composite_n)\n",
    "        outfile = f\"{Path.home()}/Projs/bulbulis/notebooks/images/Sentinel2_{product_name}_true_color_base.jpeg\"\n",
    "        matplotlib.image.imsave(outfile, rgb_composite_n)\n",
    "        print(\"Saved as:\", outfile)\n",
    "    except BaseException as e:\n",
    "        print(f\"ERROR: {product_name} failed with {e}\")\n",
    "    "
   ]
  },
  {
   "cell_type": "code",
   "execution_count": null,
   "id": "0487c7a2-3211-49db-8334-f5fe146f535a",
   "metadata": {},
   "outputs": [],
   "source": []
  },
  {
   "cell_type": "code",
   "execution_count": null,
   "id": "19eda9f5-73bf-452b-97c3-ebec06e0f8a1",
   "metadata": {},
   "outputs": [],
   "source": []
  },
  {
   "cell_type": "code",
   "execution_count": 6,
   "id": "45976aaf-a0b8-4e4d-b33c-649bc6bf8b73",
   "metadata": {},
   "outputs": [],
   "source": [
    "response = requests.post(auth_server_url, data=data, verify=True, allow_redirects=False)\n",
    "access_token = json.loads(response.text)[\"access_token\"]\n"
   ]
  },
  {
   "cell_type": "code",
   "execution_count": 7,
   "id": "1430465f-16ce-4fc0-a63d-0c7699c0a357",
   "metadata": {},
   "outputs": [],
   "source": [
    "product_identifier = result.iloc[0, 1]\n",
    "product_name = result.iloc[0, 2]\n",
    "\n",
    "session = requests.Session()\n",
    "session.headers[\"Authorization\"] = f\"Bearer {access_token}\"\n"
   ]
  },
  {
   "cell_type": "code",
   "execution_count": 8,
   "id": "9cf7630f-4f13-4afc-808e-77b6018febb1",
   "metadata": {},
   "outputs": [],
   "source": [
    "response = requests.post(auth_server_url, data=data, verify=True, allow_redirects=False)\n",
    "access_token = json.loads(response.text)[\"access_token\"]\n"
   ]
  },
  {
   "cell_type": "code",
   "execution_count": 9,
   "id": "15653d57-95e9-42dd-bf56-ac35d7cdf386",
   "metadata": {},
   "outputs": [
    {
     "name": "stdout",
     "output_type": "stream",
     "text": [
      "https://catalogue.dataspace.copernicus.eu/odata/v1/Products(8b62c4bc-b821-41a2-92bb-22e85ac8f10a)/Nodes(S2B_MSIL2A_20230608T093549_N0509_R036_T34VFJ_20230608T112304.SAFE)/Nodes(MTD_MSIL2A.xml)/$value\n",
      "<Response [200]>\n"
     ]
    },
    {
     "name": "stderr",
     "output_type": "stream",
     "text": [
      "/home/kristaps/Projs/bulbulis/.venv/lib64/python3.13/site-packages/urllib3/connectionpool.py:1097: InsecureRequestWarning: Unverified HTTPS request is being made to host 'download.dataspace.copernicus.eu'. Adding certificate verification is strongly advised. See: https://urllib3.readthedocs.io/en/latest/advanced-usage.html#tls-warnings\n",
      "  warnings.warn(\n"
     ]
    },
    {
     "name": "stdout",
     "output_type": "stream",
     "text": [
      "<Response [200]>\n"
     ]
    },
    {
     "data": {
      "text/plain": [
       "54719"
      ]
     },
     "execution_count": 9,
     "metadata": {},
     "output_type": "execute_result"
    }
   ],
   "source": [
    "url = f\"{catalogue_odata_url}/Products({product_identifier})/Nodes({product_name})/Nodes(MTD_MSIL2A.xml)/$value\"\n",
    "\n",
    "print(url)\n",
    "\n",
    "response = session.get(url, allow_redirects=False)\n",
    "while response.status_code in (301, 302, 303, 307):\n",
    "    url = response.headers[\"Location\"]\n",
    "    response = session.get(url, allow_redirects=False)\n",
    "    print(response)\n",
    "\n",
    "file = session.get(url, verify=False, allow_redirects=True)\n",
    "\n",
    "print(file)\n",
    "\n",
    "outfile = Path.home() / f\"Projs/bulbulis/notebooks/data/MTD_MSIL2A.xml\"\n",
    "outfile.write_bytes(file.content)\n"
   ]
  },
  {
   "cell_type": "code",
   "execution_count": 10,
   "id": "4aeaef2b-3a85-4576-8380-a03d794a3e4a",
   "metadata": {},
   "outputs": [],
   "source": [
    "tree = ET.parse(str(outfile))\n",
    "root = tree.getroot()\n",
    "\n",
    "# B04 and B08 for calculating NDVI => ((B08-B04)/(B08+B04))\n",
    "# NDVI > 7 indicates presence of forest\n",
    "#\n",
    "# SCL for working out if what we're seeing is a cloud\n",
    "# discard if SCL includes ones of invalid = [\n",
    "#     0, // NO_DATA\n",
    "#     1, // SATURATED_DEFECTIVE\n",
    "#     3, // CLOUD_SHADOW\n",
    "#     7, // CLOUD_LOW_PROBA\n",
    "#     8, // CLOUD_MEDIUM_PROBA\n",
    "#     9, // CLOUD_HIGH_PROBA\n",
    "#     10 // THIN_CIRRUS\n",
    "# ]\n",
    "band_location = [f\"{product_name}/{e.text}.jp2\".split(\"/\") for e in root[0][0][12][0][0] if \"B02_10m\" in e.text or \"B03_10m\" in e.text or \"B04_10m\" in e.text or \"B08_10m\" in e.text or \"SCL_20m\" in e.text]\n"
   ]
  },
  {
   "cell_type": "code",
   "execution_count": 11,
   "id": "be6b58ff-16e0-4ad6-838e-8efbb0d4a5c0",
   "metadata": {},
   "outputs": [
    {
     "data": {
      "text/plain": [
       "[['S2B_MSIL2A_20230608T093549_N0509_R036_T34VFJ_20230608T112304.SAFE',\n",
       "  'GRANULE',\n",
       "  'L2A_T34VFJ_A032666_20230608T093840',\n",
       "  'IMG_DATA',\n",
       "  'R10m',\n",
       "  'T34VFJ_20230608T093549_B02_10m.jp2'],\n",
       " ['S2B_MSIL2A_20230608T093549_N0509_R036_T34VFJ_20230608T112304.SAFE',\n",
       "  'GRANULE',\n",
       "  'L2A_T34VFJ_A032666_20230608T093840',\n",
       "  'IMG_DATA',\n",
       "  'R10m',\n",
       "  'T34VFJ_20230608T093549_B03_10m.jp2'],\n",
       " ['S2B_MSIL2A_20230608T093549_N0509_R036_T34VFJ_20230608T112304.SAFE',\n",
       "  'GRANULE',\n",
       "  'L2A_T34VFJ_A032666_20230608T093840',\n",
       "  'IMG_DATA',\n",
       "  'R10m',\n",
       "  'T34VFJ_20230608T093549_B04_10m.jp2'],\n",
       " ['S2B_MSIL2A_20230608T093549_N0509_R036_T34VFJ_20230608T112304.SAFE',\n",
       "  'GRANULE',\n",
       "  'L2A_T34VFJ_A032666_20230608T093840',\n",
       "  'IMG_DATA',\n",
       "  'R10m',\n",
       "  'T34VFJ_20230608T093549_B08_10m.jp2'],\n",
       " ['S2B_MSIL2A_20230608T093549_N0509_R036_T34VFJ_20230608T112304.SAFE',\n",
       "  'GRANULE',\n",
       "  'L2A_T34VFJ_A032666_20230608T093840',\n",
       "  'IMG_DATA',\n",
       "  'R20m',\n",
       "  'T34VFJ_20230608T093549_SCL_20m.jp2']]"
      ]
     },
     "execution_count": 11,
     "metadata": {},
     "output_type": "execute_result"
    }
   ],
   "source": [
    "band_location"
   ]
  },
  {
   "cell_type": "code",
   "execution_count": 12,
   "id": "6de5fa76-436e-45c6-8ea0-2eca4aa5fac4",
   "metadata": {},
   "outputs": [
    {
     "name": "stdout",
     "output_type": "stream",
     "text": [
      "https://catalogue.dataspace.copernicus.eu/odata/v1/Products(8b62c4bc-b821-41a2-92bb-22e85ac8f10a)/Nodes(S2B_MSIL2A_20230608T093549_N0509_R036_T34VFJ_20230608T112304.SAFE)/Nodes(GRANULE)/Nodes(L2A_T34VFJ_A032666_20230608T093840)/Nodes(IMG_DATA)/Nodes(R10m)/Nodes(T34VFJ_20230608T093549_B02_10m.jp2)/$value\n"
     ]
    },
    {
     "name": "stderr",
     "output_type": "stream",
     "text": [
      "/home/kristaps/Projs/bulbulis/.venv/lib64/python3.13/site-packages/urllib3/connectionpool.py:1097: InsecureRequestWarning: Unverified HTTPS request is being made to host 'download.dataspace.copernicus.eu'. Adding certificate verification is strongly advised. See: https://urllib3.readthedocs.io/en/latest/advanced-usage.html#tls-warnings\n",
      "  warnings.warn(\n"
     ]
    },
    {
     "name": "stdout",
     "output_type": "stream",
     "text": [
      "Saved: T34VFJ_20230608T093549_B02_10m.jp2\n",
      "1.9923026609999996\n",
      "https://catalogue.dataspace.copernicus.eu/odata/v1/Products(8b62c4bc-b821-41a2-92bb-22e85ac8f10a)/Nodes(S2B_MSIL2A_20230608T093549_N0509_R036_T34VFJ_20230608T112304.SAFE)/Nodes(GRANULE)/Nodes(L2A_T34VFJ_A032666_20230608T093840)/Nodes(IMG_DATA)/Nodes(R10m)/Nodes(T34VFJ_20230608T093549_B03_10m.jp2)/$value\n"
     ]
    },
    {
     "name": "stderr",
     "output_type": "stream",
     "text": [
      "/home/kristaps/Projs/bulbulis/.venv/lib64/python3.13/site-packages/urllib3/connectionpool.py:1097: InsecureRequestWarning: Unverified HTTPS request is being made to host 'download.dataspace.copernicus.eu'. Adding certificate verification is strongly advised. See: https://urllib3.readthedocs.io/en/latest/advanced-usage.html#tls-warnings\n",
      "  warnings.warn(\n"
     ]
    },
    {
     "name": "stdout",
     "output_type": "stream",
     "text": [
      "Saved: T34VFJ_20230608T093549_B03_10m.jp2\n",
      "1.9798205959999997\n",
      "https://catalogue.dataspace.copernicus.eu/odata/v1/Products(8b62c4bc-b821-41a2-92bb-22e85ac8f10a)/Nodes(S2B_MSIL2A_20230608T093549_N0509_R036_T34VFJ_20230608T112304.SAFE)/Nodes(GRANULE)/Nodes(L2A_T34VFJ_A032666_20230608T093840)/Nodes(IMG_DATA)/Nodes(R10m)/Nodes(T34VFJ_20230608T093549_B04_10m.jp2)/$value\n"
     ]
    },
    {
     "name": "stderr",
     "output_type": "stream",
     "text": [
      "/home/kristaps/Projs/bulbulis/.venv/lib64/python3.13/site-packages/urllib3/connectionpool.py:1097: InsecureRequestWarning: Unverified HTTPS request is being made to host 'download.dataspace.copernicus.eu'. Adding certificate verification is strongly advised. See: https://urllib3.readthedocs.io/en/latest/advanced-usage.html#tls-warnings\n",
      "  warnings.warn(\n"
     ]
    },
    {
     "name": "stdout",
     "output_type": "stream",
     "text": [
      "Saved: T34VFJ_20230608T093549_B04_10m.jp2\n",
      "1.964040689\n",
      "https://catalogue.dataspace.copernicus.eu/odata/v1/Products(8b62c4bc-b821-41a2-92bb-22e85ac8f10a)/Nodes(S2B_MSIL2A_20230608T093549_N0509_R036_T34VFJ_20230608T112304.SAFE)/Nodes(GRANULE)/Nodes(L2A_T34VFJ_A032666_20230608T093840)/Nodes(IMG_DATA)/Nodes(R10m)/Nodes(T34VFJ_20230608T093549_B08_10m.jp2)/$value\n"
     ]
    },
    {
     "name": "stderr",
     "output_type": "stream",
     "text": [
      "/home/kristaps/Projs/bulbulis/.venv/lib64/python3.13/site-packages/urllib3/connectionpool.py:1097: InsecureRequestWarning: Unverified HTTPS request is being made to host 'download.dataspace.copernicus.eu'. Adding certificate verification is strongly advised. See: https://urllib3.readthedocs.io/en/latest/advanced-usage.html#tls-warnings\n",
      "  warnings.warn(\n"
     ]
    },
    {
     "name": "stdout",
     "output_type": "stream",
     "text": [
      "Saved: T34VFJ_20230608T093549_B08_10m.jp2\n",
      "2.1863102859999994\n",
      "https://catalogue.dataspace.copernicus.eu/odata/v1/Products(8b62c4bc-b821-41a2-92bb-22e85ac8f10a)/Nodes(S2B_MSIL2A_20230608T093549_N0509_R036_T34VFJ_20230608T112304.SAFE)/Nodes(GRANULE)/Nodes(L2A_T34VFJ_A032666_20230608T093840)/Nodes(IMG_DATA)/Nodes(R20m)/Nodes(T34VFJ_20230608T093549_SCL_20m.jp2)/$value\n"
     ]
    },
    {
     "name": "stderr",
     "output_type": "stream",
     "text": [
      "/home/kristaps/Projs/bulbulis/.venv/lib64/python3.13/site-packages/urllib3/connectionpool.py:1097: InsecureRequestWarning: Unverified HTTPS request is being made to host 'download.dataspace.copernicus.eu'. Adding certificate verification is strongly advised. See: https://urllib3.readthedocs.io/en/latest/advanced-usage.html#tls-warnings\n",
      "  warnings.warn(\n"
     ]
    },
    {
     "name": "stdout",
     "output_type": "stream",
     "text": [
      "Saved: T34VFJ_20230608T093549_SCL_20m.jp2\n",
      "0.0535352299999996\n"
     ]
    }
   ],
   "source": [
    "bands = []\n",
    "for band_file in band_location:\n",
    "    start = time.process_time()\n",
    "    \n",
    "    url = f\"{catalogue_odata_url}/Products({product_identifier})/{\"/\".join([f\"Nodes({b})\" for b in band_file])}/$value\"\n",
    "    print(url)\n",
    "    response = session.get(url, allow_redirects=False)\n",
    "    while response.status_code in (301, 302, 303, 307):\n",
    "        url = response.headers[\"Location\"]\n",
    "        response = session.get(url, allow_redirects=False)\n",
    "    file = session.get(url, verify=False, allow_redirects=True)\n",
    "    \n",
    "    outfile = Path.home() / f\"Projs/bulbulis/notebooks/data/{band_file[-1]}\"\n",
    "    outfile.write_bytes(file.content)\n",
    "    bands.append(str(outfile))\n",
    "    print(\"Saved:\", band_file[-1])\n",
    "    \n",
    "    print(time.process_time() - start)\n",
    "    "
   ]
  },
  {
   "cell_type": "code",
   "execution_count": 13,
   "id": "50796ce2-fd95-4b59-8485-3dc80c305345",
   "metadata": {},
   "outputs": [
    {
     "data": {
      "text/plain": [
       "['/home/kristaps/Projs/bulbulis/notebooks/data/T34VFJ_20230608T093549_B02_10m.jp2',\n",
       " '/home/kristaps/Projs/bulbulis/notebooks/data/T34VFJ_20230608T093549_B03_10m.jp2',\n",
       " '/home/kristaps/Projs/bulbulis/notebooks/data/T34VFJ_20230608T093549_B04_10m.jp2',\n",
       " '/home/kristaps/Projs/bulbulis/notebooks/data/T34VFJ_20230608T093549_B08_10m.jp2',\n",
       " '/home/kristaps/Projs/bulbulis/notebooks/data/T34VFJ_20230608T093549_SCL_20m.jp2']"
      ]
     },
     "execution_count": 13,
     "metadata": {},
     "output_type": "execute_result"
    }
   ],
   "source": [
    "bands"
   ]
  },
  {
   "cell_type": "code",
   "execution_count": 14,
   "id": "f1d976dd-85c0-4453-8f4a-2e6dbfc21bf6",
   "metadata": {},
   "outputs": [],
   "source": [
    "red = rasterio.open([b for b in bands if \"B04_10m\" in b][0], driver=\"JP2OpenJPEG\").read(1)\n",
    "green = rasterio.open([b for b in bands if \"B03_10m\" in b][0], driver=\"JP2OpenJPEG\").read(1)\n",
    "blue = rasterio.open([b for b in bands if \"B02_10m\" in b][0], driver=\"JP2OpenJPEG\").read(1)\n"
   ]
  },
  {
   "cell_type": "code",
   "execution_count": 15,
   "id": "e81880ee-95e7-4a00-8193-13ae9330ce1b",
   "metadata": {},
   "outputs": [
    {
     "name": "stdout",
     "output_type": "stream",
     "text": [
      "Saved as: /home/kristaps/Projs/bulbulis/Sentinel2_true_color_base.jpeg\n",
      "8.092570152000008\n"
     ]
    },
    {
     "data": {
      "image/png": "[encoded data removed]",
      "text/plain": [
       "<Figure size 640x480 with 1 Axes>"
      ]
     },
     "metadata": {},
     "output_type": "display_data"
    }
   ],
   "source": [
    "start = time.process_time()\n",
    "\n",
    "gain = 2\n",
    "\n",
    "# Normalize the pixel values and apply gain\n",
    "red_n = np.clip(red * gain / 10000, 0, 1)\n",
    "green_n = np.clip(green * gain / 10000, 0, 1)\n",
    "blue_n = np.clip(blue * gain / 10000, 0, 1)\n",
    "\n",
    "# Create composite image\n",
    "rgb_composite_n = np.dstack((red_n, green_n, blue_n))\n",
    "\n",
    "# Display image\n",
    "plt.imshow(rgb_composite_n)\n",
    "\n",
    "# Save image to file\n",
    "outfile = f\"{Path.home()}/Projs/bulbulis/Sentinel2_true_color_base.jpeg\"\n",
    "matplotlib.image.imsave(outfile, rgb_composite_n)\n",
    "print(\"Saved as:\", outfile)\n",
    "\n",
    "print(time.process_time() - start)\n"
   ]
  },
  {
   "cell_type": "code",
   "execution_count": 16,
   "id": "b656e5f8-c320-4b1e-af61-5612516c8e41",
   "metadata": {},
   "outputs": [
    {
     "data": {
      "text/plain": [
       "(10980, 10980)"
      ]
     },
     "execution_count": 16,
     "metadata": {},
     "output_type": "execute_result"
    }
   ],
   "source": [
    "red_n.shape\n"
   ]
  },
  {
   "cell_type": "code",
   "execution_count": 17,
   "id": "6ec99c56-dd7b-49f6-aa7b-d5e84be3450e",
   "metadata": {},
   "outputs": [],
   "source": [
    "b04 = rasterio.open([b for b in bands if \"B04_10m\" in b][0], driver=\"JP2OpenJPEG\").read(1)/10000\n",
    "b08 = rasterio.open([b for b in bands if \"B08_10m\" in b][0], driver=\"JP2OpenJPEG\").read(1)/10000\n"
   ]
  },
  {
   "cell_type": "code",
   "execution_count": 23,
   "id": "674a6850-2583-4ad1-b966-4193f7d42e25",
   "metadata": {},
   "outputs": [],
   "source": [
    "ndvi = ((b08-b04)/(b08+b04)) #*10000\n"
   ]
  },
  {
   "cell_type": "code",
   "execution_count": 28,
   "id": "4eb3abb8-6a67-4ab2-8cff-686e1d831382",
   "metadata": {},
   "outputs": [],
   "source": [
    "clipped = ndvi/np.max(ndvi)\n",
    "clipped[clipped < 0.7] = 0.0\n"
   ]
  },
  {
   "cell_type": "code",
   "execution_count": 29,
   "id": "ddd9c87a-5578-43f3-8ae3-2ab0075df048",
   "metadata": {},
   "outputs": [
    {
     "data": {
      "text/plain": [
       "<matplotlib.image.AxesImage at 0x7f1e6dc1c910>"
      ]
     },
     "execution_count": 29,
     "metadata": {},
     "output_type": "execute_result"
    },
    {
     "data": {
      "image/png": "[encoded data removed]",
      "text/plain": [
       "<Figure size 640x480 with 1 Axes>"
      ]
     },
     "metadata": {},
     "output_type": "display_data"
    }
   ],
   "source": [
    "# Create composite image\n",
    "rgb_composite_n = np.dstack((np.zeros(ndvi.shape), clipped, np.zeros(ndvi.shape)))\n",
    "\n",
    "# Display image\n",
    "plt.imshow(rgb_composite_n)\n"
   ]
  },
  {
   "cell_type": "code",
   "execution_count": null,
   "id": "3897b5c6-8813-48a9-8394-5bf48b6424d8",
   "metadata": {},
   "outputs": [],
   "source": []
  }
 ],
 "metadata": {
  "kernelspec": {
   "display_name": "Python 3 (ipykernel)",
   "language": "python",
   "name": "python3"
  },
  "language_info": {
   "codemirror_mode": {
    "name": "ipython",
    "version": 3
   },
   "file_extension": ".py",
   "mimetype": "text/x-python",
   "name": "python",
   "nbconvert_exporter": "python",
   "pygments_lexer": "ipython3",
   "version": "3.13.2"
  }
 },
 "nbformat": 4,
 "nbformat_minor": 5
}
