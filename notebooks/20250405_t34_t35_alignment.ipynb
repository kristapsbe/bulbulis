{
 "cells": [
  {
   "cell_type": "code",
   "execution_count": 1,
   "id": "8eb4eefe-29c6-4515-bf76-f453800e917e",
   "metadata": {},
   "outputs": [],
   "source": [
    "import os\n",
    "import cv2 \n",
    "import numpy as np\n",
    "import rasterio\n",
    "\n",
    "from scipy.ndimage import zoom, rotate\n",
    "from matplotlib import pyplot as plt \n"
   ]
  },
  {
   "cell_type": "code",
   "execution_count": 2,
   "id": "542aad4a-349c-4b0e-b08b-0745a0463feb",
   "metadata": {},
   "outputs": [],
   "source": [
    "# T34VFJ and T35VLD = Riga\n"
   ]
  },
  {
   "cell_type": "code",
   "execution_count": 3,
   "id": "9b1ebf16-86ff-44bb-9cd2-2e75381ac4f8",
   "metadata": {},
   "outputs": [],
   "source": [
    "files = {}\n",
    "\n",
    "for f in os.listdir(\"/home/kristaps/Projs/bulbulis/data\"):\n",
    "    if \".jp2\" in f:\n",
    "        parts = f.split(\"_\")\n",
    "        if parts[0] not in files:\n",
    "            files[parts[0]] = {}\n",
    "        if parts[1] not in files[parts[0]]:\n",
    "            files[parts[0]][parts[1]] = {}\n",
    "        files[parts[0]][parts[1]][parts[2]] = f\"/home/kristaps/Projs/bulbulis/data/{f}\"\n"
   ]
  },
  {
   "cell_type": "code",
   "execution_count": 4,
   "id": "fa1289ed-9810-499e-a9f9-dd2ad40dcb94",
   "metadata": {},
   "outputs": [],
   "source": [
    "dates = []\n",
    "for f in files.values():\n",
    "    dates += list(f.keys())\n",
    "dates = sorted(list(set(dates)))\n",
    "    "
   ]
  },
  {
   "cell_type": "code",
   "execution_count": 5,
   "id": "5650851f-37a6-4805-995f-9b07bba7edcf",
   "metadata": {},
   "outputs": [],
   "source": [
    "deg = 5\n",
    "v_offset = 300\n",
    "w = 10980\n",
    "h = 4*10980+v_offset\n"
   ]
  },
  {
   "cell_type": "code",
   "execution_count": 6,
   "id": "b1c5826a-8fb8-4ce1-a22b-cf69449080a3",
   "metadata": {},
   "outputs": [],
   "source": [
    "left = np.dstack((np.zeros((h, w)), np.zeros((h, w)), np.zeros((h, w))))\n",
    "left_offsets = {\n",
    "    \"T34VFK\": 0,\n",
    "    \"T34VFJ\": 1,\n",
    "    \"T34VFH\": 2,\n",
    "    \"T34UFG\": 3,\n",
    "}\n",
    "right = np.dstack((np.zeros((h, w)), np.zeros((h, w)), np.zeros((h, w))))\n",
    "right_offsets = {\n",
    "    \"T35VLE\": 0,\n",
    "    \"T35VLD\": 1,\n",
    "    \"T35VLC\": 2,\n",
    "    \"T35ULB\": 3,\n",
    "}\n",
    "\n",
    "merged = np.dstack((np.zeros((h, 2*w)), np.zeros((h, 2*w)), np.zeros((h, 2*w))))\n"
   ]
  },
  {
   "cell_type": "code",
   "execution_count": null,
   "id": "06850986-1fcc-44f7-a995-d7cbfdd3add7",
   "metadata": {},
   "outputs": [
    {
     "name": "stdout",
     "output_type": "stream",
     "text": [
      "20150810T100016 T34VFK\n",
      "20150810T100016 T34VFJ\n",
      "20150811T093006 T34VFH\n",
      "20150811T093006 T34UFG\n",
      "20150811T093006 T35VLE\n",
      "20150811T093006 T35VLD\n",
      "20150811T093006 T35VLC\n",
      "20150811T093006 T35ULB\n",
      "20150814T094006 T34VFK\n",
      "20150814T094006 T34VFJ\n",
      "20150814T094006 T34VFH\n",
      "20150814T094006 T34UFG\n",
      "20150814T094006 T35VLE\n",
      "20150814T094006 T35VLD\n",
      "20150814T094006 T35VLC\n",
      "20150814T094006 T35ULB\n",
      "20150817T095016 T34VFK\n",
      "20150817T095016 T34VFJ\n",
      "20150817T095016 T34VFH\n",
      "20150817T095016 T34UFG\n",
      "20150817T095016 T35VLE\n",
      "20150817T095016 T35VLD\n",
      "20150817T095016 T35VLC\n",
      "20150817T095016 T35ULB\n",
      "20150820T100016 T34VFK\n",
      "20150820T100016 T34VFJ\n",
      "20150821T093006 T34VFH\n",
      "20150821T093006 T34UFG\n",
      "20150821T093006 T35VLE\n",
      "20150821T093006 T35VLD\n",
      "20150821T093006 T35VLC\n",
      "20150821T093006 T35ULB\n",
      "20150824T094006 T34VFK\n",
      "20150824T094006 T34VFJ\n",
      "20150824T094006 T34VFH\n",
      "20150824T094006 T34UFG\n",
      "20150824T094006 T35VLE\n",
      "20150824T094006 T35VLD\n",
      "20150824T094006 T35VLC\n",
      "20150824T094006 T35ULB\n",
      "20150827T095016 T34VFK\n",
      "20150827T095016 T34VFJ\n",
      "20150827T095016 T34VFH\n",
      "20150827T095016 T34UFG\n",
      "20150827T095016 T35VLE\n"
     ]
    }
   ],
   "source": [
    "gain = 2\n",
    "\n",
    "for d in dates[10:20]:\n",
    "    for k,v in left_offsets.items():\n",
    "        if d in files[k]:\n",
    "            fj = files[k][d]\n",
    "            try:\n",
    "                scl = np.repeat(np.repeat(rasterio.open(fj[\"SCL\"], driver=\"JP2OpenJPEG\").read(1), 2, 0), 2, 1)\n",
    "                c_red = np.clip(rasterio.open(fj[\"B04\"], driver=\"JP2OpenJPEG\").read(1)*gain/10000, 0, 1)\n",
    "                c_green = np.clip(rasterio.open(fj[\"B03\"], driver=\"JP2OpenJPEG\").read(1)*gain/10000, 0, 1) \n",
    "                c_blue = np.clip(rasterio.open(fj[\"B02\"], driver=\"JP2OpenJPEG\").read(1)*gain/10000, 0, 1)\n",
    "                \n",
    "                print(d, k)\n",
    "                cell_offset = v*w+v_offset\n",
    "                mask = ((scl != 0) & (scl != 1) & (scl != 3) & (scl != 7) & (scl != 8) & (scl != 9) & (scl != 10))\n",
    "    \n",
    "                left[cell_offset:cell_offset+w, :, 0][mask] = c_red[mask]\n",
    "                left[cell_offset:cell_offset+w, :, 1][mask] = c_green[mask]\n",
    "                left[cell_offset:cell_offset+w, :, 2][mask] = c_blue[mask]\n",
    "    \n",
    "                merged[cell_offset:cell_offset+w, :w, :][mask] = left[cell_offset:cell_offset+w, :, :][mask]\n",
    "            except BaseException as e:\n",
    "                print(e)\n",
    "    for k,v in right_offsets.items():\n",
    "        if d in files[k]:\n",
    "            fj = files[k][d]\n",
    "            try:\n",
    "                scl = np.repeat(np.repeat(rasterio.open(fj[\"SCL\"], driver=\"JP2OpenJPEG\").read(1), 2, 0), 2, 1)\n",
    "                c_red = np.clip(rasterio.open(fj[\"B04\"], driver=\"JP2OpenJPEG\").read(1)*gain/10000, 0, 1)\n",
    "                c_green = np.clip(rasterio.open(fj[\"B03\"], driver=\"JP2OpenJPEG\").read(1)*gain/10000, 0, 1) \n",
    "                c_blue = np.clip(rasterio.open(fj[\"B02\"], driver=\"JP2OpenJPEG\").read(1)*gain/10000, 0, 1)\n",
    "    \n",
    "                print(d, k)\n",
    "                cell_offset = v*w\n",
    "                mask = ((scl != 0) & (scl != 1) & (scl != 3) & (scl != 7) & (scl != 8) & (scl != 9) & (scl != 10))\n",
    "                right[cell_offset:cell_offset+w, :, 0][mask] = c_red[mask]\n",
    "                right[cell_offset:cell_offset+w, :, 1][mask] = c_green[mask]\n",
    "                right[cell_offset:cell_offset+w, :, 2][mask] = c_blue[mask]\n",
    "\n",
    "                temp_right = rotate(right, deg, reshape=False)\n",
    "                temp_scl = np.zeros((h, w))\n",
    "                temp_scl[cell_offset:cell_offset+w, :] = scl\n",
    "                temp_scl = rotate(temp_scl, deg, reshape=False)\n",
    "                \n",
    "                mask = ((temp_scl != 0) & (temp_scl != 1) & (temp_scl != 3) & (temp_scl != 7) & (temp_scl != 8) & (temp_scl != 9) & (temp_scl != 10))\n",
    "                \n",
    "                s = w-4750\n",
    "                merged[:, s:w+s, :][mask] = np.clip(temp_right[mask], 0, 1)\n",
    "            except BaseException as e:\n",
    "                print(e)\n",
    "            "
   ]
  },
  {
   "cell_type": "code",
   "execution_count": null,
   "id": "e9ecb111-b577-455b-84d5-c3e1df4d5385",
   "metadata": {},
   "outputs": [],
   "source": [
    "plt.imshow(left)"
   ]
  },
  {
   "cell_type": "code",
   "execution_count": null,
   "id": "dd0c4010-3af1-41fe-9ccc-99014906d6f0",
   "metadata": {},
   "outputs": [],
   "source": [
    "plt.imshow(right)"
   ]
  },
  {
   "cell_type": "code",
   "execution_count": null,
   "id": "935fbc9d-8c49-4113-9cb2-f514a7f4e6e7",
   "metadata": {},
   "outputs": [],
   "source": [
    "plt.imshow(merged)"
   ]
  },
  {
   "cell_type": "code",
   "execution_count": null,
   "id": "5ee5dcb3-b032-433b-b52d-03840f2c5370",
   "metadata": {},
   "outputs": [],
   "source": []
  },
  {
   "cell_type": "code",
   "execution_count": null,
   "id": "dec62cc0-6a7b-4362-b76a-67b1163b73d6",
   "metadata": {},
   "outputs": [],
   "source": []
  },
  {
   "cell_type": "code",
   "execution_count": null,
   "id": "3dcfedea-d5fa-4f2d-a85c-00d045c1b4ce",
   "metadata": {},
   "outputs": [],
   "source": []
  }
 ],
 "metadata": {
  "kernelspec": {
   "display_name": "Python 3 (ipykernel)",
   "language": "python",
   "name": "python3"
  },
  "language_info": {
   "codemirror_mode": {
    "name": "ipython",
    "version": 3
   },
   "file_extension": ".py",
   "mimetype": "text/x-python",
   "name": "python",
   "nbconvert_exporter": "python",
   "pygments_lexer": "ipython3",
   "version": "3.13.2"
  }
 },
 "nbformat": 4,
 "nbformat_minor": 5
}
