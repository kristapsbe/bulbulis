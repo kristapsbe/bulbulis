{
 "cells": [
  {
   "cell_type": "code",
   "execution_count": 1,
   "id": "8eb4eefe-29c6-4515-bf76-f453800e917e",
   "metadata": {},
   "outputs": [],
   "source": [
    "import os\n",
    "import cv2 \n",
    "import numpy as np\n",
    "import rasterio\n",
    "\n",
    "from scipy.ndimage import zoom, rotate\n",
    "from matplotlib import pyplot as plt \n"
   ]
  },
  {
   "cell_type": "code",
   "execution_count": 2,
   "id": "542aad4a-349c-4b0e-b08b-0745a0463feb",
   "metadata": {},
   "outputs": [],
   "source": [
    "# T34VFJ and T35VLD = Riga\n"
   ]
  },
  {
   "cell_type": "code",
   "execution_count": 3,
   "id": "9b1ebf16-86ff-44bb-9cd2-2e75381ac4f8",
   "metadata": {},
   "outputs": [],
   "source": [
    "files = {}\n",
    "\n",
    "for f in os.listdir(\"/home/kristaps/Projs/bulbulis/data\"):\n",
    "    if \".jp2\" in f:\n",
    "        parts = f.split(\"_\")\n",
    "        if parts[0] not in files:\n",
    "            files[parts[0]] = {}\n",
    "        if parts[1] not in files[parts[0]]:\n",
    "            files[parts[0]][parts[1]] = {}\n",
    "        files[parts[0]][parts[1]][parts[2]] = f\"/home/kristaps/Projs/bulbulis/data/{f}\"\n"
   ]
  },
  {
   "cell_type": "code",
   "execution_count": 4,
   "id": "fa1289ed-9810-499e-a9f9-dd2ad40dcb94",
   "metadata": {},
   "outputs": [],
   "source": [
    "dates = []\n",
    "for f in files.values():\n",
    "    dates += list(f.keys())\n",
    "dates = sorted(list(set(dates)))\n",
    "    "
   ]
  },
  {
   "cell_type": "code",
   "execution_count": 5,
   "id": "b1c5826a-8fb8-4ce1-a22b-cf69449080a3",
   "metadata": {},
   "outputs": [],
   "source": [
    "T34VFJ = np.dstack((np.full((10980, 10980), 0.0), np.full((10980, 10980), 0.0), np.full((10980, 10980), 0.0)))\n",
    "T35VLD = np.dstack((np.full((10980, 10980), 0.0), np.full((10980, 10980), 0.0), np.full((10980, 10980), 0.0)))\n",
    "\n",
    "merged = np.dstack((np.full((11380, 21960), 0.0), np.full((11380, 21960), 0.0), np.full((11380, 21960), 0.0)))\n"
   ]
  },
  {
   "cell_type": "code",
   "execution_count": null,
   "id": "06850986-1fcc-44f7-a995-d7cbfdd3add7",
   "metadata": {},
   "outputs": [
    {
     "name": "stdout",
     "output_type": "stream",
     "text": [
      "20150810T100016 T34VFJ\n"
     ]
    }
   ],
   "source": [
    "gain = 2\n",
    "\n",
    "for d in dates[10:20]:\n",
    "    if d in files[\"T34VFJ\"]:\n",
    "        fj = files[\"T34VFJ\"][d]\n",
    "        try:\n",
    "            scl = np.repeat(np.repeat(rasterio.open(fj[\"SCL\"], driver=\"JP2OpenJPEG\").read(1), 2, 0), 2, 1)\n",
    "            c_red = np.clip(rasterio.open(fj[\"B04\"], driver=\"JP2OpenJPEG\").read(1)*gain/10000, 0, 1)\n",
    "            c_green = np.clip(rasterio.open(fj[\"B03\"], driver=\"JP2OpenJPEG\").read(1)*gain/10000, 0, 1) \n",
    "            c_blue = np.clip(rasterio.open(fj[\"B02\"], driver=\"JP2OpenJPEG\").read(1)*gain/10000, 0, 1)\n",
    "            \n",
    "            mask = ((scl != 0) & (scl != 1) & (scl != 3) & (scl != 7) & (scl != 8) & (scl != 9) & (scl != 10))\n",
    "\n",
    "            print(d, \"T34VFJ\")\n",
    "            T34VFJ[:, :, 0][mask] = c_red[mask]\n",
    "            T34VFJ[:, :, 1][mask] = c_green[mask]\n",
    "            T34VFJ[:, :, 2][mask] = c_blue[mask]\n",
    "\n",
    "            offset = 200 # 280\n",
    "            merged[offset:10980+offset, :10980, 0][mask] = c_red[mask]\n",
    "            merged[offset:10980+offset, :10980, 1][mask] = c_green[mask]\n",
    "            merged[offset:10980+offset, :10980, 2][mask] = c_blue[mask]\n",
    "        except BaseException as e:\n",
    "            print(e)\n",
    "    if d in files[\"T35VLD\"]:\n",
    "        fj = files[\"T35VLD\"][d]\n",
    "        try:\n",
    "            deg = 5\n",
    "            scl = rotate(np.repeat(np.repeat(rasterio.open(fj[\"SCL\"], driver=\"JP2OpenJPEG\").read(1), 2, 0), 2, 1), deg, reshape=False)\n",
    "            c_red = np.clip(rotate(rasterio.open(fj[\"B04\"], driver=\"JP2OpenJPEG\").read(1), deg, reshape=False)*gain/10000, 0, 1)\n",
    "            c_green = np.clip(rotate(rasterio.open(fj[\"B03\"], driver=\"JP2OpenJPEG\").read(1), deg, reshape=False)*gain/10000, 0, 1)\n",
    "            c_blue = np.clip(rotate(rasterio.open(fj[\"B02\"], driver=\"JP2OpenJPEG\").read(1), deg, reshape=False)*gain/10000, 0, 1)\n",
    "            \n",
    "            mask = ((scl != 0) & (scl != 1) & (scl != 3) & (scl != 7) & (scl != 8) & (scl != 9) & (scl != 10))\n",
    "\n",
    "            print(d, \"T35VLD\")\n",
    "            T35VLD[:, :, 0][mask] = c_red[mask]\n",
    "            T35VLD[:, :, 1][mask] = c_green[mask]\n",
    "            T35VLD[:, :, 2][mask] = c_blue[mask]\n",
    "\n",
    "            s = 10980-4700 # 4750\n",
    "            merged[:10980, s:10980+s, 0][mask] = c_red[mask]\n",
    "            merged[:10980, s:10980+s, 1][mask] = c_green[mask]\n",
    "            merged[:10980, s:10980+s, 2][mask] = c_blue[mask]\n",
    "        except BaseException as e:\n",
    "            print(e)\n",
    "            "
   ]
  },
  {
   "cell_type": "code",
   "execution_count": null,
   "id": "0ffe6910-4767-47dd-a050-73304375e043",
   "metadata": {},
   "outputs": [],
   "source": [
    "plt.imshow(T34VFJ)"
   ]
  },
  {
   "cell_type": "code",
   "execution_count": null,
   "id": "7cfa0be1-17da-4725-a843-1811dc37724f",
   "metadata": {},
   "outputs": [],
   "source": [
    "plt.imshow(T35VLD)"
   ]
  },
  {
   "cell_type": "code",
   "execution_count": null,
   "id": "d6b5de64-5cf3-4e60-8131-a127ad6b6483",
   "metadata": {},
   "outputs": [],
   "source": [
    "plt.imshow(merged)"
   ]
  },
  {
   "cell_type": "code",
   "execution_count": null,
   "id": "6265743d-6175-46f5-b826-9e821efe5308",
   "metadata": {},
   "outputs": [],
   "source": []
  }
 ],
 "metadata": {
  "kernelspec": {
   "display_name": "Python 3 (ipykernel)",
   "language": "python",
   "name": "python3"
  },
  "language_info": {
   "codemirror_mode": {
    "name": "ipython",
    "version": 3
   },
   "file_extension": ".py",
   "mimetype": "text/x-python",
   "name": "python",
   "nbconvert_exporter": "python",
   "pygments_lexer": "ipython3",
   "version": "3.13.2"
  }
 },
 "nbformat": 4,
 "nbformat_minor": 5
}
