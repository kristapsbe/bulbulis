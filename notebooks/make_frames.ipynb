{
 "cells": [
  {
   "cell_type": "code",
   "execution_count": 1,
   "id": "0b0b4487-7698-4e0b-9d4f-5ce1b8d5c561",
   "metadata": {},
   "outputs": [],
   "source": [
    "import os\n",
    "import numpy as np\n",
    "import rasterio\n",
    "import matplotlib.image\n",
    "\n",
    "from pathlib import Path\n"
   ]
  },
  {
   "cell_type": "code",
   "execution_count": 2,
   "id": "b60246ca-08e3-4659-bf1b-642a53a6bce5",
   "metadata": {},
   "outputs": [],
   "source": [
    "files = {}\n",
    "\n",
    "for f in os.listdir(\"data\"):\n",
    "    if \".jp2\" in f:\n",
    "        parts = f.split(\"_\")\n",
    "        if parts[0] not in files:\n",
    "            files[parts[0]] = {}\n",
    "        if parts[1] not in files[parts[0]]:\n",
    "            files[parts[0]][parts[1]] = {}\n",
    "        files[parts[0]][parts[1]][parts[2]] = f\"data/{f}\"\n"
   ]
  },
  {
   "cell_type": "code",
   "execution_count": 3,
   "id": "5707eca5-1eae-4570-ab92-44c31db28571",
   "metadata": {
    "scrolled": true
   },
   "outputs": [],
   "source": [
    "dates = []\n",
    "for f in files.values():\n",
    "    dates += list(f.keys())\n",
    "dates = sorted(list(set(dates)))\n",
    "    "
   ]
  },
  {
   "cell_type": "code",
   "execution_count": 4,
   "id": "d735690e-d4cb-4073-9ead-b41171a01a02",
   "metadata": {
    "scrolled": true
   },
   "outputs": [],
   "source": [
    "dates = [d for d in dates if '2022' == d[:4] or '2023' == d[:4]]\n"
   ]
  },
  {
   "cell_type": "code",
   "execution_count": 5,
   "id": "6d21af98-25b4-42e0-bee0-be32ec2d0e40",
   "metadata": {},
   "outputs": [],
   "source": [
    "s = 0\n",
    "c = 4550\n",
    "\n",
    "sj = 200\n",
    "\n",
    "offsets = {\n",
    "    'T34UDG': (30000+s, 0),\n",
    "    'T34UEG': (30000+s, 10000),\n",
    "    'T34UFG': (30000+s, 20000),\n",
    "    'T34VDH': (20000+s, 0),\n",
    "    'T34VDJ': (10000+s, 0),\n",
    "    'T34VDK': (0+s, 0), # top left\n",
    "    'T34VEH': (20000+s, 10000),\n",
    "    'T34VEJ': (10000+s, 10000),\n",
    "    'T34VEK': (0+s, 10000),\n",
    "    'T34VFH': (20000+s, 20000),\n",
    "    'T34VFJ': (10000+s, 20000),\n",
    "    'T34VFK': (0+s, 20000),\n",
    "    'T35ULB': (30000+sj, 30980-c),\n",
    "    'T35UMB': (30000+sj, 40980-c),\n",
    "    'T35UNB': (30000+sj, 50980-c),\n",
    "    'T35VLC': (20000+sj, 30980-c),\n",
    "    'T35VLD': (10000+sj, 30980-c),\n",
    "    'T35VLE': (0+sj, 30980-c),\n",
    "    'T35VMC': (20000+sj, 40980-c),\n",
    "    'T35VMD': (10000+sj, 40980-c),\n",
    "    'T35VME': (0+sj, 40980-c),\n",
    "    'T35VNC': (20000+sj, 50980-c),\n",
    "    'T35VND': (10000+sj, 50980-c),\n",
    "    'T35VNE': (0+sj, 50980-c)\n",
    "}\n"
   ]
  },
  {
   "cell_type": "code",
   "execution_count": 6,
   "id": "e67ce433-a9c6-42c3-94bc-5cd37d1cc844",
   "metadata": {},
   "outputs": [],
   "source": [
    "not_seen = {\n",
    "    'T34UDG': 0,\n",
    "    'T34UEG': 0,\n",
    "    'T34UFG': 0,\n",
    "    'T34VDH': 0,\n",
    "    'T34VDJ': 0,\n",
    "    'T34VDK': 0,\n",
    "    'T34VEH': 0,\n",
    "    'T34VEJ': 0,\n",
    "    'T34VEK': 0,\n",
    "    'T34VFH': 0,\n",
    "    'T34VFJ': 0,\n",
    "    'T34VFK': 0,\n",
    "    'T35ULB': 0,\n",
    "    'T35UMB': 0,\n",
    "    #'T35UNB': 0,\n",
    "    'T35VLC': 0,\n",
    "    'T35VLD': 0,\n",
    "    'T35VLE': 0,\n",
    "    'T35VMC': 0,\n",
    "    'T35VMD': 0,\n",
    "    'T35VME': 0,\n",
    "    #'T35VNC': 0,\n",
    "    #'T35VND': 0,\n",
    "    #'T35VNE': 0\n",
    "}\n"
   ]
  },
  {
   "cell_type": "code",
   "execution_count": 7,
   "id": "8c6aedfd-80cf-40b8-ae61-3f2b677b0074",
   "metadata": {},
   "outputs": [],
   "source": [
    "files = {k:v for k,v in files.items() if k in not_seen}\n"
   ]
  },
  {
   "cell_type": "code",
   "execution_count": null,
   "id": "9b0d3515-9f1f-420b-88aa-db3974f97c47",
   "metadata": {},
   "outputs": [],
   "source": [
    "rgb_composite = np.dstack(\n",
    "    #(np.full((41680, 57410), 0.0), np.full((41680, 57410), 0.0), np.full((41680, 57410), 0.0))\n",
    "    (np.full((41680, 47410), 0.0), np.full((41680, 47410), 0.0), np.full((41680, 47410), 0.0))\n",
    ")\n"
   ]
  },
  {
   "cell_type": "code",
   "execution_count": null,
   "id": "e9fc52eb-e0f8-4340-986f-2917a28cc90f",
   "metadata": {
    "scrolled": true
   },
   "outputs": [],
   "source": [
    "gain = 2\n",
    "\n",
    "for d in dates:\n",
    "    print(d)\n",
    "    for ki, vi in files.items():\n",
    "        if d in vi:\n",
    "            if ki in not_seen:\n",
    "                del not_seen[ki]\n",
    "            print(\"matched\", ki, d)\n",
    "            fj = vi[d]\n",
    "            try:\n",
    "                try:\n",
    "                    #print(\"reading SCL\", fj[\"SCL\"])\n",
    "                    scl = np.repeat(np.repeat(rasterio.open(fj[\"SCL\"], driver=\"JP2OpenJPEG\").read(1), 2, 0), 2, 1)\n",
    "                except BaseException as e:\n",
    "                    if os.path.isfile(fj[\"SCL\"]):\n",
    "                        print(\"REMOVED\", fj[\"SCL\"])\n",
    "                        os.remove(fj[\"SCL\"])\n",
    "                    raise e\n",
    "                \n",
    "                try:\n",
    "                    #print(\"reading red\", fj[\"B04\"])\n",
    "                    c_red = np.clip(rasterio.open(fj[\"B04\"], driver=\"JP2OpenJPEG\").read(1)*gain/10000, 0, 1)\n",
    "                except BaseException as e:\n",
    "                    if os.path.isfile(fj[\"B04\"]):\n",
    "                        print(\"REMOVED\", fj[\"B04\"])\n",
    "                        os.remove(fj[\"B04\"])\n",
    "                    raise e\n",
    "                try:\n",
    "                    #print(\"reading green\", fj[\"B03\"])\n",
    "                    c_green = np.clip(rasterio.open(fj[\"B03\"], driver=\"JP2OpenJPEG\").read(1)*gain/10000, 0, 1)             \n",
    "                except BaseException as e:\n",
    "                    if os.path.isfile(fj[\"B03\"]):\n",
    "                        print(\"REMOVED\", fj[\"B03\"])\n",
    "                        os.remove(fj[\"B03\"])\n",
    "                    raise e\n",
    "                try:\n",
    "                    #print(\"reading blue\", fj[\"B02\"])\n",
    "                    c_blue = np.clip(rasterio.open(fj[\"B02\"], driver=\"JP2OpenJPEG\").read(1)*gain/10000, 0, 1)              \n",
    "                except BaseException as e:\n",
    "                    if os.path.isfile(fj[\"B02\"]):\n",
    "                        print(\"REMOVED\", fj[\"B02\"])\n",
    "                        os.remove(fj[\"B02\"])\n",
    "                    raise e\n",
    "\n",
    "                mask = ((scl != 0) & (scl != 1))\n",
    "                #print(mask)\n",
    "                #red[mask] = c_red[mask]\n",
    "                #green[mask] = c_green[mask]\n",
    "                #blue[mask] = c_blue[mask]\n",
    "                #print(\"applying red\")\n",
    "                rgb_composite[offsets[ki][0]:offsets[ki][0]+mask.shape[0], offsets[ki][1]:offsets[ki][1]+mask.shape[1], 0][mask] = c_red[mask]\n",
    "                #print(\"applying green\")\n",
    "                rgb_composite[offsets[ki][0]:offsets[ki][0]+mask.shape[0], offsets[ki][1]:offsets[ki][1]+mask.shape[1], 1][mask] = c_green[mask]\n",
    "                #print(\"applying blue\")\n",
    "                rgb_composite[offsets[ki][0]:offsets[ki][0]+mask.shape[0], offsets[ki][1]:offsets[ki][1]+mask.shape[1], 2][mask] = c_green[mask]\n",
    "\n",
    "            except BaseException as e:\n",
    "                print(f\"ERROR: {ki} {d} failed with {e}\")\n",
    "        else:\n",
    "            print(\"no match\", ki, d)\n",
    "    #print(\"saving composite\")\n",
    "    if len(not_seen) > 0:\n",
    "        print(f\"missing cells, skipping save ({not_seen.keys()})\")\n",
    "    else:\n",
    "        print(\"saving composite\")\n",
    "        matplotlib.image.imsave(f\"{Path.home()}/Projs/bulbulis/notebooks/true_color_frames/{d}.jpeg\", rgb_composite)\n"
   ]
  },
  {
   "cell_type": "code",
   "execution_count": null,
   "id": "30936cf8-8a0a-41e5-bbab-245ac0fe01b6",
   "metadata": {},
   "outputs": [],
   "source": []
  }
 ],
 "metadata": {
  "kernelspec": {
   "display_name": "Python 3 (ipykernel)",
   "language": "python",
   "name": "python3"
  },
  "language_info": {
   "codemirror_mode": {
    "name": "ipython",
    "version": 3
   },
   "file_extension": ".py",
   "mimetype": "text/x-python",
   "name": "python",
   "nbconvert_exporter": "python",
   "pygments_lexer": "ipython3",
   "version": "3.13.2"
  }
 },
 "nbformat": 4,
 "nbformat_minor": 5
}
