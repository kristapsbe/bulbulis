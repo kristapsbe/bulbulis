{
 "cells": [
  {
   "cell_type": "code",
   "execution_count": 1,
   "id": "ddf3ef17-a853-4972-9e25-b66f2ed1d102",
   "metadata": {},
   "outputs": [],
   "source": [
    "import os\n"
   ]
  },
  {
   "cell_type": "code",
   "execution_count": 14,
   "id": "5a3939b4-0bd5-4749-8081-1877a7055f85",
   "metadata": {},
   "outputs": [
    {
     "data": {
      "text/plain": [
       "54172"
      ]
     },
     "execution_count": 14,
     "metadata": {},
     "output_type": "execute_result"
    }
   ],
   "source": [
    "len([f.split(\"_\")[:3] for f in os.listdir(\"/home/kristaps/Projs/bulbulis/data/\") if \".jp2\" in f])\n"
   ]
  },
  {
   "cell_type": "code",
   "execution_count": 15,
   "id": "22b76370-dc60-4e62-9b34-771d4eba3ca0",
   "metadata": {},
   "outputs": [],
   "source": [
    "parts = [f.split(\"_\")[:3] for f in os.listdir(\"/home/kristaps/Projs/bulbulis/data/\") if \".jp2\" in f]\n"
   ]
  },
  {
   "cell_type": "code",
   "execution_count": 16,
   "id": "b722b023-cdfb-4291-bdf0-e4209a48e9b1",
   "metadata": {},
   "outputs": [
    {
     "data": {
      "text/plain": [
       "1369"
      ]
     },
     "execution_count": 16,
     "metadata": {},
     "output_type": "execute_result"
    }
   ],
   "source": [
    "len(sorted(list(set([p[1][:8] for p in parts]))))"
   ]
  },
  {
   "cell_type": "code",
   "execution_count": 18,
   "id": "5f8f78ca-4fab-490c-b1dc-6b88935dc269",
   "metadata": {},
   "outputs": [],
   "source": [
    "dates = {}\n",
    "\n",
    "for d in list(set([p[1][:8] for p in parts])):\n",
    "    if d[:4] not in dates:\n",
    "        dates[d[:4]] = {\n",
    "            d[4:6]: 1\n",
    "        }\n",
    "    elif d[4:6] not in dates[d[:4]]:\n",
    "        dates[d[:4]][d[4:6]] = 1\n",
    "    else:\n",
    "        dates[d[:4]][d[4:6]] += 1\n",
    "        "
   ]
  },
  {
   "cell_type": "code",
   "execution_count": 22,
   "id": "02c7fd74-b6a1-4648-8ba1-fe7998170c8b",
   "metadata": {},
   "outputs": [
    {
     "name": "stdout",
     "output_type": "stream",
     "text": [
      "2015 => 07:10 | 08:22 | 09:14 | 10: 6 | 11:10 | 12:13\n",
      "2016 => 01:19 | 02:12 | 03:18 | 04: 8 | 05: 8 | 06: 5 | 07:13 | 08:16 | 09:15 | 10: 5 | 11: 2 | 12: 2\n",
      "2017 => 01: 5 | 02: 4 | 03: 9 | 04:12 | 05:15 | 06: 8 | 07:12 | 08:13 | 09: 8 | 10: 6 | 11: 2\n",
      "2018 => 01: 4 | 02: 2 | 03: 8 | 04:14 | 05:20 | 06:12 | 07:14 | 08: 9 | 09: 8 | 10:15 | 11: 6 | 12: 2\n",
      "2019 => 01: 3 | 02: 7 | 03: 5 | 04:22 | 05: 9 | 06:13 | 07:12 | 08:10 | 09: 7 | 10: 5 | 11: 1 | 12: 6\n",
      "2020 => 01: 5 | 02: 7 | 03:10 | 04:16 | 05:13 | 06:14 | 07: 8 | 08:14 | 09:11 | 10: 3 | 11: 6 | 12: 7\n",
      "2021 => 01:31 | 02:26 | 03:29 | 04:11 | 05:15 | 06:22 | 07:19 | 08:14 | 09:10 | 10:22 | 11:11 | 12:12\n",
      "2022 => 01:17 | 02: 4 | 03:22 | 04:26 | 05:13 | 06:17 | 07:21 | 08:13 | 09: 5 | 10:23 | 12: 3\n",
      "2023 => 01:25 | 02: 8 | 03: 6 | 04:26 | 05:24 | 06:19 | 07:31 | 08:29 | 09:30 | 10: 2 | 11: 4 | 12: 2\n",
      "2024 => 01: 5 | 02: 1 | 03: 9 | 04:14 | 05:24 | 06:21 | 07:12 | 08: 9 | 09:16 | 10:11 | 11: 3 | 12: 5\n",
      "2025 => 01:17 | 02:10\n"
     ]
    }
   ],
   "source": [
    "years = sorted(list(dates.keys()))\n",
    "for y in years:\n",
    "    months = sorted(list(dates[y].keys()))\n",
    "    print(f\"{y} => {\" | \".join([f\"{m}:{dates[y][m]:2}\" for m in months])}\")\n",
    "    "
   ]
  },
  {
   "cell_type": "code",
   "execution_count": null,
   "id": "9f94d677-6130-4e2f-8134-c5ae0253b41f",
   "metadata": {},
   "outputs": [],
   "source": []
  }
 ],
 "metadata": {
  "kernelspec": {
   "display_name": "Python 3 (ipykernel)",
   "language": "python",
   "name": "python3"
  },
  "language_info": {
   "codemirror_mode": {
    "name": "ipython",
    "version": 3
   },
   "file_extension": ".py",
   "mimetype": "text/x-python",
   "name": "python",
   "nbconvert_exporter": "python",
   "pygments_lexer": "ipython3",
   "version": "3.13.2"
  }
 },
 "nbformat": 4,
 "nbformat_minor": 5
}
