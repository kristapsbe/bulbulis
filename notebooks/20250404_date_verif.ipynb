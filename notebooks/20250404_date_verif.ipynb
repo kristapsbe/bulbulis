{
 "cells": [
  {
   "cell_type": "code",
   "execution_count": 929,
   "id": "ddf3ef17-a853-4972-9e25-b66f2ed1d102",
   "metadata": {},
   "outputs": [],
   "source": [
    "import os\n",
    "import numpy as np\n",
    "import matplotlib as mpl\n",
    "import matplotlib.pyplot as plt\n"
   ]
  },
  {
   "cell_type": "code",
   "execution_count": 930,
   "id": "fee76254-9013-4112-91c2-22f078178d10",
   "metadata": {},
   "outputs": [],
   "source": [
    "cells = {\n",
    "    'T34UDG', 'T34UEG', 'T34UFG', 'T34VDH', 'T34VDJ', 'T34VDK', 'T34VEH', 'T34VEJ', 'T34VEK', 'T34VFH', 'T34VFJ', 'T34VFK', \n",
    "    'T35ULB', 'T35UMB', 'T35UNB', 'T35VLC', 'T35VLD', 'T35VLE', 'T35VMC', 'T35VMD', 'T35VME', 'T35VNC', 'T35VND', 'T35VNE'\n",
    "}\n",
    "bands = {\n",
    "    'B02', 'B03', 'B04', 'B08', 'SCL'\n",
    "}\n",
    "parts = [f.split(\"_\")[:3] for f in os.listdir(\"/home/kristaps/Projs/bulbulis/data_verified/\") if \".jp2\" in f]\n",
    "date_coverage = {}\n",
    "for p in parts:\n",
    "    date = p[1][:8]\n",
    "    year = date[:4]\n",
    "    month = date[4:6]\n",
    "    if year not in date_coverage:\n",
    "        date_coverage[year] = {}\n",
    "    if month not in date_coverage[year]:\n",
    "        date_coverage[year][month] = {}\n",
    "    if date not in date_coverage[year][month]:\n",
    "        date_coverage[year][month][date] = {}\n",
    "    if p[0] not in date_coverage[year][month][date]:\n",
    "        date_coverage[year][month][date][p[0]] = set()\n",
    "    date_coverage[year][month][date][p[0]].add(p[2])\n"
   ]
  },
  {
   "cell_type": "code",
   "execution_count": 931,
   "id": "32aa4647-46ec-42b0-ac69-f5d5241d3822",
   "metadata": {},
   "outputs": [],
   "source": [
    "# number of days that have all channels available for all cells"
   ]
  },
  {
   "cell_type": "code",
   "execution_count": 932,
   "id": "21fa9e62-3819-41e5-ac45-e83e4f7608de",
   "metadata": {},
   "outputs": [
    {
     "name": "stdout",
     "output_type": "stream",
     "text": [
      "2017 => 01: 0 | 02: 0 | 03: 0 | 04: 0 | 05: 0 | 06: 0 | 07: 0 | 08: 0 | 09: 0 | 10: 0 | 11: 0 | 12: 0\n",
      "2018 => 01: 0 | 02: 0 | 03: 0 | 04: 0 | 05: 0 | 06: 0 | 07: 0 | 08: 0 | 09: 0 | 10: 0 | 11: 0 | 12: 0\n"
     ]
    }
   ],
   "source": [
    "years = sorted(list(date_coverage.keys()))\n",
    "months = [str(i).zfill(2) for i in range(1, 13)]\n",
    "for y in years:\n",
    "    print(f\"{y} => {\" | \".join([f\"{m}:{len({d for d,v in date_coverage[y].get(m, {}).items() if v == bands}):2}\" for m in months])}\")\n"
   ]
  },
  {
   "cell_type": "code",
   "execution_count": 933,
   "id": "e078dc95-c413-4b98-9e1c-ca0f7ba8e20a",
   "metadata": {},
   "outputs": [
    {
     "data": {
      "image/png": "[encoded data removed]",
      "text/plain": [
       "<Figure size 640x480 with 1 Axes>"
      ]
     },
     "metadata": {},
     "output_type": "display_data"
    }
   ],
   "source": [
    "coverage = np.array([[len({d for d,v in date_coverage[y].get(m, {}).items() if v == bands}) for m in months] for y in years])\n",
    "\n",
    "fig, ax = plt.subplots()\n",
    "im = ax.imshow(coverage)\n",
    "\n",
    "# Show all ticks and label them with the respective list entries\n",
    "ax.set_xticks(range(len(months)), labels=months, rotation=45, ha=\"right\", rotation_mode=\"anchor\")\n",
    "ax.set_yticks(range(len(years)), labels=years)\n",
    "\n",
    "# Loop over data dimensions and create text annotations.\n",
    "for i in range(len(years)):\n",
    "    for j in range(len(months)):\n",
    "        text = ax.text(j, i, coverage[i, j], ha=\"center\", va=\"center\", color=\"w\")\n",
    "\n",
    "fig.tight_layout()\n",
    "plt.show()\n"
   ]
  },
  {
   "cell_type": "code",
   "execution_count": 934,
   "id": "2b23e875-f8d7-4102-b7c9-0d1a39d08d26",
   "metadata": {},
   "outputs": [],
   "source": [
    "# number of days that have at least one channel available for at least one cell"
   ]
  },
  {
   "cell_type": "code",
   "execution_count": 935,
   "id": "6e2e39cb-7f56-4a5e-a974-d5613f46300d",
   "metadata": {},
   "outputs": [
    {
     "name": "stdout",
     "output_type": "stream",
     "text": [
      "2017 => 01: 0 | 02: 0 | 03: 0 | 04:28 | 05:26 | 06:27 | 07:23 | 08:22 | 09:28 | 10:30 | 11:27 | 12:30\n",
      "2018 => 01:31 | 02:13 | 03: 0 | 04: 0 | 05: 0 | 06: 0 | 07: 0 | 08: 0 | 09: 0 | 10: 0 | 11: 0 | 12: 0\n"
     ]
    }
   ],
   "source": [
    "years = sorted(list(date_coverage.keys()))\n",
    "months = [str(i).zfill(2) for i in range(1, 13)]\n",
    "for y in years:\n",
    "    print(f\"{y} => {\" | \".join([f\"{m}:{len({d for d,v in date_coverage[y].get(m, {}).items()}):2}\" for m in months])}\")\n"
   ]
  },
  {
   "cell_type": "code",
   "execution_count": 936,
   "id": "dd7fe701-008b-49eb-a4ad-14df004aff13",
   "metadata": {},
   "outputs": [
    {
     "data": {
      "image/png": "[encoded data removed]",
      "text/plain": [
       "<Figure size 640x480 with 1 Axes>"
      ]
     },
     "metadata": {},
     "output_type": "display_data"
    }
   ],
   "source": [
    "coverage = np.array([[len({d for d,v in date_coverage[y].get(m, {}).items()}) for m in months] for y in years])\n",
    "\n",
    "fig, ax = plt.subplots()\n",
    "im = ax.imshow(coverage)\n",
    "\n",
    "# Show all ticks and label them with the respective list entries\n",
    "ax.set_xticks(range(len(months)), labels=months, rotation=45, ha=\"right\", rotation_mode=\"anchor\")\n",
    "ax.set_yticks(range(len(years)), labels=years)\n",
    "\n",
    "# Loop over data dimensions and create text annotations.\n",
    "for i in range(len(years)):\n",
    "    for j in range(len(months)):\n",
    "        text = ax.text(j, i, coverage[i, j], ha=\"center\", va=\"center\", color=\"w\")\n",
    "\n",
    "fig.tight_layout()\n",
    "plt.show()\n"
   ]
  },
  {
   "cell_type": "code",
   "execution_count": null,
   "id": "a31d4dd3-ae7c-4338-80bf-08a1eb2591bd",
   "metadata": {},
   "outputs": [],
   "source": []
  }
 ],
 "metadata": {
  "kernelspec": {
   "display_name": "Python 3 (ipykernel)",
   "language": "python",
   "name": "python3"
  },
  "language_info": {
   "codemirror_mode": {
    "name": "ipython",
    "version": 3
   },
   "file_extension": ".py",
   "mimetype": "text/x-python",
   "name": "python",
   "nbconvert_exporter": "python",
   "pygments_lexer": "ipython3",
   "version": "3.13.2"
  }
 },
 "nbformat": 4,
 "nbformat_minor": 5
}
