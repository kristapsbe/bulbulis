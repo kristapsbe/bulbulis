{
 "cells": [
  {
   "cell_type": "code",
   "execution_count": 1,
   "id": "de9c0f87-489f-4fb7-a4db-ed429cc677fc",
   "metadata": {},
   "outputs": [],
   "source": [
    "import os\n",
    "import cv2\n"
   ]
  },
  {
   "cell_type": "code",
   "execution_count": 2,
   "id": "be66d6f5-5bbb-4e63-977f-ba4804b70971",
   "metadata": {},
   "outputs": [],
   "source": [
    "tc_folder = \"/home/kristaps/Projs/bulbulis/true_color_frames/\"\n",
    "tc_files = sorted([f for f in os.listdir(tc_folder) if \".jpeg\"])\n",
    "file_ct = len(tc_files)\n",
    "\n",
    "input_folder = \"/home/kristaps/Projs/bulbulis/video_frames/\"\n"
   ]
  },
  {
   "cell_type": "code",
   "execution_count": null,
   "id": "8623a35d-2e09-4407-8593-0a42b862fda2",
   "metadata": {},
   "outputs": [],
   "source": [
    "multip = 1.46\n",
    "h_offset = 320\n",
    "w_offset = 0\n",
    "yw = 3840*multip/file_ct*360\n",
    "\n",
    "for f in list(enumerate(tc_files)):\n",
    "    img = cv2.imread(f'{tc_folder}{f[1]}')\n",
    "    d = f[1].split(\".\")[0]\n",
    "    cv2.putText(img, f\"{d[6:]}.{d[4:6]}.{d[:4]}\", (w_offset+100, int(2160*multip)+h_offset-100), cv2.FONT_HERSHEY_SIMPLEX, 1.5, (0, 255, 0), 2, cv2.LINE_AA)\n",
    "    cv2.rectangle(img, (w_offset, int(2160*multip)+h_offset-50), (w_offset+int(3840*multip), int(2160*multip)+h_offset), (255, 255, 255), -1)\n",
    "    cv2.rectangle(img, (w_offset, int(2160*multip)+h_offset-50), (int((w_offset+int(3840*multip))*(f[0]/file_ct)), int(2160*multip)+h_offset), (255, 0, 0), -1)\n",
    "    for i in range(1, (file_ct%365)+1):\n",
    "        cv2.rectangle(img, (int(w_offset+i*yw), int(2160*multip)+h_offset-50), (int(w_offset+i*yw+4), int(2160*multip)+h_offset), (0, 0, 0), -1)\n",
    "    cv2.imwrite(f'{input_folder}{f[1]}', img[h_offset:h_offset+int(2160*multip), w_offset:w_offset+int(3840*multip)])\n",
    "    cv2.waitKey(0)\n",
    "    cv2.destroyAllWindows()\n"
   ]
  },
  {
   "cell_type": "code",
   "execution_count": null,
   "id": "6498a7f7-4ad9-4175-acf8-b150bb7eb93d",
   "metadata": {},
   "outputs": [],
   "source": [
    "files = sorted([f for f in os.listdir(input_folder) if \".jpeg\"])\n",
    "    "
   ]
  },
  {
   "cell_type": "code",
   "execution_count": null,
   "id": "eb87d353-4fb8-4925-bb68-d3f25da42146",
   "metadata": {},
   "outputs": [],
   "source": [
    "len(files)\n"
   ]
  },
  {
   "cell_type": "code",
   "execution_count": null,
   "id": "e5906864-a0c2-4c10-8569-a9cb6db3c91a",
   "metadata": {},
   "outputs": [],
   "source": [
    "# https://www.kaggle.com/discussions/general/491147\n",
    "def convert_images_to_video(image_files, input_folder, output_file, fps):\n",
    "    first_image = cv2.imread(os.path.join(input_folder, image_files[0]))\n",
    "    height, width, _ = first_image.shape\n",
    "\n",
    "    fourcc = cv2.VideoWriter_fourcc(*'mp4v')\n",
    "    video = cv2.VideoWriter(output_file, fourcc, fps, (width, height))\n",
    "\n",
    "    for image_file in image_files:\n",
    "        image_path = os.path.join(input_folder, image_file)\n",
    "        frame = cv2.imread(image_path)\n",
    "        video.write(frame)\n",
    "\n",
    "    video.release()\n",
    "    cv2.destroyAllWindows()\n",
    "    "
   ]
  },
  {
   "cell_type": "code",
   "execution_count": null,
   "id": "6e4c98ae-a574-41ce-91dd-758bf20a2de4",
   "metadata": {},
   "outputs": [],
   "source": [
    "output_file = '/home/kristaps/Projs/bulbulis/video/video.mp4'\n",
    "fps = 2\n",
    "\n",
    "convert_images_to_video(files, input_folder, output_file, fps)\n"
   ]
  },
  {
   "cell_type": "code",
   "execution_count": null,
   "id": "04b5d80f-9381-4ab6-814e-63d9cc7fbbd3",
   "metadata": {},
   "outputs": [],
   "source": []
  }
 ],
 "metadata": {
  "kernelspec": {
   "display_name": "Python 3 (ipykernel)",
   "language": "python",
   "name": "python3"
  },
  "language_info": {
   "codemirror_mode": {
    "name": "ipython",
    "version": 3
   },
   "file_extension": ".py",
   "mimetype": "text/x-python",
   "name": "python",
   "nbconvert_exporter": "python",
   "pygments_lexer": "ipython3",
   "version": "3.13.2"
  }
 },
 "nbformat": 4,
 "nbformat_minor": 5
}
