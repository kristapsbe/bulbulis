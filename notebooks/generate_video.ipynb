{
 "cells": [
  {
   "cell_type": "code",
   "execution_count": 2,
   "id": "de9c0f87-489f-4fb7-a4db-ed429cc677fc",
   "metadata": {},
   "outputs": [],
   "source": [
    "import os\n"
   ]
  },
  {
   "cell_type": "code",
   "execution_count": 6,
   "id": "6498a7f7-4ad9-4175-acf8-b150bb7eb93d",
   "metadata": {},
   "outputs": [],
   "source": [
    "files = [\n",
    "    f for f in os.listdir(\"/home/kristaps/Projs/bulbulis/true_color_frames\") if \".jpeg\" in f and f[:4] == \"2018\"\n",
    "]\n",
    "    "
   ]
  },
  {
   "cell_type": "code",
   "execution_count": null,
   "id": "eb87d353-4fb8-4925-bb68-d3f25da42146",
   "metadata": {},
   "outputs": [],
   "source": []
  }
 ],
 "metadata": {
  "kernelspec": {
   "display_name": "Python 3 (ipykernel)",
   "language": "python",
   "name": "python3"
  },
  "language_info": {
   "codemirror_mode": {
    "name": "ipython",
    "version": 3
   },
   "file_extension": ".py",
   "mimetype": "text/x-python",
   "name": "python",
   "nbconvert_exporter": "python",
   "pygments_lexer": "ipython3",
   "version": "3.13.2"
  }
 },
 "nbformat": 4,
 "nbformat_minor": 5
}
