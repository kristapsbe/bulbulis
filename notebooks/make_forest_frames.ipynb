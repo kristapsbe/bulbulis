{
 "cells": [
  {
   "cell_type": "code",
   "execution_count": null,
   "id": "685bb99e-8bac-405b-940c-d246db0efbba",
   "metadata": {},
   "outputs": [],
   "source": [
    "import os\n",
    "import numpy as np\n",
    "import rasterio\n",
    "import matplotlib.image\n",
    "\n",
    "from pathlib import Path\n"
   ]
  },
  {
   "cell_type": "code",
   "execution_count": null,
   "id": "9aca3796-5aa2-40b2-b554-55e6a1069505",
   "metadata": {},
   "outputs": [],
   "source": [
    "files = {}\n",
    "\n",
    "for f in os.listdir(\"data\"):\n",
    "    if \".jp2\" in f:\n",
    "        parts = f.split(\"_\")\n",
    "        if parts[0] not in files:\n",
    "            files[parts[0]] = {}\n",
    "        if parts[1] not in files[parts[0]]:\n",
    "            files[parts[0]][parts[1]] = {}\n",
    "        files[parts[0]][parts[1]][parts[2]] = f\"data/{f}\"\n"
   ]
  },
  {
   "cell_type": "code",
   "execution_count": null,
   "id": "7e346ba8-1d12-4779-9e5b-d29c93f6a94f",
   "metadata": {},
   "outputs": [],
   "source": [
    "dates = []\n",
    "for f in files.values():\n",
    "    dates += list(f.keys())\n",
    "dates = sorted(list(set(dates)))\n",
    "    "
   ]
  },
  {
   "cell_type": "code",
   "execution_count": null,
   "id": "dbaf8914-cba3-4514-b90b-5114a5837a11",
   "metadata": {},
   "outputs": [],
   "source": [
    "dates = [d for d in dates if '2022' == d[:4] or '2023' == d[:4]]\n"
   ]
  },
  {
   "cell_type": "code",
   "execution_count": null,
   "id": "0958febe-3740-4d06-95ec-26b07bc0149c",
   "metadata": {},
   "outputs": [],
   "source": [
    "s = 0\n",
    "c = 4550\n",
    "\n",
    "sj = 200\n",
    "\n",
    "offsets = {\n",
    "    'T34UDG': (30000+s, 0),\n",
    "    'T34UEG': (30000+s, 10000),\n",
    "    'T34UFG': (30000+s, 20000),\n",
    "    'T34VDH': (20000+s, 0),\n",
    "    'T34VDJ': (10000+s, 0),\n",
    "    'T34VDK': (0+s, 0), # top left\n",
    "    'T34VEH': (20000+s, 10000),\n",
    "    'T34VEJ': (10000+s, 10000),\n",
    "    'T34VEK': (0+s, 10000),\n",
    "    'T34VFH': (20000+s, 20000),\n",
    "    'T34VFJ': (10000+s, 20000),\n",
    "    'T34VFK': (0+s, 20000),\n",
    "    'T35ULB': (30000+sj, 30980-c),\n",
    "    'T35UMB': (30000+sj, 40980-c),\n",
    "    'T35UNB': (30000+sj, 50980-c),\n",
    "    'T35VLC': (20000+sj, 30980-c),\n",
    "    'T35VLD': (10000+sj, 30980-c),\n",
    "    'T35VLE': (0+sj, 30980-c),\n",
    "    'T35VMC': (20000+sj, 40980-c),\n",
    "    'T35VMD': (10000+sj, 40980-c),\n",
    "    'T35VME': (0+sj, 40980-c),\n",
    "    'T35VNC': (20000+sj, 50980-c),\n",
    "    'T35VND': (10000+sj, 50980-c),\n",
    "    'T35VNE': (0+sj, 50980-c)\n",
    "}\n"
   ]
  },
  {
   "cell_type": "code",
   "execution_count": null,
   "id": "de1bce5e-8d3b-4d4e-a392-c84ec1d2b69b",
   "metadata": {},
   "outputs": [],
   "source": [
    "not_seen = {\n",
    "    'T34UDG': 0,\n",
    "    'T34UEG': 0,\n",
    "    'T34UFG': 0,\n",
    "    'T34VDH': 0,\n",
    "    'T34VDJ': 0,\n",
    "    'T34VDK': 0,\n",
    "    'T34VEH': 0,\n",
    "    'T34VEJ': 0,\n",
    "    'T34VEK': 0,\n",
    "    'T34VFH': 0,\n",
    "    'T34VFJ': 0,\n",
    "    'T34VFK': 0,\n",
    "    'T35ULB': 0,\n",
    "    'T35UMB': 0,\n",
    "    #'T35UNB': 0,\n",
    "    'T35VLC': 0,\n",
    "    'T35VLD': 0,\n",
    "    'T35VLE': 0,\n",
    "    'T35VMC': 0,\n",
    "    'T35VMD': 0,\n",
    "    'T35VME': 0,\n",
    "    #'T35VNC': 0,\n",
    "    #'T35VND': 0,\n",
    "    #'T35VNE': 0\n",
    "}\n"
   ]
  },
  {
   "cell_type": "code",
   "execution_count": null,
   "id": "90234e7f-206c-4a42-9105-10e3f3975d65",
   "metadata": {},
   "outputs": [],
   "source": [
    "files = {k:v for k,v in files.items() if k in not_seen}\n"
   ]
  },
  {
   "cell_type": "code",
   "execution_count": null,
   "id": "be0f20e9-de38-4005-8f26-b622264ed8f7",
   "metadata": {},
   "outputs": [],
   "source": [
    "rgb_composite = np.dstack(\n",
    "    #(np.full((41680, 57410), 0.0), np.full((41680, 57410), 0.0), np.full((41680, 57410), 0.0))\n",
    "    (np.full((41680, 47410), 0.0), np.full((41680, 47410), 0.0), np.full((41680, 47410), 0.0))\n",
    ")\n"
   ]
  },
  {
   "cell_type": "code",
   "execution_count": null,
   "id": "76885777-d5d6-4083-b569-3bcf800544f0",
   "metadata": {},
   "outputs": [],
   "source": [
    "for d in dates:\n",
    "    print(d)\n",
    "    for ki, vi in files.items():\n",
    "        if d in vi:\n",
    "            if ki in not_seen:\n",
    "                del not_seen[ki]\n",
    "            print(\"matched\", ki, d)\n",
    "            fj = vi[d]\n",
    "            try:\n",
    "                try:\n",
    "                    #print(\"reading SCL\", fj[\"SCL\"])\n",
    "                    scl = np.repeat(np.repeat(rasterio.open(fj[\"SCL\"], driver=\"JP2OpenJPEG\").read(1), 2, 0), 2, 1)\n",
    "                except BaseException as e:\n",
    "                    if os.path.isfile(fj[\"SCL\"]):\n",
    "                        print(\"REMOVED\", fj[\"SCL\"])\n",
    "                        os.remove(fj[\"SCL\"])\n",
    "                    raise e\n",
    "                \n",
    "                try:\n",
    "                    #print(\"reading red\", fj[\"B04\"])\n",
    "                    c_b04 = rasterio.open(fj[\"B04\"], driver=\"JP2OpenJPEG\").read(1)/10000\n",
    "                except BaseException as e:\n",
    "                    if os.path.isfile(fj[\"B04\"]):\n",
    "                        print(\"REMOVED\", fj[\"B04\"])\n",
    "                        os.remove(fj[\"B04\"])\n",
    "                    raise e\n",
    "                try:\n",
    "                    c_b08 = rasterio.open(fj[\"B08\"], driver=\"JP2OpenJPEG\").read(1)/10000           \n",
    "                except BaseException as e:\n",
    "                    if os.path.isfile(fj[\"B08\"]):\n",
    "                        print(\"REMOVED\", fj[\"B08\"])\n",
    "                        os.remove(fj[\"B08\"])\n",
    "                    raise e\n",
    "\n",
    "                mask = ((scl != 0) & (scl != 1) & (scl != 3) & (scl != 7) & (scl != 8) & (scl != 9) & (scl != 10))\n",
    "                ndvi = ((c_b08-c_b04)/(c_b08+c_b04))\n",
    "                clipped = np.clip(ndvi, 0.0, 1.0)\n",
    "                clipped[clipped < 0.4] = 0.0\n",
    "                rgb_composite[offsets[ki][0]:offsets[ki][0]+mask.shape[0], offsets[ki][1]:offsets[ki][1]+mask.shape[1], 1][mask] = clipped[mask]\n",
    "\n",
    "            except BaseException as e:\n",
    "                print(f\"ERROR: {ki} {d} failed with {e}\")\n",
    "        else:\n",
    "            print(\"no match\", ki, d)\n",
    "    #print(\"saving composite\")\n",
    "    if len(not_seen) > 0:\n",
    "        print(f\"missing cells, skipping save ({not_seen.keys()})\")\n",
    "    else:\n",
    "        print(\"saving composite\")\n",
    "        matplotlib.image.imsave(f\"{Path.home()}/Projs/bulbulis/notebooks/forest_frames/{d}.jpeg\", rgb_composite)\n"
   ]
  },
  {
   "cell_type": "code",
   "execution_count": null,
   "id": "43f6de87-13d6-41d2-b994-a5dd8871e12d",
   "metadata": {},
   "outputs": [],
   "source": []
  }
 ],
 "metadata": {
  "kernelspec": {
   "display_name": "Python 3 (ipykernel)",
   "language": "python",
   "name": "python3"
  },
  "language_info": {
   "codemirror_mode": {
    "name": "ipython",
    "version": 3
   },
   "file_extension": ".py",
   "mimetype": "text/x-python",
   "name": "python",
   "nbconvert_exporter": "python",
   "pygments_lexer": "ipython3",
   "version": "3.13.2"
  }
 },
 "nbformat": 4,
 "nbformat_minor": 5
}
